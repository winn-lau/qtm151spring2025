{
 "cells": [
  {
   "cell_type": "markdown",
   "metadata": {},
   "source": [
    "# Quiz 4"
   ]
  },
  {
   "attachments": {},
   "cell_type": "markdown",
   "metadata": {},
   "source": [
    "## Try to submit as an HTML file"
   ]
  },
  {
   "attachments": {},
   "cell_type": "markdown",
   "metadata": {},
   "source": [
    "<font size = \"5\">\n",
    "Print your name below"
   ]
  },
  {
   "cell_type": "code",
   "execution_count": 1,
   "metadata": {},
   "outputs": [
    {
     "name": "stdout",
     "output_type": "stream",
     "text": [
      "Winnie Lau\n"
     ]
    }
   ],
   "source": [
    "# Write your answer here:\n",
    "print(\"Winnie Lau\")"
   ]
  },
  {
   "cell_type": "markdown",
   "metadata": {},
   "source": [
    "<font size = \"5\" >\n",
    "This quiz is open book \n",
    "\n",
    "- You can use the lecture notes\n",
    "- You will get partial credit for attempting the questions\n",
    "- To get full credit, the code should run as intended\n",
    "- You should <span style=\"color:red\"> NOT </span> communicate with other students\n",
    "\n",
    "Write the following message as a comment: <br>\n",
    "\n",
    "\"I will abide by Emory's code of conduct\"\n"
   ]
  },
  {
   "cell_type": "code",
   "execution_count": 2,
   "metadata": {},
   "outputs": [
    {
     "name": "stdout",
     "output_type": "stream",
     "text": [
      "I will abide by Emory's code of conduct\n"
     ]
    }
   ],
   "source": [
    "# Write your own code\n",
    "print(\"I will abide by Emory's code of conduct\")"
   ]
  },
  {
   "cell_type": "code",
   "execution_count": 3,
   "metadata": {},
   "outputs": [],
   "source": [
    "# Write your answer here:\n",
    "\n",
    "import pandas as pd\n",
    "from sqlalchemy import create_engine\n",
    "from sqlalchemy.engine import URL\n",
    "from sqlalchemy import text\n"
   ]
  },
  {
   "attachments": {},
   "cell_type": "markdown",
   "metadata": {},
   "source": [
    "<font size = \"5\">\n",
    "\n",
    "Establish a connection to the SQL server and database ```postgres``` <br>\n",
    "from Python as done in  class  using <br>\n",
    "```URL()``` and ```create_engine()```<br>\n",
    "As we are are in the default database, <br>\n",
    "you can leave out the database argument.\n",
    "\n",
    "Note: You may have to change some of the login details <br>\n",
    "depending on your computer"
   ]
  },
  {
   "cell_type": "code",
   "execution_count": 4,
   "metadata": {},
   "outputs": [],
   "source": [
    "# Write your answer here:\n",
    "\n",
    "url_server = URL.create(\n",
    "    \"postgresql\",\n",
    "    host = 'localhost',\n",
    "    username = 'postgres',\n",
    "    port = 5432,\n",
    "    password  = '')\n",
    "connection = create_engine(url_server)\n"
   ]
  },
  {
   "attachments": {},
   "cell_type": "markdown",
   "metadata": {},
   "source": [
    "\n",
    "<font size = \"5\">\n",
    "\n",
    "(a) Upload dataset to SQL\n",
    "\n",
    "\n",
    "<font size = \"3\">\n",
    "\n",
    "- Read the files ```brand_info.csv``` and ```cars.csv``` in the ```data_raw``` folder\n",
    "- Upload both files to your local SQL server using the <br>\n",
    "\"to_sql\" command. Call the new datasets ```brand_info``` and ```cars```, respectively <br>\n",
    " in the server"
   ]
  },
  {
   "cell_type": "code",
   "execution_count": 6,
   "metadata": {},
   "outputs": [
    {
     "data": {
      "text/plain": [
       "74"
      ]
     },
     "execution_count": 6,
     "metadata": {},
     "output_type": "execute_result"
    }
   ],
   "source": [
    "# Write your answer here:\n",
    "brand_info  = pd.read_csv(\"data_raw/brand_info.csv\")\n",
    "cars  = pd.read_csv(\"data_raw/cars.csv\")\n",
    "\n",
    "brand_info.to_sql('brand_info',\n",
    "               con = connection,\n",
    "               if_exists='replace',\n",
    "               index=False)\n",
    "\n",
    "cars.to_sql('cars',\n",
    "               con = connection,\n",
    "               if_exists='replace',\n",
    "               index=False)\n"
   ]
  },
  {
   "cell_type": "markdown",
   "metadata": {},
   "source": [
    "\n",
    "<font size = \"5\">\n",
    "\n",
    "For questions (b)-(f) we will be working with the tables <br>\n",
    "``` cars ``` and ``` brands ``` in the SQL server. You are required to use <br>\n",
    "the ```read_sql``` command for all the following questions."
   ]
  },
  {
   "cell_type": "markdown",
   "metadata": {},
   "source": [
    "\n",
    "<font size = \"5\">\n",
    "\n",
    "(b) Subset and sort\n",
    "\n",
    "<font size = \"3\">\n",
    "\n",
    "Run a query using ```pd.read_sql()```\n",
    "\n",
    "- Use ```WHERE``` to get a subset of \"cars\" to subset <br>\n",
    "cars whose brand is ```'Honda'```\n",
    "- Chain this with ```ORDER BY price ASC``` to sort in <br>\n",
    "ascending order <br>\n",
    "\n",
    "HINTS:\n",
    "- Remember to include a  ```\\```  to be able to define strings over multiple lines\n",
    "- We can include single quotations in the WHERE command without any <br>\n",
    "additional escape characters"
   ]
  },
  {
   "cell_type": "code",
   "execution_count": 8,
   "metadata": {},
   "outputs": [
    {
     "data": {
      "application/vnd.microsoft.datawrangler.viewer.v0+json": {
       "columns": [
        {
         "name": "index",
         "rawType": "int64",
         "type": "integer"
        },
        {
         "name": "Unnamed: 0",
         "rawType": "int64",
         "type": "integer"
        },
        {
         "name": "make",
         "rawType": "object",
         "type": "string"
        },
        {
         "name": "price",
         "rawType": "int64",
         "type": "integer"
        },
        {
         "name": "mpg",
         "rawType": "int64",
         "type": "integer"
        },
        {
         "name": "rep78",
         "rawType": "float64",
         "type": "float"
        },
        {
         "name": "headroom",
         "rawType": "float64",
         "type": "float"
        },
        {
         "name": "trunk",
         "rawType": "int64",
         "type": "integer"
        },
        {
         "name": "weight",
         "rawType": "int64",
         "type": "integer"
        },
        {
         "name": "length",
         "rawType": "int64",
         "type": "integer"
        },
        {
         "name": "turn",
         "rawType": "int64",
         "type": "integer"
        },
        {
         "name": "displacement",
         "rawType": "int64",
         "type": "integer"
        },
        {
         "name": "gear_ratio",
         "rawType": "float64",
         "type": "float"
        },
        {
         "name": "brand",
         "rawType": "object",
         "type": "string"
        }
       ],
       "conversionMethod": "pd.DataFrame",
       "ref": "60e00ffc-d32c-4bc7-be36-b017de94d7b8",
       "rows": [
        [
         "0",
         "61",
         "Honda Civic",
         "4499",
         "28",
         "4.0",
         "2.5",
         "5",
         "1760",
         "149",
         "34",
         "91",
         "3.3",
         "Honda"
        ],
        [
         "1",
         "60",
         "Honda Accord",
         "5799",
         "25",
         "5.0",
         "3.0",
         "10",
         "2240",
         "172",
         "36",
         "107",
         "3.05",
         "Honda"
        ]
       ],
       "shape": {
        "columns": 13,
        "rows": 2
       }
      },
      "text/html": [
       "<div>\n",
       "<style scoped>\n",
       "    .dataframe tbody tr th:only-of-type {\n",
       "        vertical-align: middle;\n",
       "    }\n",
       "\n",
       "    .dataframe tbody tr th {\n",
       "        vertical-align: top;\n",
       "    }\n",
       "\n",
       "    .dataframe thead th {\n",
       "        text-align: right;\n",
       "    }\n",
       "</style>\n",
       "<table border=\"1\" class=\"dataframe\">\n",
       "  <thead>\n",
       "    <tr style=\"text-align: right;\">\n",
       "      <th></th>\n",
       "      <th>Unnamed: 0</th>\n",
       "      <th>make</th>\n",
       "      <th>price</th>\n",
       "      <th>mpg</th>\n",
       "      <th>rep78</th>\n",
       "      <th>headroom</th>\n",
       "      <th>trunk</th>\n",
       "      <th>weight</th>\n",
       "      <th>length</th>\n",
       "      <th>turn</th>\n",
       "      <th>displacement</th>\n",
       "      <th>gear_ratio</th>\n",
       "      <th>brand</th>\n",
       "    </tr>\n",
       "  </thead>\n",
       "  <tbody>\n",
       "    <tr>\n",
       "      <th>0</th>\n",
       "      <td>61</td>\n",
       "      <td>Honda Civic</td>\n",
       "      <td>4499</td>\n",
       "      <td>28</td>\n",
       "      <td>4.0</td>\n",
       "      <td>2.5</td>\n",
       "      <td>5</td>\n",
       "      <td>1760</td>\n",
       "      <td>149</td>\n",
       "      <td>34</td>\n",
       "      <td>91</td>\n",
       "      <td>3.30</td>\n",
       "      <td>Honda</td>\n",
       "    </tr>\n",
       "    <tr>\n",
       "      <th>1</th>\n",
       "      <td>60</td>\n",
       "      <td>Honda Accord</td>\n",
       "      <td>5799</td>\n",
       "      <td>25</td>\n",
       "      <td>5.0</td>\n",
       "      <td>3.0</td>\n",
       "      <td>10</td>\n",
       "      <td>2240</td>\n",
       "      <td>172</td>\n",
       "      <td>36</td>\n",
       "      <td>107</td>\n",
       "      <td>3.05</td>\n",
       "      <td>Honda</td>\n",
       "    </tr>\n",
       "  </tbody>\n",
       "</table>\n",
       "</div>"
      ],
      "text/plain": [
       "   Unnamed: 0          make  price  mpg  rep78  headroom  trunk  weight  \\\n",
       "0          61   Honda Civic   4499   28    4.0       2.5      5    1760   \n",
       "1          60  Honda Accord   5799   25    5.0       3.0     10    2240   \n",
       "\n",
       "   length  turn  displacement  gear_ratio  brand  \n",
       "0     149    34            91        3.30  Honda  \n",
       "1     172    36           107        3.05  Honda  "
      ]
     },
     "metadata": {},
     "output_type": "display_data"
    }
   ],
   "source": [
    "# Write your answer here:\n",
    "\n",
    "honda = pd.read_sql(text(\"SELECT * \\\n",
    "                             FROM cars \\\n",
    "                             WHERE brand = 'Honda'\\\n",
    "                            ORDER BY price ASC;\"), connection)\n",
    "\n",
    "display(honda)\n"
   ]
  },
  {
   "attachments": {},
   "cell_type": "markdown",
   "metadata": {},
   "source": [
    "<font size = \"5\">\n",
    "\n",
    "(c) Groupby + Aggregate + Sort\n",
    "\n",
    "<font size = \"3\">\n",
    "\n",
    "Run a query using ```pd.read_sql()```\n",
    "\n",
    "- From ```cars```, obtain the average of \"weight\" by \"brand\" using ```GROUP BY```\n",
    "- Use ```ORDER BY ``` to sort by the average of \"weight\"\n",
    "- You can break down your code into separate lines with a ```\\``` <br>\n",
    "to make it easy to read.\n"
   ]
  },
  {
   "cell_type": "code",
   "execution_count": 11,
   "metadata": {},
   "outputs": [
    {
     "data": {
      "application/vnd.microsoft.datawrangler.viewer.v0+json": {
       "columns": [
        {
         "name": "index",
         "rawType": "int64",
         "type": "integer"
        },
        {
         "name": "avg_weight",
         "rawType": "float64",
         "type": "float"
        }
       ],
       "conversionMethod": "pd.DataFrame",
       "ref": "f92f9372-bba3-48a4-bce8-2cf916cb7780",
       "rows": [
        [
         "0",
         "1830.0"
        ],
        [
         "1",
         "1980.0"
        ],
        [
         "2",
         "2000.0"
        ],
        [
         "3",
         "2030.0"
        ],
        [
         "4",
         "2050.0"
        ],
        [
         "5",
         "2130.0"
        ],
        [
         "6",
         "2225.0"
        ],
        [
         "7",
         "2355.0"
        ],
        [
         "8",
         "2426.6666666666665"
        ],
        [
         "9",
         "2450.0"
        ],
        [
         "10",
         "2622.0"
        ],
        [
         "11",
         "2650.0"
        ],
        [
         "12",
         "2973.3333333333335"
        ],
        [
         "13",
         "3063.3333333333335"
        ],
        [
         "14",
         "3170.0"
        ],
        [
         "15",
         "3265.0"
        ],
        [
         "16",
         "3281.6666666666665"
        ],
        [
         "17",
         "3398.5714285714284"
        ],
        [
         "18",
         "3420.0"
        ],
        [
         "19",
         "3448.3333333333335"
        ],
        [
         "20",
         "3498.5714285714284"
        ],
        [
         "21",
         "4173.333333333333"
        ],
        [
         "22",
         "4463.333333333333"
        ]
       ],
       "shape": {
        "columns": 1,
        "rows": 23
       }
      },
      "text/html": [
       "<div>\n",
       "<style scoped>\n",
       "    .dataframe tbody tr th:only-of-type {\n",
       "        vertical-align: middle;\n",
       "    }\n",
       "\n",
       "    .dataframe tbody tr th {\n",
       "        vertical-align: top;\n",
       "    }\n",
       "\n",
       "    .dataframe thead th {\n",
       "        text-align: right;\n",
       "    }\n",
       "</style>\n",
       "<table border=\"1\" class=\"dataframe\">\n",
       "  <thead>\n",
       "    <tr style=\"text-align: right;\">\n",
       "      <th></th>\n",
       "      <th>avg_weight</th>\n",
       "    </tr>\n",
       "  </thead>\n",
       "  <tbody>\n",
       "    <tr>\n",
       "      <th>0</th>\n",
       "      <td>1830.000000</td>\n",
       "    </tr>\n",
       "    <tr>\n",
       "      <th>1</th>\n",
       "      <td>1980.000000</td>\n",
       "    </tr>\n",
       "    <tr>\n",
       "      <th>2</th>\n",
       "      <td>2000.000000</td>\n",
       "    </tr>\n",
       "    <tr>\n",
       "      <th>3</th>\n",
       "      <td>2030.000000</td>\n",
       "    </tr>\n",
       "    <tr>\n",
       "      <th>4</th>\n",
       "      <td>2050.000000</td>\n",
       "    </tr>\n",
       "    <tr>\n",
       "      <th>5</th>\n",
       "      <td>2130.000000</td>\n",
       "    </tr>\n",
       "    <tr>\n",
       "      <th>6</th>\n",
       "      <td>2225.000000</td>\n",
       "    </tr>\n",
       "    <tr>\n",
       "      <th>7</th>\n",
       "      <td>2355.000000</td>\n",
       "    </tr>\n",
       "    <tr>\n",
       "      <th>8</th>\n",
       "      <td>2426.666667</td>\n",
       "    </tr>\n",
       "    <tr>\n",
       "      <th>9</th>\n",
       "      <td>2450.000000</td>\n",
       "    </tr>\n",
       "    <tr>\n",
       "      <th>10</th>\n",
       "      <td>2622.000000</td>\n",
       "    </tr>\n",
       "    <tr>\n",
       "      <th>11</th>\n",
       "      <td>2650.000000</td>\n",
       "    </tr>\n",
       "    <tr>\n",
       "      <th>12</th>\n",
       "      <td>2973.333333</td>\n",
       "    </tr>\n",
       "    <tr>\n",
       "      <th>13</th>\n",
       "      <td>3063.333333</td>\n",
       "    </tr>\n",
       "    <tr>\n",
       "      <th>14</th>\n",
       "      <td>3170.000000</td>\n",
       "    </tr>\n",
       "    <tr>\n",
       "      <th>15</th>\n",
       "      <td>3265.000000</td>\n",
       "    </tr>\n",
       "    <tr>\n",
       "      <th>16</th>\n",
       "      <td>3281.666667</td>\n",
       "    </tr>\n",
       "    <tr>\n",
       "      <th>17</th>\n",
       "      <td>3398.571429</td>\n",
       "    </tr>\n",
       "    <tr>\n",
       "      <th>18</th>\n",
       "      <td>3420.000000</td>\n",
       "    </tr>\n",
       "    <tr>\n",
       "      <th>19</th>\n",
       "      <td>3448.333333</td>\n",
       "    </tr>\n",
       "    <tr>\n",
       "      <th>20</th>\n",
       "      <td>3498.571429</td>\n",
       "    </tr>\n",
       "    <tr>\n",
       "      <th>21</th>\n",
       "      <td>4173.333333</td>\n",
       "    </tr>\n",
       "    <tr>\n",
       "      <th>22</th>\n",
       "      <td>4463.333333</td>\n",
       "    </tr>\n",
       "  </tbody>\n",
       "</table>\n",
       "</div>"
      ],
      "text/plain": [
       "     avg_weight\n",
       "0   1830.000000\n",
       "1   1980.000000\n",
       "2   2000.000000\n",
       "3   2030.000000\n",
       "4   2050.000000\n",
       "5   2130.000000\n",
       "6   2225.000000\n",
       "7   2355.000000\n",
       "8   2426.666667\n",
       "9   2450.000000\n",
       "10  2622.000000\n",
       "11  2650.000000\n",
       "12  2973.333333\n",
       "13  3063.333333\n",
       "14  3170.000000\n",
       "15  3265.000000\n",
       "16  3281.666667\n",
       "17  3398.571429\n",
       "18  3420.000000\n",
       "19  3448.333333\n",
       "20  3498.571429\n",
       "21  4173.333333\n",
       "22  4463.333333"
      ]
     },
     "metadata": {},
     "output_type": "display_data"
    }
   ],
   "source": [
    "# Write your answer here:\n",
    "\n",
    "brand_weight = pd.read_sql(text(\"SELECT AVG(weight) as avg_weight \\\n",
    "                             FROM cars \\\n",
    "                             GROUP BY \\\"brand\\\" \\\n",
    "                            ORDER BY avg_weight;\"), connection)\n",
    "\n",
    "display(brand_weight)\n"
   ]
  },
  {
   "attachments": {},
   "cell_type": "markdown",
   "metadata": {},
   "source": [
    "<font size = \"5\">\n",
    "\n",
    "(d) Groupby + Aggregate + Sort\n",
    "\n",
    "<font size = \"3\">\n",
    "\n",
    "Run a query using ```pd.read_sql()```\n",
    "\n",
    "- From ```cars``` obtain the average of \"headroom\" by brand using ```GROUP BY```\n",
    "- Use ```HAVING ``` to filter brands with an <br>\n",
    "average headroom strictly higher than 3\n",
    "- You can break down your code into separate lines with a ```\\``` <br>\n",
    "to make it easy to read.\n",
    "\n",
    "HINT: Use ```HAVING AVG(headroom)``` rather than an alias <br>\n",
    "for the code to work correctly."
   ]
  },
  {
   "cell_type": "code",
   "execution_count": null,
   "metadata": {},
   "outputs": [
    {
     "data": {
      "application/vnd.microsoft.datawrangler.viewer.v0+json": {
       "columns": [
        {
         "name": "index",
         "rawType": "int64",
         "type": "integer"
        },
        {
         "name": "avg_headroom",
         "rawType": "float64",
         "type": "float"
        }
       ],
       "conversionMethod": "pd.DataFrame",
       "ref": "ad745b0b-de7e-45b3-b57a-02642a547971",
       "rows": [
        [
         "0",
         "3.5"
        ],
        [
         "1",
         "3.5"
        ],
        [
         "2",
         "3.5"
        ],
        [
         "3",
         "3.625"
        ],
        [
         "4",
         "3.1666666666666665"
        ],
        [
         "5",
         "3.25"
        ],
        [
         "6",
         "3.5"
        ],
        [
         "7",
         "3.5"
        ]
       ],
       "shape": {
        "columns": 1,
        "rows": 8
       }
      },
      "text/html": [
       "<div>\n",
       "<style scoped>\n",
       "    .dataframe tbody tr th:only-of-type {\n",
       "        vertical-align: middle;\n",
       "    }\n",
       "\n",
       "    .dataframe tbody tr th {\n",
       "        vertical-align: top;\n",
       "    }\n",
       "\n",
       "    .dataframe thead th {\n",
       "        text-align: right;\n",
       "    }\n",
       "</style>\n",
       "<table border=\"1\" class=\"dataframe\">\n",
       "  <thead>\n",
       "    <tr style=\"text-align: right;\">\n",
       "      <th></th>\n",
       "      <th>avg_headroom</th>\n",
       "    </tr>\n",
       "  </thead>\n",
       "  <tbody>\n",
       "    <tr>\n",
       "      <th>0</th>\n",
       "      <td>3.500000</td>\n",
       "    </tr>\n",
       "    <tr>\n",
       "      <th>1</th>\n",
       "      <td>3.500000</td>\n",
       "    </tr>\n",
       "    <tr>\n",
       "      <th>2</th>\n",
       "      <td>3.500000</td>\n",
       "    </tr>\n",
       "    <tr>\n",
       "      <th>3</th>\n",
       "      <td>3.625000</td>\n",
       "    </tr>\n",
       "    <tr>\n",
       "      <th>4</th>\n",
       "      <td>3.166667</td>\n",
       "    </tr>\n",
       "    <tr>\n",
       "      <th>5</th>\n",
       "      <td>3.250000</td>\n",
       "    </tr>\n",
       "    <tr>\n",
       "      <th>6</th>\n",
       "      <td>3.500000</td>\n",
       "    </tr>\n",
       "    <tr>\n",
       "      <th>7</th>\n",
       "      <td>3.500000</td>\n",
       "    </tr>\n",
       "  </tbody>\n",
       "</table>\n",
       "</div>"
      ],
      "text/plain": [
       "   avg_headroom\n",
       "0      3.500000\n",
       "1      3.500000\n",
       "2      3.500000\n",
       "3      3.625000\n",
       "4      3.166667\n",
       "5      3.250000\n",
       "6      3.500000\n",
       "7      3.500000"
      ]
     },
     "metadata": {},
     "output_type": "display_data"
    }
   ],
   "source": [
    "# Write your answer here:\n",
    "\n",
    "headroom_avg = pd.read_sql(text(\"SELECT AVG(headroom) as avg_headroom \\\n",
    "                             FROM cars \\\n",
    "                             GROUP BY \\\"brand\\\" \\\n",
    "                             HAVING AVG(headroom)>3;\"), connection)\n",
    "\n",
    "display(headroom_avg)"
   ]
  },
  {
   "attachments": {},
   "cell_type": "markdown",
   "metadata": {},
   "source": [
    "<font size = \"5\">\n",
    "\n",
    "(e) Groupby and multiple aggregations\n",
    "\n",
    "<font size = \"3\">\n",
    "\n",
    "Run a query using ```pd.read_sql()```\n",
    "\n",
    "-  From ```cars```, obtain the average, min, and max of each brand's weight using ```GROUP BY```\n",
    "- You can break down your code into separate lines with a ```\\``` <br>\n",
    "to make it easy to read."
   ]
  },
  {
   "cell_type": "code",
   "execution_count": null,
   "metadata": {},
   "outputs": [
    {
     "data": {
      "application/vnd.microsoft.datawrangler.viewer.v0+json": {
       "columns": [
        {
         "name": "index",
         "rawType": "int64",
         "type": "integer"
        },
        {
         "name": "avg_weight",
         "rawType": "float64",
         "type": "float"
        },
        {
         "name": "min_weight",
         "rawType": "int64",
         "type": "integer"
        },
        {
         "name": "max_weight",
         "rawType": "int64",
         "type": "integer"
        }
       ],
       "conversionMethod": "pd.DataFrame",
       "ref": "38142080-cb73-4fb5-80f2-0ca6bcf7a0a8",
       "rows": [
        [
         "0",
         "2450.0",
         "2070",
         "2830"
        ],
        [
         "1",
         "2426.6666666666665",
         "2200",
         "2670"
        ],
        [
         "2",
         "1830.0",
         "1830",
         "1830"
        ],
        [
         "3",
         "4173.333333333333",
         "3900",
         "4330"
        ],
        [
         "4",
         "3063.3333333333335",
         "2110",
         "3690"
        ],
        [
         "5",
         "2355.0",
         "2020",
         "2750"
        ],
        [
         "6",
         "2622.0",
         "1800",
         "3330"
        ],
        [
         "7",
         "2030.0",
         "1930",
         "2160"
        ],
        [
         "8",
         "2000.0",
         "1760",
         "2240"
        ],
        [
         "9",
         "3498.5714285714284",
         "2730",
         "4060"
        ],
        [
         "10",
         "2130.0",
         "2130",
         "2130"
        ],
        [
         "11",
         "3170.0",
         "3170",
         "3170"
        ],
        [
         "12",
         "2225.0",
         "1800",
         "2650"
        ],
        [
         "13",
         "3398.5714285714284",
         "2230",
         "4080"
        ],
        [
         "14",
         "2973.3333333333335",
         "2640",
         "3350"
        ],
        [
         "15",
         "3265.0",
         "2120",
         "3740"
        ],
        [
         "16",
         "4463.333333333333",
         "3830",
         "4840"
        ],
        [
         "17",
         "3281.6666666666665",
         "2690",
         "3700"
        ],
        [
         "18",
         "3448.3333333333335",
         "2580",
         "4130"
        ],
        [
         "19",
         "2050.0",
         "2050",
         "2050"
        ],
        [
         "20",
         "3420.0",
         "3420",
         "3420"
        ],
        [
         "21",
         "1980.0",
         "1980",
         "1980"
        ],
        [
         "22",
         "2650.0",
         "2650",
         "2650"
        ]
       ],
       "shape": {
        "columns": 3,
        "rows": 23
       }
      },
      "text/html": [
       "<div>\n",
       "<style scoped>\n",
       "    .dataframe tbody tr th:only-of-type {\n",
       "        vertical-align: middle;\n",
       "    }\n",
       "\n",
       "    .dataframe tbody tr th {\n",
       "        vertical-align: top;\n",
       "    }\n",
       "\n",
       "    .dataframe thead th {\n",
       "        text-align: right;\n",
       "    }\n",
       "</style>\n",
       "<table border=\"1\" class=\"dataframe\">\n",
       "  <thead>\n",
       "    <tr style=\"text-align: right;\">\n",
       "      <th></th>\n",
       "      <th>avg_weight</th>\n",
       "      <th>min_weight</th>\n",
       "      <th>max_weight</th>\n",
       "    </tr>\n",
       "  </thead>\n",
       "  <tbody>\n",
       "    <tr>\n",
       "      <th>0</th>\n",
       "      <td>2450.000000</td>\n",
       "      <td>2070</td>\n",
       "      <td>2830</td>\n",
       "    </tr>\n",
       "    <tr>\n",
       "      <th>1</th>\n",
       "      <td>2426.666667</td>\n",
       "      <td>2200</td>\n",
       "      <td>2670</td>\n",
       "    </tr>\n",
       "    <tr>\n",
       "      <th>2</th>\n",
       "      <td>1830.000000</td>\n",
       "      <td>1830</td>\n",
       "      <td>1830</td>\n",
       "    </tr>\n",
       "    <tr>\n",
       "      <th>3</th>\n",
       "      <td>4173.333333</td>\n",
       "      <td>3900</td>\n",
       "      <td>4330</td>\n",
       "    </tr>\n",
       "    <tr>\n",
       "      <th>4</th>\n",
       "      <td>3063.333333</td>\n",
       "      <td>2110</td>\n",
       "      <td>3690</td>\n",
       "    </tr>\n",
       "    <tr>\n",
       "      <th>5</th>\n",
       "      <td>2355.000000</td>\n",
       "      <td>2020</td>\n",
       "      <td>2750</td>\n",
       "    </tr>\n",
       "    <tr>\n",
       "      <th>6</th>\n",
       "      <td>2622.000000</td>\n",
       "      <td>1800</td>\n",
       "      <td>3330</td>\n",
       "    </tr>\n",
       "    <tr>\n",
       "      <th>7</th>\n",
       "      <td>2030.000000</td>\n",
       "      <td>1930</td>\n",
       "      <td>2160</td>\n",
       "    </tr>\n",
       "    <tr>\n",
       "      <th>8</th>\n",
       "      <td>2000.000000</td>\n",
       "      <td>1760</td>\n",
       "      <td>2240</td>\n",
       "    </tr>\n",
       "    <tr>\n",
       "      <th>9</th>\n",
       "      <td>3498.571429</td>\n",
       "      <td>2730</td>\n",
       "      <td>4060</td>\n",
       "    </tr>\n",
       "    <tr>\n",
       "      <th>10</th>\n",
       "      <td>2130.000000</td>\n",
       "      <td>2130</td>\n",
       "      <td>2130</td>\n",
       "    </tr>\n",
       "    <tr>\n",
       "      <th>11</th>\n",
       "      <td>3170.000000</td>\n",
       "      <td>3170</td>\n",
       "      <td>3170</td>\n",
       "    </tr>\n",
       "    <tr>\n",
       "      <th>12</th>\n",
       "      <td>2225.000000</td>\n",
       "      <td>1800</td>\n",
       "      <td>2650</td>\n",
       "    </tr>\n",
       "    <tr>\n",
       "      <th>13</th>\n",
       "      <td>3398.571429</td>\n",
       "      <td>2230</td>\n",
       "      <td>4080</td>\n",
       "    </tr>\n",
       "    <tr>\n",
       "      <th>14</th>\n",
       "      <td>2973.333333</td>\n",
       "      <td>2640</td>\n",
       "      <td>3350</td>\n",
       "    </tr>\n",
       "    <tr>\n",
       "      <th>15</th>\n",
       "      <td>3265.000000</td>\n",
       "      <td>2120</td>\n",
       "      <td>3740</td>\n",
       "    </tr>\n",
       "    <tr>\n",
       "      <th>16</th>\n",
       "      <td>4463.333333</td>\n",
       "      <td>3830</td>\n",
       "      <td>4840</td>\n",
       "    </tr>\n",
       "    <tr>\n",
       "      <th>17</th>\n",
       "      <td>3281.666667</td>\n",
       "      <td>2690</td>\n",
       "      <td>3700</td>\n",
       "    </tr>\n",
       "    <tr>\n",
       "      <th>18</th>\n",
       "      <td>3448.333333</td>\n",
       "      <td>2580</td>\n",
       "      <td>4130</td>\n",
       "    </tr>\n",
       "    <tr>\n",
       "      <th>19</th>\n",
       "      <td>2050.000000</td>\n",
       "      <td>2050</td>\n",
       "      <td>2050</td>\n",
       "    </tr>\n",
       "    <tr>\n",
       "      <th>20</th>\n",
       "      <td>3420.000000</td>\n",
       "      <td>3420</td>\n",
       "      <td>3420</td>\n",
       "    </tr>\n",
       "    <tr>\n",
       "      <th>21</th>\n",
       "      <td>1980.000000</td>\n",
       "      <td>1980</td>\n",
       "      <td>1980</td>\n",
       "    </tr>\n",
       "    <tr>\n",
       "      <th>22</th>\n",
       "      <td>2650.000000</td>\n",
       "      <td>2650</td>\n",
       "      <td>2650</td>\n",
       "    </tr>\n",
       "  </tbody>\n",
       "</table>\n",
       "</div>"
      ],
      "text/plain": [
       "     avg_weight  min_weight  max_weight\n",
       "0   2450.000000        2070        2830\n",
       "1   2426.666667        2200        2670\n",
       "2   1830.000000        1830        1830\n",
       "3   4173.333333        3900        4330\n",
       "4   3063.333333        2110        3690\n",
       "5   2355.000000        2020        2750\n",
       "6   2622.000000        1800        3330\n",
       "7   2030.000000        1930        2160\n",
       "8   2000.000000        1760        2240\n",
       "9   3498.571429        2730        4060\n",
       "10  2130.000000        2130        2130\n",
       "11  3170.000000        3170        3170\n",
       "12  2225.000000        1800        2650\n",
       "13  3398.571429        2230        4080\n",
       "14  2973.333333        2640        3350\n",
       "15  3265.000000        2120        3740\n",
       "16  4463.333333        3830        4840\n",
       "17  3281.666667        2690        3700\n",
       "18  3448.333333        2580        4130\n",
       "19  2050.000000        2050        2050\n",
       "20  3420.000000        3420        3420\n",
       "21  1980.000000        1980        1980\n",
       "22  2650.000000        2650        2650"
      ]
     },
     "metadata": {},
     "output_type": "display_data"
    }
   ],
   "source": [
    "# Write your answer here:\n",
    "\n",
    "cars_stats = pd.read_sql(text(\"SELECT AVG(weight) as avg_weight, MIN(weight) as min_weight, MAX(weight) as max_weight\\\n",
    "                                FROM cars\\\n",
    "                                GROUP BY \\\"brand\\\";\"), connection)\n",
    "\n",
    "display(cars_stats)\n",
    "\n"
   ]
  },
  {
   "cell_type": "markdown",
   "metadata": {},
   "source": [
    "<font size = \"5\">\n",
    "\n",
    "(f) Filter then Aggregate\n",
    "\n",
    "<font size = \"3\">\n",
    "\n",
    "\n",
    "Run a query using ```pd.read_sql()```\n",
    "\n",
    "- From ```cars```, filter cars that are from the brand 'Audi' using WHERE\n",
    "- Obtain the average of headroom (you should only be reporting one number)\n",
    "- You can break down your code into separate lines with a ```\\``` <br>\n",
    "to make it easy to read.\n",
    "\n",
    "HINT: Use single quotations inside ```text(\"      \")``` to <br>\n",
    "filter by ```'Audi'```"
   ]
  },
  {
   "cell_type": "code",
   "execution_count": 28,
   "metadata": {},
   "outputs": [
    {
     "data": {
      "application/vnd.microsoft.datawrangler.viewer.v0+json": {
       "columns": [
        {
         "name": "index",
         "rawType": "int64",
         "type": "integer"
        },
        {
         "name": "mean_headroom",
         "rawType": "float64",
         "type": "float"
        }
       ],
       "conversionMethod": "pd.DataFrame",
       "ref": "7aa7386d-9662-48f2-b396-14d7c8360169",
       "rows": [
        [
         "0",
         "2.75"
        ]
       ],
       "shape": {
        "columns": 1,
        "rows": 1
       }
      },
      "text/html": [
       "<div>\n",
       "<style scoped>\n",
       "    .dataframe tbody tr th:only-of-type {\n",
       "        vertical-align: middle;\n",
       "    }\n",
       "\n",
       "    .dataframe tbody tr th {\n",
       "        vertical-align: top;\n",
       "    }\n",
       "\n",
       "    .dataframe thead th {\n",
       "        text-align: right;\n",
       "    }\n",
       "</style>\n",
       "<table border=\"1\" class=\"dataframe\">\n",
       "  <thead>\n",
       "    <tr style=\"text-align: right;\">\n",
       "      <th></th>\n",
       "      <th>mean_headroom</th>\n",
       "    </tr>\n",
       "  </thead>\n",
       "  <tbody>\n",
       "    <tr>\n",
       "      <th>0</th>\n",
       "      <td>2.75</td>\n",
       "    </tr>\n",
       "  </tbody>\n",
       "</table>\n",
       "</div>"
      ],
      "text/plain": [
       "   mean_headroom\n",
       "0           2.75"
      ]
     },
     "metadata": {},
     "output_type": "display_data"
    }
   ],
   "source": [
    "# Write your answer here:\n",
    "audi = pd.read_sql(text(\"SELECT AVG(headroom) as mean_headroom \\\n",
    "                             FROM cars \\\n",
    "                             WHERE brand = 'Audi';\"), connection)\n",
    "\n",
    "display(audi)"
   ]
  }
 ],
 "metadata": {
  "kernelspec": {
   "display_name": "base",
   "language": "python",
   "name": "python3"
  },
  "language_info": {
   "codemirror_mode": {
    "name": "ipython",
    "version": 3
   },
   "file_extension": ".py",
   "mimetype": "text/x-python",
   "name": "python",
   "nbconvert_exporter": "python",
   "pygments_lexer": "ipython3",
   "version": "3.10.9"
  },
  "orig_nbformat": 4,
  "vscode": {
   "interpreter": {
    "hash": "45fc1f684f6f416f40889115beff3ddf69879b64cf4bfee48cb72a61e9d15d1a"
   }
  }
 },
 "nbformat": 4,
 "nbformat_minor": 2
}
