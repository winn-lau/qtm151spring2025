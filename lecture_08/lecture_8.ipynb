{
 "cells": [
  {
   "attachments": {},
   "cell_type": "markdown",
   "metadata": {},
   "source": [
    "# <span style=\"color:darkblue\"> Lecture 8: Local/Global and Apply </span>\n",
    "\n",
    "<font size = \"5\">\n",
    "\n",
    "In the previous lecture we ...\n",
    "\n",
    "- Worked through the definition of functions\n",
    "- Illustrated some examples\n",
    "\n",
    "In this lecture, we will ...\n",
    "\n",
    "- Discuss the syntax of functions (local/global)\n",
    "- Apply functions to multiple elements in a data frame\n",
    "- Introduce \".py\" files"
   ]
  },
  {
   "attachments": {},
   "cell_type": "markdown",
   "metadata": {},
   "source": [
    "## <span style=\"color:darkblue\"> I. Import Libraries </span>"
   ]
  },
  {
   "cell_type": "code",
   "execution_count": 1,
   "metadata": {},
   "outputs": [],
   "source": [
    "# the \"pandas\" library is for manipualting datasets\n",
    "\n",
    "import pandas as pd\n",
    "import numpy as np\n"
   ]
  },
  {
   "attachments": {},
   "cell_type": "markdown",
   "metadata": {},
   "source": [
    "## <span style=\"color:darkblue\"> II. Local/Global Variables </span>"
   ]
  },
  {
   "attachments": {},
   "cell_type": "markdown",
   "metadata": {},
   "source": [
    "<font size=\"5\"> \n",
    "\n",
    "Most of the variables we've defined so far are \"global\"\n",
    "\n",
    "- Stored in working environment\n",
    "- Can be referenced in other parts of the notebook\n",
    "\n"
   ]
  },
  {
   "attachments": {},
   "cell_type": "markdown",
   "metadata": {},
   "source": [
    "<font size = \"5\">\n",
    "Example:"
   ]
  },
  {
   "cell_type": "code",
   "execution_count": 2,
   "metadata": {},
   "outputs": [],
   "source": [
    "message_hello = \"hello\"\n",
    "number3       = 3"
   ]
  },
  {
   "cell_type": "code",
   "execution_count": 3,
   "metadata": {},
   "outputs": [
    {
     "name": "stdout",
     "output_type": "stream",
     "text": [
      "hello world\n",
      "6\n"
     ]
    }
   ],
   "source": [
    "print(message_hello + \" world\")\n",
    "print(number3 * 2)"
   ]
  },
  {
   "attachments": {},
   "cell_type": "markdown",
   "metadata": {},
   "source": [
    "<font size = \"5\">\n",
    "\n",
    "Any \"global\" variable can be referenced inside functions\n",
    "\n",
    "- However, this can lead to mistakes\n",
    "- Preferrably, include **all** the inputs as parameters"
   ]
  },
  {
   "attachments": {},
   "cell_type": "markdown",
   "metadata": {},
   "source": [
    "<font size = \"5\">\n",
    "\n",
    "$f(x,y,z) = x + y + z$"
   ]
  },
  {
   "cell_type": "code",
   "execution_count": null,
   "metadata": {},
   "outputs": [
    {
     "name": "stdout",
     "output_type": "stream",
     "text": [
      "8\n",
      "13\n"
     ]
    }
   ],
   "source": [
    "# x,y, and z are parameters\n",
    "# 1,2, and 5 are arguments\n",
    "# Correct Example:\n",
    "def fn_add_recommended(x,y,z):\n",
    "    return(x + y + z)\n",
    "\n",
    "print(fn_add_recommended(x = 1, y = 2, z = 5))\n",
    "print(fn_add_recommended(x = 1, y = 2, z = 10))\n"
   ]
  },
  {
   "cell_type": "code",
   "execution_count": 4,
   "metadata": {},
   "outputs": [
    {
     "name": "stdout",
     "output_type": "stream",
     "text": [
      "8\n",
      "13\n"
     ]
    }
   ],
   "source": [
    "# Example that runs (but not recommended)\n",
    "# Python will try to fill in any missing inputs\n",
    "# with variables in the working environment\n",
    "def fn_add_notrecommended(x,y):\n",
    "    return(x + y + z)\n",
    "\n",
    "z = 5\n",
    "print(fn_add_notrecommended(x = 1, y = 2))\n",
    "z = 10\n",
    "print(fn_add_notrecommended(x = 1, y = 2))\n",
    "\n"
   ]
  },
  {
   "attachments": {},
   "cell_type": "markdown",
   "metadata": {},
   "source": [
    "<font size =\"5\">\n",
    "\n",
    "Variables defined inside functions are \"local\"\n",
    "\n",
    "- Stored \"temporarily\" while running\n",
    "- Includes: Parameters + Intermediate variables\n"
   ]
  },
  {
   "attachments": {},
   "cell_type": "markdown",
   "metadata": {},
   "source": [
    "<font size = \"5\">\n",
    "\n",
    "Local variables supercede global variables"
   ]
  },
  {
   "cell_type": "code",
   "execution_count": null,
   "metadata": {},
   "outputs": [
    {
     "name": "stdout",
     "output_type": "stream",
     "text": [
      "1\n",
      "10\n",
      "-5\n"
     ]
    }
   ],
   "source": [
    "# This is an example where we define a quadratic function\n",
    "# (x,y) are both local variables of the function\n",
    "# \n",
    "# When we call the function, only the arguments matter.\n",
    "# any intermediate value inside the function -> y is an intermediate var\n",
    "\n",
    "def fn_square(x):\n",
    "    y = x**2\n",
    "    return(y)\n",
    "\n",
    "x = 10\n",
    "y = -5\n",
    "\n",
    "print(fn_square(x = 1))\n",
    "\n",
    "print(x)\n",
    "print(y)\n",
    "\n",
    "#local vars in the function are higher up in the heirarchy than global vars\n"
   ]
  },
  {
   "attachments": {},
   "cell_type": "markdown",
   "metadata": {},
   "source": [
    "<font size = \"5\">\n",
    "\n",
    "Local variables are **not** stored in the working environment"
   ]
  },
  {
   "cell_type": "code",
   "execution_count": 6,
   "metadata": {},
   "outputs": [
    {
     "name": "stdout",
     "output_type": "stream",
     "text": [
      "Example 1:\n",
      "100\n",
      "5\n",
      "4\n",
      "Example 2:\n",
      "400\n",
      "5\n",
      "4\n"
     ]
    }
   ],
   "source": [
    "# The following code assigns a global variable x\n",
    "# Inside the function\n",
    "\n",
    "x = 5\n",
    "y = 4\n",
    "\n",
    "print(\"Example 1:\")\n",
    "print(fn_square(x = 10))\n",
    "print(x)\n",
    "print(y)\n",
    "\n",
    "print(\"Example 2:\")\n",
    "print(fn_square(x = 20))\n",
    "print(x)\n",
    "print(y)\n"
   ]
  },
  {
   "attachments": {},
   "cell_type": "markdown",
   "metadata": {},
   "source": [
    "<font size = \"5\">\n",
    "\n",
    "To permanently modify a variable, use the \"global\" command"
   ]
  },
  {
   "cell_type": "code",
   "execution_count": 7,
   "metadata": {},
   "outputs": [
    {
     "name": "stdout",
     "output_type": "stream",
     "text": [
      "6\n"
     ]
    }
   ],
   "source": [
    "def modify_x():\n",
    "    global x\n",
    "    x = x + 5\n",
    "\n",
    "x = 1\n",
    "# Now, running the function wil permanently increase x by 5.\n",
    "modify_x()\n",
    "print(x)"
   ]
  },
  {
   "cell_type": "code",
   "execution_count": 8,
   "metadata": {},
   "outputs": [
    {
     "name": "stdout",
     "output_type": "stream",
     "text": [
      "11\n"
     ]
    }
   ],
   "source": [
    "modify_x()\n",
    "print(x)"
   ]
  },
  {
   "attachments": {},
   "cell_type": "markdown",
   "metadata": {},
   "source": [
    "<font size = \"5\">\n",
    "\n",
    "Try it yourself:\n",
    "\n",
    "- What happens if we run \"modify_x\" twice?\n",
    "- What happens if we add \"global y\" inside \"fn_square\"?"
   ]
  },
  {
   "cell_type": "code",
   "execution_count": 12,
   "metadata": {},
   "outputs": [
    {
     "name": "stdout",
     "output_type": "stream",
     "text": [
      "31\n"
     ]
    }
   ],
   "source": [
    "# Write your own code here\n",
    "\n",
    "# will continue to modify x in the global environment\n",
    "modify_x()\n",
    "print(x)\n",
    "\n"
   ]
  },
  {
   "cell_type": "code",
   "execution_count": 13,
   "metadata": {},
   "outputs": [
    {
     "name": "stdout",
     "output_type": "stream",
     "text": [
      "1\n",
      "25\n",
      "25\n"
     ]
    }
   ],
   "source": [
    "def fn_square_g(x):\n",
    "    global y\n",
    "    y=x**2\n",
    "    return y\n",
    "\n",
    "y=1\n",
    "print(y)\n",
    "print(fn_square_g(x=5))\n",
    "print(y)"
   ]
  },
  {
   "attachments": {},
   "cell_type": "markdown",
   "metadata": {},
   "source": [
    "## <span style=\"color:darkblue\"> III. Operations over data frames (apply/map) </span>\n"
   ]
  },
  {
   "attachments": {},
   "cell_type": "markdown",
   "metadata": {},
   "source": [
    "<font size = \"5\">\n",
    "\n",
    "Create an empty data frame"
   ]
  },
  {
   "cell_type": "code",
   "execution_count": 14,
   "metadata": {},
   "outputs": [],
   "source": [
    "data  = pd.DataFrame()"
   ]
  },
  {
   "cell_type": "code",
   "execution_count": 15,
   "metadata": {},
   "outputs": [
    {
     "name": "stdout",
     "output_type": "stream",
     "text": [
      "Empty DataFrame\n",
      "Columns: []\n",
      "Index: []\n"
     ]
    }
   ],
   "source": [
    "print(data)"
   ]
  },
  {
   "attachments": {},
   "cell_type": "markdown",
   "metadata": {},
   "source": [
    "<font size = \"5\">\n",
    "\n",
    "Add variables"
   ]
  },
  {
   "cell_type": "code",
   "execution_count": 16,
   "metadata": {},
   "outputs": [],
   "source": [
    "# The following are lists with values for different individuals\n",
    "# \"age\" is the number of years\n",
    "# \"num_underage_siblings\" is the total number of underage siblings\n",
    "# \"num_adult_siblings\" is the total number of adult siblings\n",
    "\n",
    "data[\"age\"] = [18,29,15,32,6]\n",
    "data[\"num_underage_siblings\"] = [0,0,1,1,0]\n",
    "data[\"num_adult_siblings\"] = [1,0,0,1,0]\n"
   ]
  },
  {
   "cell_type": "code",
   "execution_count": 17,
   "metadata": {},
   "outputs": [
    {
     "data": {
      "application/vnd.microsoft.datawrangler.viewer.v0+json": {
       "columns": [
        {
         "name": "index",
         "rawType": "int64",
         "type": "integer"
        },
        {
         "name": "age",
         "rawType": "int64",
         "type": "integer"
        },
        {
         "name": "num_underage_siblings",
         "rawType": "int64",
         "type": "integer"
        },
        {
         "name": "num_adult_siblings",
         "rawType": "int64",
         "type": "integer"
        }
       ],
       "conversionMethod": "pd.DataFrame",
       "ref": "e19791b9-b48d-4ea8-8530-892914f67026",
       "rows": [
        [
         "0",
         "18",
         "0",
         "1"
        ],
        [
         "1",
         "29",
         "0",
         "0"
        ],
        [
         "2",
         "15",
         "1",
         "0"
        ],
        [
         "3",
         "32",
         "1",
         "1"
        ],
        [
         "4",
         "6",
         "0",
         "0"
        ]
       ],
       "shape": {
        "columns": 3,
        "rows": 5
       }
      },
      "text/html": [
       "<div>\n",
       "<style scoped>\n",
       "    .dataframe tbody tr th:only-of-type {\n",
       "        vertical-align: middle;\n",
       "    }\n",
       "\n",
       "    .dataframe tbody tr th {\n",
       "        vertical-align: top;\n",
       "    }\n",
       "\n",
       "    .dataframe thead th {\n",
       "        text-align: right;\n",
       "    }\n",
       "</style>\n",
       "<table border=\"1\" class=\"dataframe\">\n",
       "  <thead>\n",
       "    <tr style=\"text-align: right;\">\n",
       "      <th></th>\n",
       "      <th>age</th>\n",
       "      <th>num_underage_siblings</th>\n",
       "      <th>num_adult_siblings</th>\n",
       "    </tr>\n",
       "  </thead>\n",
       "  <tbody>\n",
       "    <tr>\n",
       "      <th>0</th>\n",
       "      <td>18</td>\n",
       "      <td>0</td>\n",
       "      <td>1</td>\n",
       "    </tr>\n",
       "    <tr>\n",
       "      <th>1</th>\n",
       "      <td>29</td>\n",
       "      <td>0</td>\n",
       "      <td>0</td>\n",
       "    </tr>\n",
       "    <tr>\n",
       "      <th>2</th>\n",
       "      <td>15</td>\n",
       "      <td>1</td>\n",
       "      <td>0</td>\n",
       "    </tr>\n",
       "    <tr>\n",
       "      <th>3</th>\n",
       "      <td>32</td>\n",
       "      <td>1</td>\n",
       "      <td>1</td>\n",
       "    </tr>\n",
       "    <tr>\n",
       "      <th>4</th>\n",
       "      <td>6</td>\n",
       "      <td>0</td>\n",
       "      <td>0</td>\n",
       "    </tr>\n",
       "  </tbody>\n",
       "</table>\n",
       "</div>"
      ],
      "text/plain": [
       "   age  num_underage_siblings  num_adult_siblings\n",
       "0   18                      0                   1\n",
       "1   29                      0                   0\n",
       "2   15                      1                   0\n",
       "3   32                      1                   1\n",
       "4    6                      0                   0"
      ]
     },
     "execution_count": 17,
     "metadata": {},
     "output_type": "execute_result"
    }
   ],
   "source": [
    "data"
   ]
  },
  {
   "attachments": {},
   "cell_type": "markdown",
   "metadata": {},
   "source": [
    "<font size = \"5\">\n",
    "\n",
    "Define functions"
   ]
  },
  {
   "cell_type": "code",
   "execution_count": 1,
   "metadata": {},
   "outputs": [],
   "source": [
    "# The first two functions return True/False depending on age constraints\n",
    "# The third function returns the sum of two numbers\n",
    "\n",
    "fn_iseligible_vote = lambda age: age >= 18\n",
    "fn_istwenties = lambda age: (age >= 20) & (age < 30)\n",
    "fn_sum = lambda x,y: x + y\n"
   ]
  },
  {
   "attachments": {},
   "cell_type": "markdown",
   "metadata": {},
   "source": [
    "<font size = \"5\">\n",
    "Applying functions with one argument: <br>\n",
    "\n",
    "```python\n",
    " apply(myfunction)\n",
    " ```\n",
    " - Takes a dataframe series (a column vector) as an input\n",
    " - Computes function separately for each individual\n"
   ]
  },
  {
   "cell_type": "code",
   "execution_count": 2,
   "metadata": {},
   "outputs": [
    {
     "ename": "NameError",
     "evalue": "name 'data' is not defined",
     "output_type": "error",
     "traceback": [
      "\u001b[0;31m---------------------------------------------------------------------------\u001b[0m",
      "\u001b[0;31mNameError\u001b[0m                                 Traceback (most recent call last)",
      "Cell \u001b[0;32mIn[2], line 4\u001b[0m\n\u001b[1;32m      1\u001b[0m \u001b[38;5;66;03m# The fucntion \"apply\" will extract each element and return the function value\u001b[39;00m\n\u001b[1;32m      2\u001b[0m \u001b[38;5;66;03m# It is similar to running a \"for-loop\" over each element\u001b[39;00m\n\u001b[0;32m----> 4\u001b[0m data[\u001b[38;5;124m\"\u001b[39m\u001b[38;5;124mcan_vote\u001b[39m\u001b[38;5;124m\"\u001b[39m]    \u001b[38;5;241m=\u001b[39m \u001b[43mdata\u001b[49m[\u001b[38;5;124m\"\u001b[39m\u001b[38;5;124mage\u001b[39m\u001b[38;5;124m\"\u001b[39m]\u001b[38;5;241m.\u001b[39mapply(fn_iseligible_vote)\n\u001b[1;32m      5\u001b[0m data[\u001b[38;5;124m\"\u001b[39m\u001b[38;5;124min_twenties\u001b[39m\u001b[38;5;124m\"\u001b[39m] \u001b[38;5;241m=\u001b[39m data[\u001b[38;5;124m\"\u001b[39m\u001b[38;5;124mage\u001b[39m\u001b[38;5;124m\"\u001b[39m]\u001b[38;5;241m.\u001b[39mapply(fn_istwenties)\n\u001b[1;32m      6\u001b[0m data[\u001b[38;5;124m\"\u001b[39m\u001b[38;5;124mage_bracket\u001b[39m\u001b[38;5;124m\"\u001b[39m] \u001b[38;5;241m=\u001b[39m data[\u001b[38;5;124m\"\u001b[39m\u001b[38;5;124mage\u001b[39m\u001b[38;5;124m\"\u001b[39m]\u001b[38;5;241m.\u001b[39mapply(fn_agebracket)\n",
      "\u001b[0;31mNameError\u001b[0m: name 'data' is not defined"
     ]
    }
   ],
   "source": [
    "# The fucntion \"apply\" will extract each element and return the function value\n",
    "# It is similar to running a \"for-loop\" over each element\n",
    "\n",
    "data[\"can_vote\"]    = data[\"age\"].apply(fn_iseligible_vote)\n",
    "data[\"in_twenties\"] = data[\"age\"].apply(fn_istwenties)\n",
    "data[\"age_bracket\"] = data[\"age\"].apply(fn_agebracket)\n",
    "\n",
    "\n",
    "# NOTE: The following code also works:\n",
    "# data[\"can_vote\"]    = data[\"age\"].apply(lambda age: age >= 18)\n",
    "# data[\"in_twenties\"] = data[\"age\"].apply(lambda age: (age >= 20) & (age < 30))\n",
    "\n",
    "display(data)\n"
   ]
  },
  {
   "cell_type": "markdown",
   "metadata": {},
   "source": [
    "<font size = \"5\">\n",
    "\n",
    "Creating a new variable"
   ]
  },
  {
   "cell_type": "code",
   "execution_count": 24,
   "metadata": {},
   "outputs": [
    {
     "data": {
      "application/vnd.microsoft.datawrangler.viewer.v0+json": {
       "columns": [
        {
         "name": "index",
         "rawType": "int64",
         "type": "integer"
        },
        {
         "name": "age",
         "rawType": "int64",
         "type": "integer"
        },
        {
         "name": "num_underage_siblings",
         "rawType": "int64",
         "type": "integer"
        },
        {
         "name": "num_adult_siblings",
         "rawType": "int64",
         "type": "integer"
        },
        {
         "name": "can_vote",
         "rawType": "bool",
         "type": "boolean"
        },
        {
         "name": "in_twenties",
         "rawType": "bool",
         "type": "boolean"
        },
        {
         "name": "age_bracket",
         "rawType": "object",
         "type": "string"
        },
        {
         "name": "new_var",
         "rawType": "bool",
         "type": "boolean"
        }
       ],
       "conversionMethod": "pd.DataFrame",
       "ref": "c70c5914-4d9f-4e1b-be9e-dd592c0dbf0b",
       "rows": [
        [
         "0",
         "18",
         "0",
         "1",
         "True",
         "False",
         "Adult",
         "True"
        ],
        [
         "1",
         "29",
         "0",
         "0",
         "True",
         "True",
         "Adult",
         "True"
        ],
        [
         "2",
         "15",
         "1",
         "0",
         "False",
         "False",
         "Adolescent",
         "False"
        ],
        [
         "3",
         "32",
         "1",
         "1",
         "True",
         "False",
         "Adult",
         "True"
        ],
        [
         "4",
         "6",
         "0",
         "0",
         "False",
         "False",
         "Child",
         "False"
        ]
       ],
       "shape": {
        "columns": 7,
        "rows": 5
       }
      },
      "text/html": [
       "<div>\n",
       "<style scoped>\n",
       "    .dataframe tbody tr th:only-of-type {\n",
       "        vertical-align: middle;\n",
       "    }\n",
       "\n",
       "    .dataframe tbody tr th {\n",
       "        vertical-align: top;\n",
       "    }\n",
       "\n",
       "    .dataframe thead th {\n",
       "        text-align: right;\n",
       "    }\n",
       "</style>\n",
       "<table border=\"1\" class=\"dataframe\">\n",
       "  <thead>\n",
       "    <tr style=\"text-align: right;\">\n",
       "      <th></th>\n",
       "      <th>age</th>\n",
       "      <th>num_underage_siblings</th>\n",
       "      <th>num_adult_siblings</th>\n",
       "      <th>can_vote</th>\n",
       "      <th>in_twenties</th>\n",
       "      <th>age_bracket</th>\n",
       "      <th>new_var</th>\n",
       "    </tr>\n",
       "  </thead>\n",
       "  <tbody>\n",
       "    <tr>\n",
       "      <th>0</th>\n",
       "      <td>18</td>\n",
       "      <td>0</td>\n",
       "      <td>1</td>\n",
       "      <td>True</td>\n",
       "      <td>False</td>\n",
       "      <td>Adult</td>\n",
       "      <td>True</td>\n",
       "    </tr>\n",
       "    <tr>\n",
       "      <th>1</th>\n",
       "      <td>29</td>\n",
       "      <td>0</td>\n",
       "      <td>0</td>\n",
       "      <td>True</td>\n",
       "      <td>True</td>\n",
       "      <td>Adult</td>\n",
       "      <td>True</td>\n",
       "    </tr>\n",
       "    <tr>\n",
       "      <th>2</th>\n",
       "      <td>15</td>\n",
       "      <td>1</td>\n",
       "      <td>0</td>\n",
       "      <td>False</td>\n",
       "      <td>False</td>\n",
       "      <td>Adolescent</td>\n",
       "      <td>False</td>\n",
       "    </tr>\n",
       "    <tr>\n",
       "      <th>3</th>\n",
       "      <td>32</td>\n",
       "      <td>1</td>\n",
       "      <td>1</td>\n",
       "      <td>True</td>\n",
       "      <td>False</td>\n",
       "      <td>Adult</td>\n",
       "      <td>True</td>\n",
       "    </tr>\n",
       "    <tr>\n",
       "      <th>4</th>\n",
       "      <td>6</td>\n",
       "      <td>0</td>\n",
       "      <td>0</td>\n",
       "      <td>False</td>\n",
       "      <td>False</td>\n",
       "      <td>Child</td>\n",
       "      <td>False</td>\n",
       "    </tr>\n",
       "  </tbody>\n",
       "</table>\n",
       "</div>"
      ],
      "text/plain": [
       "   age  num_underage_siblings  num_adult_siblings  can_vote  in_twenties  \\\n",
       "0   18                      0                   1      True        False   \n",
       "1   29                      0                   0      True         True   \n",
       "2   15                      1                   0     False        False   \n",
       "3   32                      1                   1      True        False   \n",
       "4    6                      0                   0     False        False   \n",
       "\n",
       "  age_bracket  new_var  \n",
       "0       Adult     True  \n",
       "1       Adult     True  \n",
       "2  Adolescent    False  \n",
       "3       Adult     True  \n",
       "4       Child    False  "
      ]
     },
     "execution_count": 24,
     "metadata": {},
     "output_type": "execute_result"
    }
   ],
   "source": [
    "data['new_var'] = data['age'].apply(lambda age: age >= 18)\n",
    "data"
   ]
  },
  {
   "cell_type": "markdown",
   "metadata": {},
   "source": [
    "<font size = \"5\">\n",
    "\n",
    "Dropping an existing variable"
   ]
  },
  {
   "cell_type": "code",
   "execution_count": 25,
   "metadata": {},
   "outputs": [
    {
     "data": {
      "application/vnd.microsoft.datawrangler.viewer.v0+json": {
       "columns": [
        {
         "name": "index",
         "rawType": "int64",
         "type": "integer"
        },
        {
         "name": "age",
         "rawType": "int64",
         "type": "integer"
        },
        {
         "name": "num_underage_siblings",
         "rawType": "int64",
         "type": "integer"
        },
        {
         "name": "num_adult_siblings",
         "rawType": "int64",
         "type": "integer"
        },
        {
         "name": "can_vote",
         "rawType": "bool",
         "type": "boolean"
        },
        {
         "name": "in_twenties",
         "rawType": "bool",
         "type": "boolean"
        },
        {
         "name": "age_bracket",
         "rawType": "object",
         "type": "string"
        }
       ],
       "conversionMethod": "pd.DataFrame",
       "ref": "b2e3374f-24e5-4824-8ef9-34905cc212e8",
       "rows": [
        [
         "0",
         "18",
         "0",
         "1",
         "True",
         "False",
         "Adult"
        ],
        [
         "1",
         "29",
         "0",
         "0",
         "True",
         "True",
         "Adult"
        ],
        [
         "2",
         "15",
         "1",
         "0",
         "False",
         "False",
         "Adolescent"
        ],
        [
         "3",
         "32",
         "1",
         "1",
         "True",
         "False",
         "Adult"
        ],
        [
         "4",
         "6",
         "0",
         "0",
         "False",
         "False",
         "Child"
        ]
       ],
       "shape": {
        "columns": 6,
        "rows": 5
       }
      },
      "text/html": [
       "<div>\n",
       "<style scoped>\n",
       "    .dataframe tbody tr th:only-of-type {\n",
       "        vertical-align: middle;\n",
       "    }\n",
       "\n",
       "    .dataframe tbody tr th {\n",
       "        vertical-align: top;\n",
       "    }\n",
       "\n",
       "    .dataframe thead th {\n",
       "        text-align: right;\n",
       "    }\n",
       "</style>\n",
       "<table border=\"1\" class=\"dataframe\">\n",
       "  <thead>\n",
       "    <tr style=\"text-align: right;\">\n",
       "      <th></th>\n",
       "      <th>age</th>\n",
       "      <th>num_underage_siblings</th>\n",
       "      <th>num_adult_siblings</th>\n",
       "      <th>can_vote</th>\n",
       "      <th>in_twenties</th>\n",
       "      <th>age_bracket</th>\n",
       "    </tr>\n",
       "  </thead>\n",
       "  <tbody>\n",
       "    <tr>\n",
       "      <th>0</th>\n",
       "      <td>18</td>\n",
       "      <td>0</td>\n",
       "      <td>1</td>\n",
       "      <td>True</td>\n",
       "      <td>False</td>\n",
       "      <td>Adult</td>\n",
       "    </tr>\n",
       "    <tr>\n",
       "      <th>1</th>\n",
       "      <td>29</td>\n",
       "      <td>0</td>\n",
       "      <td>0</td>\n",
       "      <td>True</td>\n",
       "      <td>True</td>\n",
       "      <td>Adult</td>\n",
       "    </tr>\n",
       "    <tr>\n",
       "      <th>2</th>\n",
       "      <td>15</td>\n",
       "      <td>1</td>\n",
       "      <td>0</td>\n",
       "      <td>False</td>\n",
       "      <td>False</td>\n",
       "      <td>Adolescent</td>\n",
       "    </tr>\n",
       "    <tr>\n",
       "      <th>3</th>\n",
       "      <td>32</td>\n",
       "      <td>1</td>\n",
       "      <td>1</td>\n",
       "      <td>True</td>\n",
       "      <td>False</td>\n",
       "      <td>Adult</td>\n",
       "    </tr>\n",
       "    <tr>\n",
       "      <th>4</th>\n",
       "      <td>6</td>\n",
       "      <td>0</td>\n",
       "      <td>0</td>\n",
       "      <td>False</td>\n",
       "      <td>False</td>\n",
       "      <td>Child</td>\n",
       "    </tr>\n",
       "  </tbody>\n",
       "</table>\n",
       "</div>"
      ],
      "text/plain": [
       "   age  num_underage_siblings  num_adult_siblings  can_vote  in_twenties  \\\n",
       "0   18                      0                   1      True        False   \n",
       "1   29                      0                   0      True         True   \n",
       "2   15                      1                   0     False        False   \n",
       "3   32                      1                   1      True        False   \n",
       "4    6                      0                   0     False        False   \n",
       "\n",
       "  age_bracket  \n",
       "0       Adult  \n",
       "1       Adult  \n",
       "2  Adolescent  \n",
       "3       Adult  \n",
       "4       Child  "
      ]
     },
     "execution_count": 25,
     "metadata": {},
     "output_type": "execute_result"
    }
   ],
   "source": [
    "data = data.drop(columns=['new_var'])\n",
    "data"
   ]
  },
  {
   "attachments": {},
   "cell_type": "markdown",
   "metadata": {},
   "source": [
    "<font size = \"5\">\n",
    "\n",
    "Mapping functions with one or more arguments <br>\n",
    "\n",
    "**Definition:** The ```map()``` function executes a <br>\n",
    "specified function for each item in an iterable <br>\n",
    "(such as a list or an array). <br>\n",
    " The item is sent to the function as a parameter.\n",
    "\n",
    "```python\n",
    "list(map(myfunction, list1,list2, ....))\n",
    "```"
   ]
  },
  {
   "cell_type": "code",
   "execution_count": 33,
   "metadata": {},
   "outputs": [
    {
     "data": {
      "text/plain": [
       "[True, True, False, True, False]"
      ]
     },
     "execution_count": 33,
     "metadata": {},
     "output_type": "execute_result"
    }
   ],
   "source": [
    "list(map(fn_iseligible_vote, data[\"age\"]))"
   ]
  },
  {
   "cell_type": "code",
   "execution_count": 34,
   "metadata": {},
   "outputs": [],
   "source": [
    "# Repeat the above example with map\n",
    "# We use list() to convert the output to a list\n",
    "# The first argument of map() is a function\n",
    "# The following arguments are the subarguments of the function\n",
    "\n",
    "data[\"can_vote_map\"] = list(map(fn_iseligible_vote, data[\"age\"]))"
   ]
  },
  {
   "cell_type": "code",
   "execution_count": 35,
   "metadata": {},
   "outputs": [],
   "source": [
    "# In this example, there are more than two arguments\n",
    "\n",
    "data[\"num_siblings\"] = list(map(fn_sum,\n",
    "                                data[\"num_underage_siblings\"],\n",
    "                                data[\"num_adult_siblings\"]))"
   ]
  },
  {
   "cell_type": "code",
   "execution_count": 36,
   "metadata": {},
   "outputs": [
    {
     "data": {
      "text/plain": [
       "[1, 0, 1, 2, 0]"
      ]
     },
     "execution_count": 36,
     "metadata": {},
     "output_type": "execute_result"
    }
   ],
   "source": [
    "list(map(fn_sum, data[\"num_underage_siblings\"],\n",
    "         data[\"num_adult_siblings\"]))"
   ]
  },
  {
   "cell_type": "code",
   "execution_count": 37,
   "metadata": {},
   "outputs": [
    {
     "data": {
      "text/plain": [
       "0    1\n",
       "1    0\n",
       "2    1\n",
       "3    2\n",
       "4    0\n",
       "dtype: int64"
      ]
     },
     "execution_count": 37,
     "metadata": {},
     "output_type": "execute_result"
    }
   ],
   "source": [
    "data[\"num_underage_siblings\"] + data[\"num_adult_siblings\"]"
   ]
  },
  {
   "cell_type": "code",
   "execution_count": 38,
   "metadata": {},
   "outputs": [
    {
     "data": {
      "text/plain": [
       "0    0\n",
       "1    0\n",
       "2    1\n",
       "3    1\n",
       "4    0\n",
       "Name: num_underage_siblings, dtype: int64"
      ]
     },
     "execution_count": 38,
     "metadata": {},
     "output_type": "execute_result"
    }
   ],
   "source": [
    "data[\"num_underage_siblings\"]"
   ]
  },
  {
   "cell_type": "code",
   "execution_count": 32,
   "metadata": {},
   "outputs": [
    {
     "data": {
      "text/plain": [
       "0    1\n",
       "1    0\n",
       "2    0\n",
       "3    1\n",
       "4    0\n",
       "Name: num_adult_siblings, dtype: int64"
      ]
     },
     "execution_count": 32,
     "metadata": {},
     "output_type": "execute_result"
    }
   ],
   "source": [
    "data[\"num_adult_siblings\"]"
   ]
  },
  {
   "attachments": {},
   "cell_type": "markdown",
   "metadata": {},
   "source": [
    "<font size = \"5\">\n",
    "\n",
    "<span style=\"color:darkgreen\"> Recommended! </span>\n",
    "\n",
    "- Arguments can be split into multiple lines!\n",
    "- Start a separate line after a comma\n",
    "- Experts recommend each line has 80 characters or less"
   ]
  },
  {
   "cell_type": "code",
   "execution_count": 39,
   "metadata": {},
   "outputs": [],
   "source": [
    "data[\"num_siblings\"] = list(map(fn_sum,\n",
    "                                data[\"num_underage_siblings\"],\n",
    "                                data[\"num_adult_siblings\"]))"
   ]
  },
  {
   "attachments": {},
   "cell_type": "markdown",
   "metadata": {},
   "source": [
    "<font size = \"5\">\n",
    "\n",
    "Try it yourself!\n",
    "\n",
    "- Write a function checking whether num_siblings $\\ge$ 1\n",
    "- Add a variable to the dataset called \"has_siblings\"\n",
    "- Assign True/False to this variable using \"apply()\""
   ]
  },
  {
   "cell_type": "code",
   "execution_count": 41,
   "metadata": {},
   "outputs": [
    {
     "data": {
      "application/vnd.microsoft.datawrangler.viewer.v0+json": {
       "columns": [
        {
         "name": "index",
         "rawType": "int64",
         "type": "integer"
        },
        {
         "name": "age",
         "rawType": "int64",
         "type": "integer"
        },
        {
         "name": "num_underage_siblings",
         "rawType": "int64",
         "type": "integer"
        },
        {
         "name": "num_adult_siblings",
         "rawType": "int64",
         "type": "integer"
        },
        {
         "name": "can_vote",
         "rawType": "bool",
         "type": "boolean"
        },
        {
         "name": "in_twenties",
         "rawType": "bool",
         "type": "boolean"
        },
        {
         "name": "age_bracket",
         "rawType": "object",
         "type": "string"
        },
        {
         "name": "can_vote_map",
         "rawType": "bool",
         "type": "boolean"
        },
        {
         "name": "num_siblings",
         "rawType": "int64",
         "type": "integer"
        },
        {
         "name": "has_siblings",
         "rawType": "bool",
         "type": "boolean"
        }
       ],
       "conversionMethod": "pd.DataFrame",
       "ref": "000f27f2-e128-4c78-a776-ab59707d1d05",
       "rows": [
        [
         "0",
         "18",
         "0",
         "1",
         "True",
         "False",
         "Adult",
         "True",
         "1",
         "True"
        ],
        [
         "1",
         "29",
         "0",
         "0",
         "True",
         "True",
         "Adult",
         "True",
         "0",
         "False"
        ],
        [
         "2",
         "15",
         "1",
         "0",
         "False",
         "False",
         "Adolescent",
         "False",
         "1",
         "True"
        ],
        [
         "3",
         "32",
         "1",
         "1",
         "True",
         "False",
         "Adult",
         "True",
         "2",
         "True"
        ],
        [
         "4",
         "6",
         "0",
         "0",
         "False",
         "False",
         "Child",
         "False",
         "0",
         "False"
        ]
       ],
       "shape": {
        "columns": 9,
        "rows": 5
       }
      },
      "text/html": [
       "<div>\n",
       "<style scoped>\n",
       "    .dataframe tbody tr th:only-of-type {\n",
       "        vertical-align: middle;\n",
       "    }\n",
       "\n",
       "    .dataframe tbody tr th {\n",
       "        vertical-align: top;\n",
       "    }\n",
       "\n",
       "    .dataframe thead th {\n",
       "        text-align: right;\n",
       "    }\n",
       "</style>\n",
       "<table border=\"1\" class=\"dataframe\">\n",
       "  <thead>\n",
       "    <tr style=\"text-align: right;\">\n",
       "      <th></th>\n",
       "      <th>age</th>\n",
       "      <th>num_underage_siblings</th>\n",
       "      <th>num_adult_siblings</th>\n",
       "      <th>can_vote</th>\n",
       "      <th>in_twenties</th>\n",
       "      <th>age_bracket</th>\n",
       "      <th>can_vote_map</th>\n",
       "      <th>num_siblings</th>\n",
       "      <th>has_siblings</th>\n",
       "    </tr>\n",
       "  </thead>\n",
       "  <tbody>\n",
       "    <tr>\n",
       "      <th>0</th>\n",
       "      <td>18</td>\n",
       "      <td>0</td>\n",
       "      <td>1</td>\n",
       "      <td>True</td>\n",
       "      <td>False</td>\n",
       "      <td>Adult</td>\n",
       "      <td>True</td>\n",
       "      <td>1</td>\n",
       "      <td>True</td>\n",
       "    </tr>\n",
       "    <tr>\n",
       "      <th>1</th>\n",
       "      <td>29</td>\n",
       "      <td>0</td>\n",
       "      <td>0</td>\n",
       "      <td>True</td>\n",
       "      <td>True</td>\n",
       "      <td>Adult</td>\n",
       "      <td>True</td>\n",
       "      <td>0</td>\n",
       "      <td>False</td>\n",
       "    </tr>\n",
       "    <tr>\n",
       "      <th>2</th>\n",
       "      <td>15</td>\n",
       "      <td>1</td>\n",
       "      <td>0</td>\n",
       "      <td>False</td>\n",
       "      <td>False</td>\n",
       "      <td>Adolescent</td>\n",
       "      <td>False</td>\n",
       "      <td>1</td>\n",
       "      <td>True</td>\n",
       "    </tr>\n",
       "    <tr>\n",
       "      <th>3</th>\n",
       "      <td>32</td>\n",
       "      <td>1</td>\n",
       "      <td>1</td>\n",
       "      <td>True</td>\n",
       "      <td>False</td>\n",
       "      <td>Adult</td>\n",
       "      <td>True</td>\n",
       "      <td>2</td>\n",
       "      <td>True</td>\n",
       "    </tr>\n",
       "    <tr>\n",
       "      <th>4</th>\n",
       "      <td>6</td>\n",
       "      <td>0</td>\n",
       "      <td>0</td>\n",
       "      <td>False</td>\n",
       "      <td>False</td>\n",
       "      <td>Child</td>\n",
       "      <td>False</td>\n",
       "      <td>0</td>\n",
       "      <td>False</td>\n",
       "    </tr>\n",
       "  </tbody>\n",
       "</table>\n",
       "</div>"
      ],
      "text/plain": [
       "   age  num_underage_siblings  num_adult_siblings  can_vote  in_twenties  \\\n",
       "0   18                      0                   1      True        False   \n",
       "1   29                      0                   0      True         True   \n",
       "2   15                      1                   0     False        False   \n",
       "3   32                      1                   1      True        False   \n",
       "4    6                      0                   0     False        False   \n",
       "\n",
       "  age_bracket  can_vote_map  num_siblings  has_siblings  \n",
       "0       Adult          True             1          True  \n",
       "1       Adult          True             0         False  \n",
       "2  Adolescent         False             1          True  \n",
       "3       Adult          True             2          True  \n",
       "4       Child         False             0         False  "
      ]
     },
     "metadata": {},
     "output_type": "display_data"
    }
   ],
   "source": [
    "# Write your own code\n",
    "\n",
    "has_sibs = lambda num_sibs: num_sibs >= 1\n",
    "data['has_siblings'] = data['num_siblings'].apply(has_sibs)\n",
    "display(data)\n"
   ]
  },
  {
   "attachments": {},
   "cell_type": "markdown",
   "metadata": {},
   "source": [
    "<font size = \"5\">\n",
    "\n",
    "Try it yourself!\n",
    "\n",
    "- Read the car dataset \"data_raw/features.csv\"\n",
    "- Create a function that tests whether mpg $\\ge$ 29\n",
    "- Add a variable \"mpg_above_29\" which is True/False if mpg $\\ge$ 29\n",
    "- Store the new dataset to \"data_clean/features.csv\"\n"
   ]
  },
  {
   "cell_type": "code",
   "execution_count": 46,
   "metadata": {},
   "outputs": [
    {
     "data": {
      "application/vnd.microsoft.datawrangler.viewer.v0+json": {
       "columns": [
        {
         "name": "index",
         "rawType": "int64",
         "type": "integer"
        },
        {
         "name": "mpg",
         "rawType": "float64",
         "type": "float"
        },
        {
         "name": "cylinders",
         "rawType": "int64",
         "type": "integer"
        },
        {
         "name": "displacement",
         "rawType": "int64",
         "type": "integer"
        },
        {
         "name": "horsepower",
         "rawType": "object",
         "type": "string"
        },
        {
         "name": "weight",
         "rawType": "int64",
         "type": "integer"
        },
        {
         "name": "acceleration",
         "rawType": "float64",
         "type": "float"
        },
        {
         "name": "vehicle_id",
         "rawType": "object",
         "type": "string"
        },
        {
         "name": "mpg_abv_29",
         "rawType": "bool",
         "type": "boolean"
        }
       ],
       "conversionMethod": "pd.DataFrame",
       "ref": "70fe6d50-6bf6-42c0-82d0-eecc131eca2e",
       "rows": [
        [
         "0",
         "18.0",
         "8",
         "307",
         "130",
         "3504",
         "12.0",
         "C-1689780",
         "False"
        ],
        [
         "1",
         "15.0",
         "8",
         "350",
         "165",
         "3693",
         "11.5",
         "B-1689791",
         "False"
        ],
        [
         "2",
         "18.0",
         "8",
         "318",
         "150",
         "3436",
         "11.0",
         "P-1689802",
         "False"
        ],
        [
         "3",
         "16.0",
         "8",
         "304",
         "150",
         "3433",
         "12.0",
         "A-1689813",
         "False"
        ],
        [
         "4",
         "17.0",
         "8",
         "302",
         "140",
         "3449",
         "10.5",
         "F-1689824",
         "False"
        ],
        [
         "5",
         "15.0",
         "8",
         "429",
         "198",
         "4341",
         "10.0",
         "F-1689835",
         "False"
        ],
        [
         "6",
         "14.0",
         "8",
         "454",
         "220",
         "4354",
         "9.0",
         "C-1689846",
         "False"
        ],
        [
         "7",
         "14.0",
         "8",
         "440",
         "215",
         "4312",
         "8.5",
         "P-1689857",
         "False"
        ],
        [
         "8",
         "14.0",
         "8",
         "455",
         "225",
         "4425",
         "10.0",
         "P-1689868",
         "False"
        ],
        [
         "9",
         "15.0",
         "8",
         "390",
         "190",
         "3850",
         "8.5",
         "A-1689879",
         "False"
        ],
        [
         "10",
         "15.0",
         "8",
         "383",
         "170",
         "3563",
         "10.0",
         "D-1689890",
         "False"
        ],
        [
         "11",
         "14.0",
         "8",
         "340",
         "160",
         "3609",
         "8.0",
         "P-1689901",
         "False"
        ],
        [
         "12",
         "15.0",
         "8",
         "400",
         "150",
         "3761",
         "9.5",
         "C-1689912",
         "False"
        ],
        [
         "13",
         "14.0",
         "8",
         "455",
         "225",
         "3086",
         "10.0",
         "B-1689923",
         "False"
        ],
        [
         "14",
         "24.0",
         "4",
         "113",
         "95",
         "2372",
         "15.0",
         "T-1689934",
         "False"
        ],
        [
         "15",
         "22.0",
         "6",
         "198",
         "95",
         "2833",
         "15.5",
         "P-1689945",
         "False"
        ],
        [
         "16",
         "18.0",
         "6",
         "199",
         "97",
         "2774",
         "15.5",
         "A-1689956",
         "False"
        ],
        [
         "17",
         "21.0",
         "6",
         "200",
         "85",
         "2587",
         "16.0",
         "F-1689967",
         "False"
        ],
        [
         "18",
         "27.0",
         "4",
         "97",
         "88",
         "2130",
         "14.5",
         "D-1689978",
         "False"
        ],
        [
         "19",
         "26.0",
         "4",
         "97",
         "46",
         "1835",
         "20.5",
         "V-1689989",
         "False"
        ],
        [
         "20",
         "25.0",
         "4",
         "110",
         "87",
         "2672",
         "17.5",
         "P-1690000",
         "False"
        ],
        [
         "21",
         "24.0",
         "4",
         "107",
         "90",
         "2430",
         "14.5",
         "A-1690011",
         "False"
        ],
        [
         "22",
         "25.0",
         "4",
         "104",
         "95",
         "2375",
         "17.5",
         "S-1690022",
         "False"
        ],
        [
         "23",
         "26.0",
         "4",
         "121",
         "113",
         "2234",
         "12.5",
         "B-1690033",
         "False"
        ],
        [
         "24",
         "21.0",
         "6",
         "199",
         "90",
         "2648",
         "15.0",
         "A-1690044",
         "False"
        ],
        [
         "25",
         "10.0",
         "8",
         "360",
         "215",
         "4615",
         "14.0",
         "F-1690055",
         "False"
        ],
        [
         "26",
         "10.0",
         "8",
         "307",
         "200",
         "4376",
         "15.0",
         "C-1690066",
         "False"
        ],
        [
         "27",
         "11.0",
         "8",
         "318",
         "210",
         "4382",
         "13.5",
         "D-1690077",
         "False"
        ],
        [
         "28",
         "9.0",
         "8",
         "304",
         "193",
         "4732",
         "18.5",
         "H-1690088",
         "False"
        ],
        [
         "29",
         "27.0",
         "4",
         "97",
         "88",
         "2130",
         "14.5",
         "D-1690099",
         "False"
        ],
        [
         "30",
         "28.0",
         "4",
         "140",
         "90",
         "2264",
         "15.5",
         "C-1690110",
         "False"
        ],
        [
         "31",
         "25.0",
         "4",
         "113",
         "95",
         "2228",
         "14.0",
         "T-1690121",
         "False"
        ],
        [
         "32",
         "25.0",
         "4",
         "98",
         null,
         "2046",
         "19.0",
         "F-1690132",
         "False"
        ],
        [
         "33",
         "19.0",
         "6",
         "232",
         "100",
         "2634",
         "13.0",
         "A-1690143",
         "False"
        ],
        [
         "34",
         "16.0",
         "6",
         "225",
         "105",
         "3439",
         "15.5",
         "P-1690154",
         "False"
        ],
        [
         "35",
         "17.0",
         "6",
         "250",
         "100",
         "3329",
         "15.5",
         "C-1690165",
         "False"
        ],
        [
         "36",
         "19.0",
         "6",
         "250",
         "88",
         "3302",
         "15.5",
         "F-1690176",
         "False"
        ],
        [
         "37",
         "18.0",
         "6",
         "232",
         "100",
         "3288",
         "15.5",
         "A-1690187",
         "False"
        ],
        [
         "38",
         "14.0",
         "8",
         "350",
         "165",
         "4209",
         "12.0",
         "C-1690198",
         "False"
        ],
        [
         "39",
         "14.0",
         "8",
         "400",
         "175",
         "4464",
         "11.5",
         "P-1690209",
         "False"
        ],
        [
         "40",
         "14.0",
         "8",
         "351",
         "153",
         "4154",
         "13.5",
         "F-1690220",
         "False"
        ],
        [
         "41",
         "14.0",
         "8",
         "318",
         "150",
         "4096",
         "13.0",
         "P-1690231",
         "False"
        ],
        [
         "42",
         "12.0",
         "8",
         "383",
         "180",
         "4955",
         "11.5",
         "D-1690242",
         "False"
        ],
        [
         "43",
         "13.0",
         "8",
         "400",
         "170",
         "4746",
         "12.0",
         "F-1690253",
         "False"
        ],
        [
         "44",
         "13.0",
         "8",
         "400",
         "175",
         "5140",
         "12.0",
         "P-1690264",
         "False"
        ],
        [
         "45",
         "18.0",
         "6",
         "258",
         "110",
         "2962",
         "13.5",
         "A-1690275",
         "False"
        ],
        [
         "46",
         "22.0",
         "4",
         "140",
         "72",
         "2408",
         "19.0",
         "C-1690286",
         "False"
        ],
        [
         "47",
         "19.0",
         "6",
         "250",
         "100",
         "3282",
         "15.0",
         "P-1690297",
         "False"
        ],
        [
         "48",
         "18.0",
         "6",
         "250",
         "88",
         "3139",
         "14.5",
         "F-1690308",
         "False"
        ],
        [
         "49",
         "23.0",
         "4",
         "122",
         "86",
         "2220",
         "14.0",
         "M-1690319",
         "False"
        ]
       ],
       "shape": {
        "columns": 8,
        "rows": 398
       }
      },
      "text/html": [
       "<div>\n",
       "<style scoped>\n",
       "    .dataframe tbody tr th:only-of-type {\n",
       "        vertical-align: middle;\n",
       "    }\n",
       "\n",
       "    .dataframe tbody tr th {\n",
       "        vertical-align: top;\n",
       "    }\n",
       "\n",
       "    .dataframe thead th {\n",
       "        text-align: right;\n",
       "    }\n",
       "</style>\n",
       "<table border=\"1\" class=\"dataframe\">\n",
       "  <thead>\n",
       "    <tr style=\"text-align: right;\">\n",
       "      <th></th>\n",
       "      <th>mpg</th>\n",
       "      <th>cylinders</th>\n",
       "      <th>displacement</th>\n",
       "      <th>horsepower</th>\n",
       "      <th>weight</th>\n",
       "      <th>acceleration</th>\n",
       "      <th>vehicle_id</th>\n",
       "      <th>mpg_abv_29</th>\n",
       "    </tr>\n",
       "  </thead>\n",
       "  <tbody>\n",
       "    <tr>\n",
       "      <th>0</th>\n",
       "      <td>18.0</td>\n",
       "      <td>8</td>\n",
       "      <td>307</td>\n",
       "      <td>130</td>\n",
       "      <td>3504</td>\n",
       "      <td>12.0</td>\n",
       "      <td>C-1689780</td>\n",
       "      <td>False</td>\n",
       "    </tr>\n",
       "    <tr>\n",
       "      <th>1</th>\n",
       "      <td>15.0</td>\n",
       "      <td>8</td>\n",
       "      <td>350</td>\n",
       "      <td>165</td>\n",
       "      <td>3693</td>\n",
       "      <td>11.5</td>\n",
       "      <td>B-1689791</td>\n",
       "      <td>False</td>\n",
       "    </tr>\n",
       "    <tr>\n",
       "      <th>2</th>\n",
       "      <td>18.0</td>\n",
       "      <td>8</td>\n",
       "      <td>318</td>\n",
       "      <td>150</td>\n",
       "      <td>3436</td>\n",
       "      <td>11.0</td>\n",
       "      <td>P-1689802</td>\n",
       "      <td>False</td>\n",
       "    </tr>\n",
       "    <tr>\n",
       "      <th>3</th>\n",
       "      <td>16.0</td>\n",
       "      <td>8</td>\n",
       "      <td>304</td>\n",
       "      <td>150</td>\n",
       "      <td>3433</td>\n",
       "      <td>12.0</td>\n",
       "      <td>A-1689813</td>\n",
       "      <td>False</td>\n",
       "    </tr>\n",
       "    <tr>\n",
       "      <th>4</th>\n",
       "      <td>17.0</td>\n",
       "      <td>8</td>\n",
       "      <td>302</td>\n",
       "      <td>140</td>\n",
       "      <td>3449</td>\n",
       "      <td>10.5</td>\n",
       "      <td>F-1689824</td>\n",
       "      <td>False</td>\n",
       "    </tr>\n",
       "    <tr>\n",
       "      <th>...</th>\n",
       "      <td>...</td>\n",
       "      <td>...</td>\n",
       "      <td>...</td>\n",
       "      <td>...</td>\n",
       "      <td>...</td>\n",
       "      <td>...</td>\n",
       "      <td>...</td>\n",
       "      <td>...</td>\n",
       "    </tr>\n",
       "    <tr>\n",
       "      <th>393</th>\n",
       "      <td>27.0</td>\n",
       "      <td>4</td>\n",
       "      <td>140</td>\n",
       "      <td>86</td>\n",
       "      <td>2790</td>\n",
       "      <td>15.6</td>\n",
       "      <td>F-1694103</td>\n",
       "      <td>False</td>\n",
       "    </tr>\n",
       "    <tr>\n",
       "      <th>394</th>\n",
       "      <td>44.0</td>\n",
       "      <td>4</td>\n",
       "      <td>97</td>\n",
       "      <td>52</td>\n",
       "      <td>2130</td>\n",
       "      <td>24.6</td>\n",
       "      <td>V-1694114</td>\n",
       "      <td>True</td>\n",
       "    </tr>\n",
       "    <tr>\n",
       "      <th>395</th>\n",
       "      <td>32.0</td>\n",
       "      <td>4</td>\n",
       "      <td>135</td>\n",
       "      <td>84</td>\n",
       "      <td>2295</td>\n",
       "      <td>11.6</td>\n",
       "      <td>D-1694125</td>\n",
       "      <td>True</td>\n",
       "    </tr>\n",
       "    <tr>\n",
       "      <th>396</th>\n",
       "      <td>28.0</td>\n",
       "      <td>4</td>\n",
       "      <td>120</td>\n",
       "      <td>79</td>\n",
       "      <td>2625</td>\n",
       "      <td>18.6</td>\n",
       "      <td>F-1694136</td>\n",
       "      <td>False</td>\n",
       "    </tr>\n",
       "    <tr>\n",
       "      <th>397</th>\n",
       "      <td>31.0</td>\n",
       "      <td>4</td>\n",
       "      <td>119</td>\n",
       "      <td>82</td>\n",
       "      <td>2720</td>\n",
       "      <td>19.4</td>\n",
       "      <td>C-1694147</td>\n",
       "      <td>True</td>\n",
       "    </tr>\n",
       "  </tbody>\n",
       "</table>\n",
       "<p>398 rows × 8 columns</p>\n",
       "</div>"
      ],
      "text/plain": [
       "      mpg  cylinders  displacement horsepower  weight  acceleration  \\\n",
       "0    18.0          8           307        130    3504          12.0   \n",
       "1    15.0          8           350        165    3693          11.5   \n",
       "2    18.0          8           318        150    3436          11.0   \n",
       "3    16.0          8           304        150    3433          12.0   \n",
       "4    17.0          8           302        140    3449          10.5   \n",
       "..    ...        ...           ...        ...     ...           ...   \n",
       "393  27.0          4           140         86    2790          15.6   \n",
       "394  44.0          4            97         52    2130          24.6   \n",
       "395  32.0          4           135         84    2295          11.6   \n",
       "396  28.0          4           120         79    2625          18.6   \n",
       "397  31.0          4           119         82    2720          19.4   \n",
       "\n",
       "    vehicle_id  mpg_abv_29  \n",
       "0    C-1689780       False  \n",
       "1    B-1689791       False  \n",
       "2    P-1689802       False  \n",
       "3    A-1689813       False  \n",
       "4    F-1689824       False  \n",
       "..         ...         ...  \n",
       "393  F-1694103       False  \n",
       "394  V-1694114        True  \n",
       "395  D-1694125        True  \n",
       "396  F-1694136       False  \n",
       "397  C-1694147        True  \n",
       "\n",
       "[398 rows x 8 columns]"
      ]
     },
     "metadata": {},
     "output_type": "display_data"
    }
   ],
   "source": [
    "# Write your own code\n",
    "\n",
    "car = pd.read_csv(\"data_raw/features.csv\")\n",
    "\n",
    "mpg_abv_29 = lambda mpg: mpg >= 29\n",
    "    \n",
    "\n",
    "car[\"mpg_abv_29\"] = car['mpg'].apply(mpg_abv_29)\n",
    "\n",
    "\n",
    "clean_car = pd.DataFrame(car)\n",
    "display(clean_car)"
   ]
  },
  {
   "attachments": {},
   "cell_type": "markdown",
   "metadata": {},
   "source": [
    "<font size = \"5\">\n",
    "\n",
    "Try it yourself!\n",
    "\n",
    "- Map can also be applied to simple lists!\n",
    "- Create a lambda function with arguments {fruit,color}.\n",
    "- The function returns the string <br>\n",
    "\" A {fruit} is {color}\"\n",
    "- Create the following two lists:\n",
    "\n",
    "``` list_fruits  = [\"banana\",\"strawberry\",\"kiwi\"] ```\n",
    "\n",
    "``` list_colors  = [\"yellow\",\"red\",\"green\"] ```\n",
    "- Use the list(map()) function to output a list with the form"
   ]
  },
  {
   "cell_type": "code",
   "execution_count": 48,
   "metadata": {},
   "outputs": [
    {
     "data": {
      "text/plain": [
       "['A banana is yellow', 'A strawberry is red', 'A kiwi is green']"
      ]
     },
     "execution_count": 48,
     "metadata": {},
     "output_type": "execute_result"
    }
   ],
   "source": [
    "# Write your own code\n",
    "\n",
    "myfunc = lambda fruit, color: \"A \" + fruit + \" is \" + color\n",
    "\n",
    "list_fruits = [\"banana\",\"strawberry\",'kiwi']\n",
    "list_colors = [\"yellow\",\"red\",'green']\n",
    "\n",
    "list(map(myfunc,\n",
    "         list_fruits,\n",
    "         list_colors))\n",
    "\n"
   ]
  },
  {
   "attachments": {},
   "cell_type": "markdown",
   "metadata": {},
   "source": [
    "## <span style=\"color:darkblue\"> IV. (Optional) External Scripts </span>"
   ]
  },
  {
   "attachments": {},
   "cell_type": "markdown",
   "metadata": {},
   "source": [
    "<font size = \"5\">\n",
    "\n",
    "\".ipynb\" files ...\n",
    "\n",
    "- Markdown + python code\n",
    "- Great for interactive output!\n",
    "\n",
    "\".py\" files ...\n",
    "\n",
    "- Python (only) script\n",
    "- Used for specific tasks\n",
    "- Why? Split code into smaller, more manageable files\n"
   ]
  },
  {
   "attachments": {},
   "cell_type": "markdown",
   "metadata": {},
   "source": [
    "\n",
    "<font size = \"5\">\n",
    "\n",
    "<table><tr>\n",
    "<td style = \"border:0px\"> <img src=\"figures/screenshot_py_functions.png\" alt=\"drawing\" width=\"300\"/>  </td>\n",
    "<td style = \"border:0px\">\n",
    "\n",
    "File with functions\n",
    "\n",
    " </td>\n",
    "</tr></table>\n",
    "\n",
    "**A module is just a Python program that ends with <br>\n",
    ".py extension and a folder that contains a <br>\n",
    " module becomes a package!**\n",
    "\n",
    "\n"
   ]
  },
  {
   "cell_type": "markdown",
   "metadata": {},
   "source": [
    "<font size = \"5\">\n",
    "\n",
    "We can import functions into the working <br>\n",
    "environment from a file"
   ]
  },
  {
   "cell_type": "code",
   "execution_count": 49,
   "metadata": {},
   "outputs": [],
   "source": [
    "\n",
    "import scripts.example_functions as ef"
   ]
  },
  {
   "cell_type": "markdown",
   "metadata": {},
   "source": [
    "<font size = \"5\">\n",
    "\n",
    "We reference them using the alias"
   ]
  },
  {
   "cell_type": "code",
   "execution_count": 50,
   "metadata": {},
   "outputs": [
    {
     "name": "stdout",
     "output_type": "stream",
     "text": [
      "1\n",
      "25\n"
     ]
    },
    {
     "data": {
      "text/plain": [
       "'hi Juan'"
      ]
     },
     "execution_count": 50,
     "metadata": {},
     "output_type": "execute_result"
    }
   ],
   "source": [
    "x = 1\n",
    "print(ef.fn_quadratic(1))\n",
    "print(ef.fn_quadratic(5))\n",
    "\n",
    "ef.message_hello(\"Juan\")"
   ]
  },
  {
   "attachments": {},
   "cell_type": "markdown",
   "metadata": {},
   "source": [
    "\n",
    "<font size = \"5\">\n",
    "\n",
    "<table><tr>\n",
    "<td style = \"border:0px\"> <img src=\"figures/screenshot_py_variables.png\" alt=\"drawing\" width=\"300\"/>  </td>\n",
    "<td style = \"border:0px\">\n",
    "\n",
    "File with variables\n",
    "\n",
    "- Storing values/settings\n",
    "- Variables are global <br>\n",
    "(can be referenced later)\n",
    "\n",
    "</td>\n",
    "</tr></table>"
   ]
  },
  {
   "cell_type": "markdown",
   "metadata": {},
   "source": [
    "<font size = \"5\">\n",
    "\n",
    "We can also import and reference variables"
   ]
  },
  {
   "cell_type": "code",
   "execution_count": 51,
   "metadata": {},
   "outputs": [],
   "source": [
    "import scripts.example_variables as ev"
   ]
  },
  {
   "cell_type": "code",
   "execution_count": 52,
   "metadata": {},
   "outputs": [
    {
     "name": "stdout",
     "output_type": "stream",
     "text": [
      "1\n",
      "5\n"
     ]
    }
   ],
   "source": [
    "# When we run this program\n",
    "# # the value of alpha will be overwritten\n",
    "\n",
    "alpha = 1\n",
    "print(alpha)\n",
    "print(ev.alpha)"
   ]
  },
  {
   "cell_type": "markdown",
   "metadata": {},
   "source": [
    "<font size = \"5\">\n",
    "\n",
    "We can also use ``` from ``` and ``` * ``` <br>\n",
    "to import variables directly into the working <br>\n",
    "environment"
   ]
  },
  {
   "cell_type": "code",
   "execution_count": 53,
   "metadata": {},
   "outputs": [
    {
     "name": "stdout",
     "output_type": "stream",
     "text": [
      "5\n",
      "10\n",
      "20\n",
      "100\n"
     ]
    }
   ],
   "source": [
    "from scripts.example_variables import *\n",
    "\n",
    "print(alpha)\n",
    "print(beta)\n",
    "print(gamma)\n",
    "print(delta)\n"
   ]
  }
 ],
 "metadata": {
  "kernelspec": {
   "display_name": "base",
   "language": "python",
   "name": "python3"
  },
  "language_info": {
   "codemirror_mode": {
    "name": "ipython",
    "version": 3
   },
   "file_extension": ".py",
   "mimetype": "text/x-python",
   "name": "python",
   "nbconvert_exporter": "python",
   "pygments_lexer": "ipython3",
   "version": "3.10.9"
  },
  "orig_nbformat": 4,
  "vscode": {
   "interpreter": {
    "hash": "45fc1f684f6f416f40889115beff3ddf69879b64cf4bfee48cb72a61e9d15d1a"
   }
  }
 },
 "nbformat": 4,
 "nbformat_minor": 2
}
