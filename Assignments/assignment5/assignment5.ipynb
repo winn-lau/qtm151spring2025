{
 "cells": [
  {
   "attachments": {},
   "cell_type": "markdown",
   "metadata": {},
   "source": [
    "# Assignment 5"
   ]
  },
  {
   "attachments": {},
   "cell_type": "markdown",
   "metadata": {},
   "source": [
    "## Submit as an HTML file"
   ]
  },
  {
   "attachments": {},
   "cell_type": "markdown",
   "metadata": {},
   "source": [
    "<font size = \"5\">\n",
    "Print your name below"
   ]
  },
  {
   "cell_type": "code",
   "execution_count": 1,
   "metadata": {},
   "outputs": [
    {
     "name": "stdout",
     "output_type": "stream",
     "text": [
      "Winnie Lau\n"
     ]
    }
   ],
   "source": [
    "# Write your answer\n",
    "\n",
    "print(\"Winnie Lau\")"
   ]
  },
  {
   "attachments": {},
   "cell_type": "markdown",
   "metadata": {},
   "source": [
    "<font size = \"5\">\n",
    "\n",
    "Import the \"pandas\" library"
   ]
  },
  {
   "cell_type": "code",
   "execution_count": 2,
   "metadata": {},
   "outputs": [],
   "source": [
    "# Write your answer\n",
    "\n",
    "import pandas as pd"
   ]
  },
  {
   "attachments": {},
   "cell_type": "markdown",
   "metadata": {},
   "source": [
    "<font size = \"5\">\n",
    "\n",
    "Import the  \"os\" library\n",
    "\n",
    "- This is the \"operating system\" library\n",
    "- Helpful for managing folders"
   ]
  },
  {
   "cell_type": "code",
   "execution_count": 3,
   "metadata": {},
   "outputs": [],
   "source": [
    "# Write your answer\n",
    "\n",
    "import os as os"
   ]
  },
  {
   "attachments": {},
   "cell_type": "markdown",
   "metadata": {},
   "source": [
    "<font size = \"5\">\n",
    "(a) Store dataset `march_flights.csv` in another folder\n",
    "\n",
    "<font size = \"3\">\n",
    "\n",
    "<br>\n",
    "\n",
    "- Create a variable: $\\quad$ ``` dataset_name  = \"march_flights.csv\" ```\n",
    "- Create a variable: $\\quad$ ``` old_directory = \"flight_data/\" ```\n",
    "- Create a variable: $\\quad$ ``` new_directory = \"clean_data/\" ```\n",
    "- Create a variable \n",
    "$\\quad$ ``` old_path  = old_directory +  dataset_name```\n",
    "- Create a variable \n",
    "$\\quad$ ``` new_path  = new_directory +  dataset_name```\n",
    "- Read the the csv file in the old location and save it to the new location\n",
    "\n"
   ]
  },
  {
   "cell_type": "code",
   "execution_count": null,
   "metadata": {},
   "outputs": [],
   "source": [
    "# Write your answer\n",
    "\n",
    "# ????????\n",
    "dataset_name = \"march_flights.csv\"\n",
    "old_dictionary = \"flight_data/\"\n",
    "new_dictionary = \"clean_data/\"\n",
    "old_path = old_dictionary + dataset_name\n",
    "new_path = new_dictionary + dataset_name"
   ]
  },
  {
   "cell_type": "markdown",
   "metadata": {},
   "source": [
    "<font size = \"5\">\n",
    "\n",
    "(b) Check the working directory\n",
    "\n",
    "<font size = \"3\">\n",
    "\n",
    "- We will use a new command \"os.getcwd()\"\n",
    "- This shows you the current working directory (CWD) in your computer\n",
    "- This is usually the folder where your Python notebook is stored\n",
    "\n",
    "Run the following commands:\n",
    "\n",
    "- Get CWD: ``` current_directory = os.getcwd() ```\n",
    "- Print CWD: ``` print(current_directory) ```"
   ]
  },
  {
   "cell_type": "code",
   "execution_count": 11,
   "metadata": {},
   "outputs": [
    {
     "name": "stdout",
     "output_type": "stream",
     "text": [
      "/Users/winnie/Documents/GitHub/qtm151spring2025/Assignments/assignment5\n"
     ]
    }
   ],
   "source": [
    "# Write your answer\n",
    "\n",
    "current_directory = os.getcwd()\n",
    "print(current_directory)"
   ]
  },
  {
   "attachments": {},
   "cell_type": "markdown",
   "metadata": {},
   "source": [
    "<font size = \"5\">\n",
    "\n",
    "(c) Extract files from a directory\n",
    "\n",
    "\n",
    "<font size = \"3\" >\n",
    "- Get a list of files in the \"flight_data\" folder\n",
    "\n",
    " ```list_filenames = os.listdir(\"flight_data\")```\n",
    "\n",
    " - Print the list of files\n",
    " - Create an empty list called ```list_csv_files```\n",
    " - Run a for-loop over ```list_filenames```\n",
    " - Append each element to ```list_csv_files``` if its name begins with \"m\"\n",
    " - Add an else statement which prints <br>\n",
    " ```Filename does not begin with m.```<br>\n",
    "  where \"Filename\" is replaced with the actual file that doesn't begin with \"m\".\n",
    " - Print ```list_csv_files```\n",
    "\n",
    " The goal is to list all files in the directory that begin with \"m\".\n",
    "\n",
    " HINT:\n",
    " - Read the lecture on boolean variables\n",
    " - To get the first character of a string, use indexing: ```string[0]```.\n",
    " "
   ]
  },
  {
   "cell_type": "code",
   "execution_count": null,
   "metadata": {},
   "outputs": [],
   "source": [
    "# Write your answer\n"
   ]
  },
  {
   "attachments": {},
   "cell_type": "markdown",
   "metadata": {},
   "source": [
    "<font size = \"5\">\n",
    "\n",
    "(d) Define a Function\n",
    "\n",
    "<font size = \"3\">\n",
    "\n",
    "- The formula for converting temperatures from Fahrenheit to Celsius is $\\frac{5}{9}(F-32)$ <br>\n",
    "where $F$ = temperature in degrees Fahrenheit\n",
    "- Define a function ```f_to_c``` that does this with parameter $F$\n",
    "- Then use it to convert the following Fahrenheit temperatures to Celsius: <br>\n",
    "$\\quad $ $ (F = 50)$ <br>\n",
    "$\\quad $ $ (F = 77)$\n",
    "- Print the resulting outputs"
   ]
  },
  {
   "cell_type": "code",
   "execution_count": 4,
   "metadata": {},
   "outputs": [
    {
     "name": "stdout",
     "output_type": "stream",
     "text": [
      "10.0\n",
      "25.0\n"
     ]
    }
   ],
   "source": [
    "# Write your answer\n",
    "\n",
    "def f_to_c(F):\n",
    "    C = 5/9*(F-32)\n",
    "    return C\n",
    "\n",
    "print(f_to_c(F=50))\n",
    "print(f_to_c(F=77))\n"
   ]
  },
  {
   "attachments": {},
   "cell_type": "markdown",
   "metadata": {},
   "source": [
    "<font size = \"5\">\n",
    "\n",
    "(e) Import Python Scripts\n",
    "\n",
    "<font size = \"3\">\n",
    "\n",
    "- Import the function in ```scripts/auxiliaryfunction.py``` with the alias \"af\"\n",
    "\n",
    "- This function converts temperatures from Celsius to Fahrenheit\n",
    "- Enter the Celsius temperatures $10$ and $25$ in \"c_to_f\" and print the resulting outputs\n"
   ]
  },
  {
   "cell_type": "code",
   "execution_count": 9,
   "metadata": {},
   "outputs": [
    {
     "name": "stdout",
     "output_type": "stream",
     "text": [
      "50.0\n",
      "77.0\n"
     ]
    }
   ],
   "source": [
    "# Write your answer\n",
    "\n",
    "import scripts.auxiliaryfunction as af\n",
    "print(af.c_to_f(10))\n",
    "print(af.c_to_f(25))"
   ]
  },
  {
   "attachments": {},
   "cell_type": "markdown",
   "metadata": {},
   "source": [
    "<font size = \"5\">"
   ]
  }
 ],
 "metadata": {
  "kernelspec": {
   "display_name": "base",
   "language": "python",
   "name": "python3"
  },
  "language_info": {
   "codemirror_mode": {
    "name": "ipython",
    "version": 3
   },
   "file_extension": ".py",
   "mimetype": "text/x-python",
   "name": "python",
   "nbconvert_exporter": "python",
   "pygments_lexer": "ipython3",
   "version": "3.10.9"
  },
  "orig_nbformat": 4
 },
 "nbformat": 4,
 "nbformat_minor": 2
}
