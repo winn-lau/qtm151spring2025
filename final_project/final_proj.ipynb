{
 "cells": [
  {
   "cell_type": "markdown",
   "metadata": {},
   "source": [
    "# <span style=\"color:darkblue\"> Studying Average Lap Speed in F1  </span>\n",
    "\n",
    "<font size = \"4\">\n",
    "\n",
    "by Winnie Lau, Zoe Liu, Tashfia Noor\n",
    "\n",
    "QTM 151 - Section 1"
   ]
  },
  {
   "cell_type": "markdown",
   "metadata": {},
   "source": [
    "## Introduction\n",
    "\n",
    "Formula 1, more widely known as F1, is a global racing competition that focuses on single-seater formula racing cars. The competitive race is known for its extreme g-force, high speeds and international reach. The circuits are where drivers will race, which are located around the world with classic locations in Japan and Belgium and newer additions in Miami and Las Vegas. Drivers come from varying skill levels from holding multiple championships to first-time experiences. A typical race usually lasts from an hour-and-a-half to two hours, composed of a set number of laps based on the circuit layout. F1 races usually have 10 teams competing, with 2 drivers per team. Each team utilizes a car that is associated with a specific company or company collaboration e.g., Mclaren Mercedes, which holds the highest team standing in the 2024 season, is a partnership between McLaren’s racing expertise and Mercedes’ engineering products. Here, we can also identify constructors by their nationality based on the company’s country of origin. Based on the available data, we were interested in investigating constructor nationality as a factor of race speed. The question we are thus researching based on the F1 datasets is: How does the fastest average lap speed differ by constructor nationality, and how does it change over time?\n",
    "\n",
    "Results show an interesting pattern of fastestLapSpeed over time by constructor nationality, as seen by a decrease, followed by an increase, which we disucss in our discussion section. We begin by looking at the datasets and selecting the relevant columns to merge into a singular dataframe, such as constructorId and fastestLapSpeed, to answer our research question. We then clean the data for missing values and manipulate string-coded columns to numeric, when relevant. This is followed by an analysis into what the average fastestLapSpeed is, grouped by constructor nationality and year. From there, we graph the results to visualize how average fastestLapSpeed differs by constructor nationality and changes over time. The average fastestLapSpeeds are then calculated by constructor nationality, not separating by year, and the top 5 are extracted to create another graph that focuses in on the top constructor nationalities. We conclude with a discussion of the results and findings."
   ]
  },
  {
   "cell_type": "markdown",
   "metadata": {},
   "source": [
    "## Data Description\n",
    "\n",
    "We will be using dataset tables `results`, `races`, and `constructors`. In the `results` table, each row represents the information for a result, including the race, driver, constructor, time, rank, and all other relevant details associated with the result. A total of 25840 rows of results are included in the table. The `races` table consists of 1102 rows, each representing the the information for a race, inlcuidng race dates, times, year (1950 through 2023), name...etc. that are relevant to the race. The `constructors` table inlcudes 211 rows, each refers to details of a specific constructor with its unique identifier, name, nationality, and a url for the constructor's Wikipedia page. Libraries `pandas`, `matplotlib.pyplot`, `numpy`, and `MaxNLocator` from `matplotlib.ticker` are imported to manage dataframes, create plots for visualization, carry out mathematical operations, and format graphs respectively."
   ]
  },
  {
   "cell_type": "code",
   "execution_count": 96,
   "metadata": {},
   "outputs": [],
   "source": [
    "import pandas as pd\n",
    "import matplotlib.pyplot as plt\n",
    "import numpy as np\n",
    "from matplotlib.ticker import MaxNLocator"
   ]
  },
  {
   "cell_type": "code",
   "execution_count": 97,
   "metadata": {},
   "outputs": [
    {
     "name": "stdout",
     "output_type": "stream",
     "text": [
      "Table results table has 25840 rows.\n",
      "Table races table has 1102 rows.\n",
      "Table constructors table has 211 rows.\n"
     ]
    }
   ],
   "source": [
    "results = pd.read_csv(\"data_raw/results.csv\")\n",
    "races = pd.read_csv(\"data_raw/races.csv\")\n",
    "constructors = pd.read_csv(\"data_raw/constructors.csv\")\n",
    "\n",
    "print(\"Table results table has \" + str(len(results)) + \" rows.\")\n",
    "print(\"Table races table has \" + str(len(races)) + \" rows.\")\n",
    "print(\"Table constructors table has \" + str(len(constructors)) + \" rows.\")"
   ]
  },
  {
   "cell_type": "markdown",
   "metadata": {},
   "source": [
    "### Merging Procedures\n",
    "\n",
    "We began by merging the \"raceId\" and \"year\" columns of the races dataset with the \"raceId\", \"constructorId\", and \"fastestLapSpeed\" columns of the results dataset, using \"raceId\" as the key to merge on. From there, this dataframe was merged with the constructors dataset, and more specifically, the \"constructorId\", \"name\", and \"nationality\" columns, merging on \"constructorId\". This allowed us to have one dataframe called all_data that encompasses all the data we need to do further analysis, while removing any columns not relevant to our research question. A table of the all_data dataframe is displayed below."
   ]
  },
  {
   "cell_type": "code",
   "execution_count": 98,
   "metadata": {},
   "outputs": [
    {
     "data": {
      "application/vnd.microsoft.datawrangler.viewer.v0+json": {
       "columns": [
        {
         "name": "index",
         "rawType": "int64",
         "type": "integer"
        },
        {
         "name": "raceId",
         "rawType": "int64",
         "type": "integer"
        },
        {
         "name": "year",
         "rawType": "int64",
         "type": "integer"
        },
        {
         "name": "constructorId",
         "rawType": "float64",
         "type": "float"
        },
        {
         "name": "fastestLapSpeed",
         "rawType": "object",
         "type": "string"
        },
        {
         "name": "name",
         "rawType": "object",
         "type": "string"
        },
        {
         "name": "nationality",
         "rawType": "object",
         "type": "string"
        }
       ],
       "conversionMethod": "pd.DataFrame",
       "ref": "bb7f54d3-2f64-48a3-a054-4c616932a940",
       "rows": [
        [
         "0",
         "1",
         "2009",
         "23.0",
         "216.891",
         "Brawn",
         "British"
        ],
        [
         "1",
         "1",
         "2009",
         "23.0",
         "214.344",
         "Brawn",
         "British"
        ],
        [
         "2",
         "1",
         "2009",
         "7.0",
         "214.706",
         "Toyota",
         "Japanese"
        ],
        [
         "3",
         "1",
         "2009",
         "7.0",
         "215.920",
         "Toyota",
         "Japanese"
        ],
        [
         "4",
         "1",
         "2009",
         "4.0",
         "215.199",
         "Renault",
         "French"
        ],
        [
         "5",
         "1",
         "2009",
         "3.0",
         "217.668",
         "Williams",
         "British"
        ],
        [
         "6",
         "1",
         "2009",
         "5.0",
         "213.950",
         "Toro Rosso",
         "Italian"
        ],
        [
         "7",
         "1",
         "2009",
         "5.0",
         "212.537",
         "Toro Rosso",
         "Italian"
        ],
        [
         "8",
         "1",
         "2009",
         "10.0",
         "214.640",
         "Force India",
         "Indian"
        ],
        [
         "9",
         "1",
         "2009",
         "2.0",
         "216.245",
         "BMW Sauber",
         "German"
        ],
        [
         "10",
         "1",
         "2009",
         "10.0",
         "214.491",
         "Force India",
         "Indian"
        ],
        [
         "11",
         "1",
         "2009",
         "9.0",
         "215.695",
         "Red Bull",
         "Austrian"
        ],
        [
         "12",
         "1",
         "2009",
         "9.0",
         "216.596",
         "Red Bull",
         "Austrian"
        ],
        [
         "13",
         "1",
         "2009",
         "2.0",
         "216.970",
         "BMW Sauber",
         "German"
        ],
        [
         "14",
         "1",
         "2009",
         "6.0",
         "215.744",
         "Ferrari",
         "Italian"
        ],
        [
         "15",
         "1",
         "2009",
         "6.0",
         "214.164",
         "Ferrari",
         "Italian"
        ],
        [
         "16",
         "1",
         "2009",
         "4.0",
         "210.943",
         "Renault",
         "French"
        ],
        [
         "17",
         "1",
         "2009",
         "3.0",
         "212.301",
         "Williams",
         "British"
        ],
        [
         "18",
         "1",
         "2009",
         "1.0",
         "\\N",
         "McLaren",
         "British"
        ],
        [
         "19",
         "1",
         "2009",
         "1.0",
         "214.455",
         "McLaren",
         "British"
        ],
        [
         "20",
         "2",
         "2009",
         "23.0",
         "206.483",
         "Brawn",
         "British"
        ],
        [
         "21",
         "2",
         "2009",
         "2.0",
         "201.392",
         "BMW Sauber",
         "German"
        ],
        [
         "22",
         "2",
         "2009",
         "7.0",
         "200.740",
         "Toyota",
         "Japanese"
        ],
        [
         "23",
         "2",
         "2009",
         "7.0",
         "204.473",
         "Toyota",
         "Japanese"
        ],
        [
         "24",
         "2",
         "2009",
         "23.0",
         "204.698",
         "Brawn",
         "British"
        ],
        [
         "25",
         "2",
         "2009",
         "9.0",
         "204.304",
         "Red Bull",
         "Austrian"
        ],
        [
         "26",
         "2",
         "2009",
         "1.0",
         "201.276",
         "McLaren",
         "British"
        ],
        [
         "27",
         "2",
         "2009",
         "3.0",
         "204.459",
         "Williams",
         "British"
        ],
        [
         "28",
         "2",
         "2009",
         "6.0",
         "201.055",
         "Ferrari",
         "Italian"
        ],
        [
         "29",
         "2",
         "2009",
         "5.0",
         "201.072",
         "Toro Rosso",
         "Italian"
        ],
        [
         "30",
         "2",
         "2009",
         "4.0",
         "201.551",
         "Renault",
         "French"
        ],
        [
         "31",
         "2",
         "2009",
         "3.0",
         "200.778",
         "Williams",
         "British"
        ],
        [
         "32",
         "2",
         "2009",
         "4.0",
         "201.019",
         "Renault",
         "French"
        ],
        [
         "33",
         "2",
         "2009",
         "6.0",
         "202.683",
         "Ferrari",
         "Italian"
        ],
        [
         "34",
         "2",
         "2009",
         "9.0",
         "202.737",
         "Red Bull",
         "Austrian"
        ],
        [
         "35",
         "2",
         "2009",
         "5.0",
         "201.689",
         "Toro Rosso",
         "Italian"
        ],
        [
         "36",
         "2",
         "2009",
         "10.0",
         "200.623",
         "Force India",
         "Indian"
        ],
        [
         "37",
         "2",
         "2009",
         "10.0",
         "200.738",
         "Force India",
         "Indian"
        ],
        [
         "38",
         "2",
         "2009",
         "2.0",
         "\\N",
         "BMW Sauber",
         "German"
        ],
        [
         "39",
         "2",
         "2009",
         "1.0",
         "\\N",
         "McLaren",
         "British"
        ],
        [
         "40",
         "3",
         "2009",
         "9.0",
         "174.235",
         "Red Bull",
         "Austrian"
        ],
        [
         "41",
         "3",
         "2009",
         "9.0",
         "173.690",
         "Red Bull",
         "Austrian"
        ],
        [
         "42",
         "3",
         "2009",
         "23.0",
         "172.825",
         "Brawn",
         "British"
        ],
        [
         "43",
         "3",
         "2009",
         "23.0",
         "174.289",
         "Brawn",
         "British"
        ],
        [
         "44",
         "3",
         "2009",
         "1.0",
         "171.361",
         "McLaren",
         "British"
        ],
        [
         "45",
         "3",
         "2009",
         "1.0",
         "171.138",
         "McLaren",
         "British"
        ],
        [
         "46",
         "3",
         "2009",
         "7.0",
         "174.117",
         "Toyota",
         "Japanese"
        ],
        [
         "47",
         "3",
         "2009",
         "5.0",
         "171.250",
         "Toro Rosso",
         "Italian"
        ],
        [
         "48",
         "3",
         "2009",
         "4.0",
         "171.413",
         "Renault",
         "French"
        ],
        [
         "49",
         "3",
         "2009",
         "6.0",
         "170.054",
         "Ferrari",
         "Italian"
        ]
       ],
       "shape": {
        "columns": 6,
        "rows": 25863
       }
      },
      "text/html": [
       "<div>\n",
       "<style scoped>\n",
       "    .dataframe tbody tr th:only-of-type {\n",
       "        vertical-align: middle;\n",
       "    }\n",
       "\n",
       "    .dataframe tbody tr th {\n",
       "        vertical-align: top;\n",
       "    }\n",
       "\n",
       "    .dataframe thead th {\n",
       "        text-align: right;\n",
       "    }\n",
       "</style>\n",
       "<table border=\"1\" class=\"dataframe\">\n",
       "  <thead>\n",
       "    <tr style=\"text-align: right;\">\n",
       "      <th></th>\n",
       "      <th>raceId</th>\n",
       "      <th>year</th>\n",
       "      <th>constructorId</th>\n",
       "      <th>fastestLapSpeed</th>\n",
       "      <th>name</th>\n",
       "      <th>nationality</th>\n",
       "    </tr>\n",
       "  </thead>\n",
       "  <tbody>\n",
       "    <tr>\n",
       "      <th>0</th>\n",
       "      <td>1</td>\n",
       "      <td>2009</td>\n",
       "      <td>23.0</td>\n",
       "      <td>216.891</td>\n",
       "      <td>Brawn</td>\n",
       "      <td>British</td>\n",
       "    </tr>\n",
       "    <tr>\n",
       "      <th>1</th>\n",
       "      <td>1</td>\n",
       "      <td>2009</td>\n",
       "      <td>23.0</td>\n",
       "      <td>214.344</td>\n",
       "      <td>Brawn</td>\n",
       "      <td>British</td>\n",
       "    </tr>\n",
       "    <tr>\n",
       "      <th>2</th>\n",
       "      <td>1</td>\n",
       "      <td>2009</td>\n",
       "      <td>7.0</td>\n",
       "      <td>214.706</td>\n",
       "      <td>Toyota</td>\n",
       "      <td>Japanese</td>\n",
       "    </tr>\n",
       "    <tr>\n",
       "      <th>3</th>\n",
       "      <td>1</td>\n",
       "      <td>2009</td>\n",
       "      <td>7.0</td>\n",
       "      <td>215.920</td>\n",
       "      <td>Toyota</td>\n",
       "      <td>Japanese</td>\n",
       "    </tr>\n",
       "    <tr>\n",
       "      <th>4</th>\n",
       "      <td>1</td>\n",
       "      <td>2009</td>\n",
       "      <td>4.0</td>\n",
       "      <td>215.199</td>\n",
       "      <td>Renault</td>\n",
       "      <td>French</td>\n",
       "    </tr>\n",
       "    <tr>\n",
       "      <th>...</th>\n",
       "      <td>...</td>\n",
       "      <td>...</td>\n",
       "      <td>...</td>\n",
       "      <td>...</td>\n",
       "      <td>...</td>\n",
       "      <td>...</td>\n",
       "    </tr>\n",
       "    <tr>\n",
       "      <th>25858</th>\n",
       "      <td>1116</td>\n",
       "      <td>2023</td>\n",
       "      <td>NaN</td>\n",
       "      <td>NaN</td>\n",
       "      <td>NaN</td>\n",
       "      <td>NaN</td>\n",
       "    </tr>\n",
       "    <tr>\n",
       "      <th>25859</th>\n",
       "      <td>1117</td>\n",
       "      <td>2023</td>\n",
       "      <td>NaN</td>\n",
       "      <td>NaN</td>\n",
       "      <td>NaN</td>\n",
       "      <td>NaN</td>\n",
       "    </tr>\n",
       "    <tr>\n",
       "      <th>25860</th>\n",
       "      <td>1118</td>\n",
       "      <td>2023</td>\n",
       "      <td>NaN</td>\n",
       "      <td>NaN</td>\n",
       "      <td>NaN</td>\n",
       "      <td>NaN</td>\n",
       "    </tr>\n",
       "    <tr>\n",
       "      <th>25861</th>\n",
       "      <td>1119</td>\n",
       "      <td>2023</td>\n",
       "      <td>NaN</td>\n",
       "      <td>NaN</td>\n",
       "      <td>NaN</td>\n",
       "      <td>NaN</td>\n",
       "    </tr>\n",
       "    <tr>\n",
       "      <th>25862</th>\n",
       "      <td>1120</td>\n",
       "      <td>2023</td>\n",
       "      <td>NaN</td>\n",
       "      <td>NaN</td>\n",
       "      <td>NaN</td>\n",
       "      <td>NaN</td>\n",
       "    </tr>\n",
       "  </tbody>\n",
       "</table>\n",
       "<p>25863 rows × 6 columns</p>\n",
       "</div>"
      ],
      "text/plain": [
       "       raceId  year  constructorId fastestLapSpeed     name nationality\n",
       "0           1  2009           23.0         216.891    Brawn     British\n",
       "1           1  2009           23.0         214.344    Brawn     British\n",
       "2           1  2009            7.0         214.706   Toyota    Japanese\n",
       "3           1  2009            7.0         215.920   Toyota    Japanese\n",
       "4           1  2009            4.0         215.199  Renault      French\n",
       "...       ...   ...            ...             ...      ...         ...\n",
       "25858    1116  2023            NaN             NaN      NaN         NaN\n",
       "25859    1117  2023            NaN             NaN      NaN         NaN\n",
       "25860    1118  2023            NaN             NaN      NaN         NaN\n",
       "25861    1119  2023            NaN             NaN      NaN         NaN\n",
       "25862    1120  2023            NaN             NaN      NaN         NaN\n",
       "\n",
       "[25863 rows x 6 columns]"
      ]
     },
     "metadata": {},
     "output_type": "display_data"
    }
   ],
   "source": [
    "# merging datasets\n",
    "\n",
    "races_results_merge = pd.merge(races[['raceId', 'year']],\n",
    "                 results[['raceId', 'constructorId', 'fastestLapSpeed']], \n",
    "                 on = \"raceId\",\n",
    "                 how = \"left\")\n",
    "\n",
    "races_results_constr_merge = pd.merge(races_results_merge,\n",
    "                 constructors[['constructorId', 'name', 'nationality']], \n",
    "                 on = \"constructorId\",\n",
    "                 how = \"left\")\n",
    "\n",
    "all_data = races_results_constr_merge\n",
    "\n",
    "display(all_data)\n"
   ]
  },
  {
   "cell_type": "markdown",
   "metadata": {},
   "source": [
    "### Data Cleaning\n",
    "\n",
    "We then cleaned our all_data dataframe by replacing the missing values, as represented as \"\\N\", with Nans. By coding the missing values as Nans, we were then able to turn the \"fastestLapSpeed\" column from a string coding to numeric coding. The missing values were subsequently dropped to ensure ease of future analyses. The table below indicates our cleaned dataframe."
   ]
  },
  {
   "cell_type": "code",
   "execution_count": 99,
   "metadata": {},
   "outputs": [
    {
     "data": {
      "application/vnd.microsoft.datawrangler.viewer.v0+json": {
       "columns": [
        {
         "name": "index",
         "rawType": "int64",
         "type": "integer"
        },
        {
         "name": "raceId",
         "rawType": "int64",
         "type": "integer"
        },
        {
         "name": "year",
         "rawType": "int64",
         "type": "integer"
        },
        {
         "name": "constructorId",
         "rawType": "float64",
         "type": "float"
        },
        {
         "name": "fastestLapSpeed",
         "rawType": "float64",
         "type": "float"
        },
        {
         "name": "name",
         "rawType": "object",
         "type": "string"
        },
        {
         "name": "nationality",
         "rawType": "object",
         "type": "string"
        }
       ],
       "conversionMethod": "pd.DataFrame",
       "ref": "ca7ea71d-7a41-4424-b49c-ae8a0776b37a",
       "rows": [
        [
         "0",
         "1",
         "2009",
         "23.0",
         "216.891",
         "Brawn",
         "British"
        ],
        [
         "1",
         "1",
         "2009",
         "23.0",
         "214.344",
         "Brawn",
         "British"
        ],
        [
         "2",
         "1",
         "2009",
         "7.0",
         "214.706",
         "Toyota",
         "Japanese"
        ],
        [
         "3",
         "1",
         "2009",
         "7.0",
         "215.92",
         "Toyota",
         "Japanese"
        ],
        [
         "4",
         "1",
         "2009",
         "4.0",
         "215.199",
         "Renault",
         "French"
        ],
        [
         "5",
         "1",
         "2009",
         "3.0",
         "217.668",
         "Williams",
         "British"
        ],
        [
         "6",
         "1",
         "2009",
         "5.0",
         "213.95",
         "Toro Rosso",
         "Italian"
        ],
        [
         "7",
         "1",
         "2009",
         "5.0",
         "212.537",
         "Toro Rosso",
         "Italian"
        ],
        [
         "8",
         "1",
         "2009",
         "10.0",
         "214.64",
         "Force India",
         "Indian"
        ],
        [
         "9",
         "1",
         "2009",
         "2.0",
         "216.245",
         "BMW Sauber",
         "German"
        ],
        [
         "10",
         "1",
         "2009",
         "10.0",
         "214.491",
         "Force India",
         "Indian"
        ],
        [
         "11",
         "1",
         "2009",
         "9.0",
         "215.695",
         "Red Bull",
         "Austrian"
        ],
        [
         "12",
         "1",
         "2009",
         "9.0",
         "216.596",
         "Red Bull",
         "Austrian"
        ],
        [
         "13",
         "1",
         "2009",
         "2.0",
         "216.97",
         "BMW Sauber",
         "German"
        ],
        [
         "14",
         "1",
         "2009",
         "6.0",
         "215.744",
         "Ferrari",
         "Italian"
        ],
        [
         "15",
         "1",
         "2009",
         "6.0",
         "214.164",
         "Ferrari",
         "Italian"
        ],
        [
         "16",
         "1",
         "2009",
         "4.0",
         "210.943",
         "Renault",
         "French"
        ],
        [
         "17",
         "1",
         "2009",
         "3.0",
         "212.301",
         "Williams",
         "British"
        ],
        [
         "19",
         "1",
         "2009",
         "1.0",
         "214.455",
         "McLaren",
         "British"
        ],
        [
         "20",
         "2",
         "2009",
         "23.0",
         "206.483",
         "Brawn",
         "British"
        ],
        [
         "21",
         "2",
         "2009",
         "2.0",
         "201.392",
         "BMW Sauber",
         "German"
        ],
        [
         "22",
         "2",
         "2009",
         "7.0",
         "200.74",
         "Toyota",
         "Japanese"
        ],
        [
         "23",
         "2",
         "2009",
         "7.0",
         "204.473",
         "Toyota",
         "Japanese"
        ],
        [
         "24",
         "2",
         "2009",
         "23.0",
         "204.698",
         "Brawn",
         "British"
        ],
        [
         "25",
         "2",
         "2009",
         "9.0",
         "204.304",
         "Red Bull",
         "Austrian"
        ],
        [
         "26",
         "2",
         "2009",
         "1.0",
         "201.276",
         "McLaren",
         "British"
        ],
        [
         "27",
         "2",
         "2009",
         "3.0",
         "204.459",
         "Williams",
         "British"
        ],
        [
         "28",
         "2",
         "2009",
         "6.0",
         "201.055",
         "Ferrari",
         "Italian"
        ],
        [
         "29",
         "2",
         "2009",
         "5.0",
         "201.072",
         "Toro Rosso",
         "Italian"
        ],
        [
         "30",
         "2",
         "2009",
         "4.0",
         "201.551",
         "Renault",
         "French"
        ],
        [
         "31",
         "2",
         "2009",
         "3.0",
         "200.778",
         "Williams",
         "British"
        ],
        [
         "32",
         "2",
         "2009",
         "4.0",
         "201.019",
         "Renault",
         "French"
        ],
        [
         "33",
         "2",
         "2009",
         "6.0",
         "202.683",
         "Ferrari",
         "Italian"
        ],
        [
         "34",
         "2",
         "2009",
         "9.0",
         "202.737",
         "Red Bull",
         "Austrian"
        ],
        [
         "35",
         "2",
         "2009",
         "5.0",
         "201.689",
         "Toro Rosso",
         "Italian"
        ],
        [
         "36",
         "2",
         "2009",
         "10.0",
         "200.623",
         "Force India",
         "Indian"
        ],
        [
         "37",
         "2",
         "2009",
         "10.0",
         "200.738",
         "Force India",
         "Indian"
        ],
        [
         "40",
         "3",
         "2009",
         "9.0",
         "174.235",
         "Red Bull",
         "Austrian"
        ],
        [
         "41",
         "3",
         "2009",
         "9.0",
         "173.69",
         "Red Bull",
         "Austrian"
        ],
        [
         "42",
         "3",
         "2009",
         "23.0",
         "172.825",
         "Brawn",
         "British"
        ],
        [
         "43",
         "3",
         "2009",
         "23.0",
         "174.289",
         "Brawn",
         "British"
        ],
        [
         "44",
         "3",
         "2009",
         "1.0",
         "171.361",
         "McLaren",
         "British"
        ],
        [
         "45",
         "3",
         "2009",
         "1.0",
         "171.138",
         "McLaren",
         "British"
        ],
        [
         "46",
         "3",
         "2009",
         "7.0",
         "174.117",
         "Toyota",
         "Japanese"
        ],
        [
         "47",
         "3",
         "2009",
         "5.0",
         "171.25",
         "Toro Rosso",
         "Italian"
        ],
        [
         "48",
         "3",
         "2009",
         "4.0",
         "171.413",
         "Renault",
         "French"
        ],
        [
         "49",
         "3",
         "2009",
         "6.0",
         "170.054",
         "Ferrari",
         "Italian"
        ],
        [
         "50",
         "3",
         "2009",
         "5.0",
         "172.934",
         "Toro Rosso",
         "Italian"
        ],
        [
         "51",
         "3",
         "2009",
         "2.0",
         "171.898",
         "BMW Sauber",
         "German"
        ],
        [
         "52",
         "3",
         "2009",
         "2.0",
         "170.122",
         "BMW Sauber",
         "German"
        ]
       ],
       "shape": {
        "columns": 6,
        "rows": 7379
       }
      },
      "text/html": [
       "<div>\n",
       "<style scoped>\n",
       "    .dataframe tbody tr th:only-of-type {\n",
       "        vertical-align: middle;\n",
       "    }\n",
       "\n",
       "    .dataframe tbody tr th {\n",
       "        vertical-align: top;\n",
       "    }\n",
       "\n",
       "    .dataframe thead th {\n",
       "        text-align: right;\n",
       "    }\n",
       "</style>\n",
       "<table border=\"1\" class=\"dataframe\">\n",
       "  <thead>\n",
       "    <tr style=\"text-align: right;\">\n",
       "      <th></th>\n",
       "      <th>raceId</th>\n",
       "      <th>year</th>\n",
       "      <th>constructorId</th>\n",
       "      <th>fastestLapSpeed</th>\n",
       "      <th>name</th>\n",
       "      <th>nationality</th>\n",
       "    </tr>\n",
       "  </thead>\n",
       "  <tbody>\n",
       "    <tr>\n",
       "      <th>0</th>\n",
       "      <td>1</td>\n",
       "      <td>2009</td>\n",
       "      <td>23.0</td>\n",
       "      <td>216.891</td>\n",
       "      <td>Brawn</td>\n",
       "      <td>British</td>\n",
       "    </tr>\n",
       "    <tr>\n",
       "      <th>1</th>\n",
       "      <td>1</td>\n",
       "      <td>2009</td>\n",
       "      <td>23.0</td>\n",
       "      <td>214.344</td>\n",
       "      <td>Brawn</td>\n",
       "      <td>British</td>\n",
       "    </tr>\n",
       "    <tr>\n",
       "      <th>2</th>\n",
       "      <td>1</td>\n",
       "      <td>2009</td>\n",
       "      <td>7.0</td>\n",
       "      <td>214.706</td>\n",
       "      <td>Toyota</td>\n",
       "      <td>Japanese</td>\n",
       "    </tr>\n",
       "    <tr>\n",
       "      <th>3</th>\n",
       "      <td>1</td>\n",
       "      <td>2009</td>\n",
       "      <td>7.0</td>\n",
       "      <td>215.920</td>\n",
       "      <td>Toyota</td>\n",
       "      <td>Japanese</td>\n",
       "    </tr>\n",
       "    <tr>\n",
       "      <th>4</th>\n",
       "      <td>1</td>\n",
       "      <td>2009</td>\n",
       "      <td>4.0</td>\n",
       "      <td>215.199</td>\n",
       "      <td>Renault</td>\n",
       "      <td>French</td>\n",
       "    </tr>\n",
       "    <tr>\n",
       "      <th>...</th>\n",
       "      <td>...</td>\n",
       "      <td>...</td>\n",
       "      <td>...</td>\n",
       "      <td>...</td>\n",
       "      <td>...</td>\n",
       "      <td>...</td>\n",
       "    </tr>\n",
       "    <tr>\n",
       "      <th>25835</th>\n",
       "      <td>1096</td>\n",
       "      <td>2022</td>\n",
       "      <td>210.0</td>\n",
       "      <td>211.632</td>\n",
       "      <td>Haas F1 Team</td>\n",
       "      <td>American</td>\n",
       "    </tr>\n",
       "    <tr>\n",
       "      <th>25836</th>\n",
       "      <td>1096</td>\n",
       "      <td>2022</td>\n",
       "      <td>210.0</td>\n",
       "      <td>208.556</td>\n",
       "      <td>Haas F1 Team</td>\n",
       "      <td>American</td>\n",
       "    </tr>\n",
       "    <tr>\n",
       "      <th>25837</th>\n",
       "      <td>1096</td>\n",
       "      <td>2022</td>\n",
       "      <td>131.0</td>\n",
       "      <td>211.738</td>\n",
       "      <td>Mercedes</td>\n",
       "      <td>German</td>\n",
       "    </tr>\n",
       "    <tr>\n",
       "      <th>25838</th>\n",
       "      <td>1096</td>\n",
       "      <td>2022</td>\n",
       "      <td>3.0</td>\n",
       "      <td>210.517</td>\n",
       "      <td>Williams</td>\n",
       "      <td>British</td>\n",
       "    </tr>\n",
       "    <tr>\n",
       "      <th>25839</th>\n",
       "      <td>1096</td>\n",
       "      <td>2022</td>\n",
       "      <td>214.0</td>\n",
       "      <td>209.889</td>\n",
       "      <td>Alpine F1 Team</td>\n",
       "      <td>French</td>\n",
       "    </tr>\n",
       "  </tbody>\n",
       "</table>\n",
       "<p>7379 rows × 6 columns</p>\n",
       "</div>"
      ],
      "text/plain": [
       "       raceId  year  constructorId  fastestLapSpeed            name  \\\n",
       "0           1  2009           23.0          216.891           Brawn   \n",
       "1           1  2009           23.0          214.344           Brawn   \n",
       "2           1  2009            7.0          214.706          Toyota   \n",
       "3           1  2009            7.0          215.920          Toyota   \n",
       "4           1  2009            4.0          215.199         Renault   \n",
       "...       ...   ...            ...              ...             ...   \n",
       "25835    1096  2022          210.0          211.632    Haas F1 Team   \n",
       "25836    1096  2022          210.0          208.556    Haas F1 Team   \n",
       "25837    1096  2022          131.0          211.738        Mercedes   \n",
       "25838    1096  2022            3.0          210.517        Williams   \n",
       "25839    1096  2022          214.0          209.889  Alpine F1 Team   \n",
       "\n",
       "      nationality  \n",
       "0         British  \n",
       "1         British  \n",
       "2        Japanese  \n",
       "3        Japanese  \n",
       "4          French  \n",
       "...           ...  \n",
       "25835    American  \n",
       "25836    American  \n",
       "25837      German  \n",
       "25838     British  \n",
       "25839      French  \n",
       "\n",
       "[7379 rows x 6 columns]"
      ]
     },
     "metadata": {},
     "output_type": "display_data"
    }
   ],
   "source": [
    "#cleaning data\n",
    "all_data[\"fastestLapSpeed\"] = all_data[\"fastestLapSpeed\"].replace('\\\\N', np.nan)\n",
    "all_data[\"fastestLapSpeed\"] = pd.to_numeric(all_data[\"fastestLapSpeed\"])\n",
    "all_data = all_data.dropna()\n",
    "display(all_data)"
   ]
  },
  {
   "cell_type": "markdown",
   "metadata": {},
   "source": [
    "### Descriptive Statistics: Main Columns\n",
    "\n",
    "The main columns in our merged dataset are \"raceId\", \"year\", \"constructorId\", \"fasestLapSpeed\", \"name\", and \"nationality\". \"raceId\" is a key for which race the data observation corresponds to. \"year\" indicates the year that the race took place. \"constructorId\" represents who the maker of the vehicle is. \"fastestLapSpeed\" indicates the speed of the fastest lap, in km/h, for the drivers of a particular constructor in a race. \"name\" holds the names of the brand of the car. \"nationality\" indicates the nationality of the corresponding constructor. \n",
    "\n",
    "The first table below shows descriptive statistics for the numerical columns in the all_data dataframe. For \"raceId\", \"year\", and \"constructorId\", the relevant information indicates 7379 observations in the dataset. The raceId ranges from 1 to 1096. The year column spans 2004 to 2022. The constructorId ranges from 1 to 214. The mean fastestLapSpeed is 203.089, with a standard deviation of 21.36. The slowest fastestLapSpeed is 89.54 km/h, and the fastest fastestLapSpeed is 257.32 km/h.\n",
    "\n",
    "The second table indicates the number of unique values for each column in all_data. There are 365 unique raceIds, 19 unique years represented, 34 constructorIds, and 14 nationalities of constructors."
   ]
  },
  {
   "cell_type": "code",
   "execution_count": 100,
   "metadata": {},
   "outputs": [
    {
     "data": {
      "application/vnd.microsoft.datawrangler.viewer.v0+json": {
       "columns": [
        {
         "name": "index",
         "rawType": "object",
         "type": "string"
        },
        {
         "name": "raceId",
         "rawType": "float64",
         "type": "float"
        },
        {
         "name": "year",
         "rawType": "float64",
         "type": "float"
        },
        {
         "name": "constructorId",
         "rawType": "float64",
         "type": "float"
        },
        {
         "name": "fastestLapSpeed",
         "rawType": "float64",
         "type": "float"
        }
       ],
       "conversionMethod": "pd.DataFrame",
       "ref": "575eabf5-58b6-44a9-8ae8-8eb53bf94e0e",
       "rows": [
        [
         "count",
         "7379.0",
         "7379.0",
         "7379.0",
         "7379.0"
        ],
        [
         "mean",
         "668.846185119935",
         "2013.1916248814202",
         "49.912860821249495",
         "203.08921412115464"
        ],
        [
         "std",
         "418.2863814894811",
         "5.393452080812178",
         "76.05899410393545",
         "21.35687608030935"
        ],
        [
         "min",
         "1.0",
         "2004.0",
         "1.0",
         "89.54"
        ],
        [
         "25%",
         "94.0",
         "2009.0",
         "4.0",
         "192.776"
        ],
        [
         "50%",
         "892.0",
         "2013.0",
         "9.0",
         "204.291"
        ],
        [
         "75%",
         "995.0",
         "2018.0",
         "51.0",
         "216.15949999999998"
        ],
        [
         "max",
         "1096.0",
         "2022.0",
         "214.0",
         "257.32"
        ]
       ],
       "shape": {
        "columns": 4,
        "rows": 8
       }
      },
      "text/html": [
       "<div>\n",
       "<style scoped>\n",
       "    .dataframe tbody tr th:only-of-type {\n",
       "        vertical-align: middle;\n",
       "    }\n",
       "\n",
       "    .dataframe tbody tr th {\n",
       "        vertical-align: top;\n",
       "    }\n",
       "\n",
       "    .dataframe thead th {\n",
       "        text-align: right;\n",
       "    }\n",
       "</style>\n",
       "<table border=\"1\" class=\"dataframe\">\n",
       "  <thead>\n",
       "    <tr style=\"text-align: right;\">\n",
       "      <th></th>\n",
       "      <th>raceId</th>\n",
       "      <th>year</th>\n",
       "      <th>constructorId</th>\n",
       "      <th>fastestLapSpeed</th>\n",
       "    </tr>\n",
       "  </thead>\n",
       "  <tbody>\n",
       "    <tr>\n",
       "      <th>count</th>\n",
       "      <td>7379.000000</td>\n",
       "      <td>7379.000000</td>\n",
       "      <td>7379.000000</td>\n",
       "      <td>7379.000000</td>\n",
       "    </tr>\n",
       "    <tr>\n",
       "      <th>mean</th>\n",
       "      <td>668.846185</td>\n",
       "      <td>2013.191625</td>\n",
       "      <td>49.912861</td>\n",
       "      <td>203.089214</td>\n",
       "    </tr>\n",
       "    <tr>\n",
       "      <th>std</th>\n",
       "      <td>418.286381</td>\n",
       "      <td>5.393452</td>\n",
       "      <td>76.058994</td>\n",
       "      <td>21.356876</td>\n",
       "    </tr>\n",
       "    <tr>\n",
       "      <th>min</th>\n",
       "      <td>1.000000</td>\n",
       "      <td>2004.000000</td>\n",
       "      <td>1.000000</td>\n",
       "      <td>89.540000</td>\n",
       "    </tr>\n",
       "    <tr>\n",
       "      <th>25%</th>\n",
       "      <td>94.000000</td>\n",
       "      <td>2009.000000</td>\n",
       "      <td>4.000000</td>\n",
       "      <td>192.776000</td>\n",
       "    </tr>\n",
       "    <tr>\n",
       "      <th>50%</th>\n",
       "      <td>892.000000</td>\n",
       "      <td>2013.000000</td>\n",
       "      <td>9.000000</td>\n",
       "      <td>204.291000</td>\n",
       "    </tr>\n",
       "    <tr>\n",
       "      <th>75%</th>\n",
       "      <td>995.000000</td>\n",
       "      <td>2018.000000</td>\n",
       "      <td>51.000000</td>\n",
       "      <td>216.159500</td>\n",
       "    </tr>\n",
       "    <tr>\n",
       "      <th>max</th>\n",
       "      <td>1096.000000</td>\n",
       "      <td>2022.000000</td>\n",
       "      <td>214.000000</td>\n",
       "      <td>257.320000</td>\n",
       "    </tr>\n",
       "  </tbody>\n",
       "</table>\n",
       "</div>"
      ],
      "text/plain": [
       "            raceId         year  constructorId  fastestLapSpeed\n",
       "count  7379.000000  7379.000000    7379.000000      7379.000000\n",
       "mean    668.846185  2013.191625      49.912861       203.089214\n",
       "std     418.286381     5.393452      76.058994        21.356876\n",
       "min       1.000000  2004.000000       1.000000        89.540000\n",
       "25%      94.000000  2009.000000       4.000000       192.776000\n",
       "50%     892.000000  2013.000000       9.000000       204.291000\n",
       "75%     995.000000  2018.000000      51.000000       216.159500\n",
       "max    1096.000000  2022.000000     214.000000       257.320000"
      ]
     },
     "metadata": {},
     "output_type": "display_data"
    },
    {
     "data": {
      "text/plain": [
       "raceId              365\n",
       "year                 19\n",
       "constructorId        34\n",
       "fastestLapSpeed    6937\n",
       "name                 34\n",
       "nationality          14\n",
       "dtype: int64"
      ]
     },
     "metadata": {},
     "output_type": "display_data"
    }
   ],
   "source": [
    "#descriptive statistics\n",
    "desc_stat_num = all_data.describe()\n",
    "display(desc_stat_num)\n",
    "\n",
    "desc_stat_unique = all_data.nunique()\n",
    "display(desc_stat_unique)"
   ]
  },
  {
   "cell_type": "markdown",
   "metadata": {},
   "source": [
    "## Results\n",
    "\n",
    "This table shows the average fastestLapSpeed, grouped by constructor nationality and year."
   ]
  },
  {
   "cell_type": "code",
   "execution_count": 101,
   "metadata": {},
   "outputs": [
    {
     "data": {
      "application/vnd.microsoft.datawrangler.viewer.v0+json": {
       "columns": [
        {
         "name": "index",
         "rawType": "int64",
         "type": "integer"
        },
        {
         "name": "nationality",
         "rawType": "object",
         "type": "string"
        },
        {
         "name": "year",
         "rawType": "int64",
         "type": "integer"
        },
        {
         "name": "avg_fastestLapSpeed",
         "rawType": "float64",
         "type": "float"
        }
       ],
       "conversionMethod": "pd.DataFrame",
       "ref": "26ea2129-c3bc-40aa-b56c-9752fd6f1003",
       "rows": [
        [
         "0",
         "American",
         "2016",
         "198.311625"
        ],
        [
         "1",
         "American",
         "2017",
         "204.412"
        ],
        [
         "2",
         "American",
         "2018",
         "206.5767435897436"
        ],
        [
         "3",
         "American",
         "2019",
         "206.7680487804878"
        ],
        [
         "4",
         "American",
         "2020",
         "213.3694375"
        ],
        [
         "5",
         "American",
         "2021",
         "209.008"
        ],
        [
         "6",
         "American",
         "2022",
         "203.91742857142856"
        ],
        [
         "7",
         "Austrian",
         "2005",
         "211.92725806451614"
        ],
        [
         "8",
         "Austrian",
         "2006",
         "202.30531428571427"
        ],
        [
         "9",
         "Austrian",
         "2007",
         "203.1748125"
        ],
        [
         "10",
         "Austrian",
         "2008",
         "200.82440625"
        ],
        [
         "11",
         "Austrian",
         "2009",
         "202.9629696969697"
        ],
        [
         "12",
         "Austrian",
         "2010",
         "202.4782105263158"
        ],
        [
         "13",
         "Austrian",
         "2011",
         "201.6098108108108"
        ],
        [
         "14",
         "Austrian",
         "2012",
         "199.0731"
        ],
        [
         "15",
         "Austrian",
         "2013",
         "201.1581052631579"
        ],
        [
         "16",
         "Austrian",
         "2014",
         "194.86310810810812"
        ],
        [
         "17",
         "Austrian",
         "2015",
         "196.57944444444445"
        ],
        [
         "18",
         "Austrian",
         "2016",
         "200.28487804878048"
        ],
        [
         "19",
         "Austrian",
         "2017",
         "208.4110277777778"
        ],
        [
         "20",
         "Austrian",
         "2018",
         "210.604475"
        ],
        [
         "21",
         "Austrian",
         "2019",
         "209.90543902439023"
        ],
        [
         "22",
         "Austrian",
         "2020",
         "219.3604375"
        ],
        [
         "23",
         "Austrian",
         "2021",
         "214.6401"
        ],
        [
         "24",
         "Austrian",
         "2022",
         "209.18654545454547"
        ],
        [
         "25",
         "British",
         "2004",
         "213.03812949640286"
        ],
        [
         "26",
         "British",
         "2005",
         "212.69057425742574"
        ],
        [
         "27",
         "British",
         "2006",
         "206.6258"
        ],
        [
         "28",
         "British",
         "2007",
         "204.65414925373133"
        ],
        [
         "29",
         "British",
         "2008",
         "202.91001408450705"
        ],
        [
         "30",
         "British",
         "2009",
         "202.48983673469388"
        ],
        [
         "31",
         "British",
         "2010",
         "197.1573831775701"
        ],
        [
         "32",
         "British",
         "2011",
         "194.74619642857144"
        ],
        [
         "33",
         "British",
         "2012",
         "197.383"
        ],
        [
         "34",
         "British",
         "2013",
         "199.03977876106194"
        ],
        [
         "35",
         "British",
         "2014",
         "194.72871818181818"
        ],
        [
         "36",
         "British",
         "2015",
         "192.09578947368422"
        ],
        [
         "37",
         "British",
         "2016",
         "196.48767213114755"
        ],
        [
         "38",
         "British",
         "2017",
         "204.09702702702702"
        ],
        [
         "39",
         "British",
         "2018",
         "206.2497283950617"
        ],
        [
         "40",
         "British",
         "2019",
         "206.48187096774194"
        ],
        [
         "41",
         "British",
         "2020",
         "215.8031649484536"
        ],
        [
         "42",
         "British",
         "2021",
         "210.76417886178862"
        ],
        [
         "43",
         "British",
         "2022",
         "204.9718992248062"
        ],
        [
         "44",
         "Dutch",
         "2006",
         "215.374375"
        ],
        [
         "45",
         "Dutch",
         "2007",
         "196.69178787878786"
        ],
        [
         "46",
         "French",
         "2004",
         "214.1626"
        ],
        [
         "47",
         "French",
         "2005",
         "212.3426111111111"
        ],
        [
         "48",
         "French",
         "2006",
         "208.50483333333332"
        ],
        [
         "49",
         "French",
         "2007",
         "202.24281818181817"
        ]
       ],
       "shape": {
        "columns": 3,
        "rows": 143
       }
      },
      "text/html": [
       "<div>\n",
       "<style scoped>\n",
       "    .dataframe tbody tr th:only-of-type {\n",
       "        vertical-align: middle;\n",
       "    }\n",
       "\n",
       "    .dataframe tbody tr th {\n",
       "        vertical-align: top;\n",
       "    }\n",
       "\n",
       "    .dataframe thead th {\n",
       "        text-align: right;\n",
       "    }\n",
       "</style>\n",
       "<table border=\"1\" class=\"dataframe\">\n",
       "  <thead>\n",
       "    <tr style=\"text-align: right;\">\n",
       "      <th></th>\n",
       "      <th>nationality</th>\n",
       "      <th>year</th>\n",
       "      <th>avg_fastestLapSpeed</th>\n",
       "    </tr>\n",
       "  </thead>\n",
       "  <tbody>\n",
       "    <tr>\n",
       "      <th>0</th>\n",
       "      <td>American</td>\n",
       "      <td>2016</td>\n",
       "      <td>198.311625</td>\n",
       "    </tr>\n",
       "    <tr>\n",
       "      <th>1</th>\n",
       "      <td>American</td>\n",
       "      <td>2017</td>\n",
       "      <td>204.412000</td>\n",
       "    </tr>\n",
       "    <tr>\n",
       "      <th>2</th>\n",
       "      <td>American</td>\n",
       "      <td>2018</td>\n",
       "      <td>206.576744</td>\n",
       "    </tr>\n",
       "    <tr>\n",
       "      <th>3</th>\n",
       "      <td>American</td>\n",
       "      <td>2019</td>\n",
       "      <td>206.768049</td>\n",
       "    </tr>\n",
       "    <tr>\n",
       "      <th>4</th>\n",
       "      <td>American</td>\n",
       "      <td>2020</td>\n",
       "      <td>213.369438</td>\n",
       "    </tr>\n",
       "    <tr>\n",
       "      <th>...</th>\n",
       "      <td>...</td>\n",
       "      <td>...</td>\n",
       "      <td>...</td>\n",
       "    </tr>\n",
       "    <tr>\n",
       "      <th>138</th>\n",
       "      <td>Swiss</td>\n",
       "      <td>2018</td>\n",
       "      <td>205.915375</td>\n",
       "    </tr>\n",
       "    <tr>\n",
       "      <th>139</th>\n",
       "      <td>Swiss</td>\n",
       "      <td>2019</td>\n",
       "      <td>207.597095</td>\n",
       "    </tr>\n",
       "    <tr>\n",
       "      <th>140</th>\n",
       "      <td>Swiss</td>\n",
       "      <td>2020</td>\n",
       "      <td>213.862676</td>\n",
       "    </tr>\n",
       "    <tr>\n",
       "      <th>141</th>\n",
       "      <td>Swiss</td>\n",
       "      <td>2021</td>\n",
       "      <td>210.802000</td>\n",
       "    </tr>\n",
       "    <tr>\n",
       "      <th>142</th>\n",
       "      <td>Swiss</td>\n",
       "      <td>2022</td>\n",
       "      <td>204.082762</td>\n",
       "    </tr>\n",
       "  </tbody>\n",
       "</table>\n",
       "<p>143 rows × 3 columns</p>\n",
       "</div>"
      ],
      "text/plain": [
       "    nationality  year  avg_fastestLapSpeed\n",
       "0      American  2016           198.311625\n",
       "1      American  2017           204.412000\n",
       "2      American  2018           206.576744\n",
       "3      American  2019           206.768049\n",
       "4      American  2020           213.369438\n",
       "..          ...   ...                  ...\n",
       "138       Swiss  2018           205.915375\n",
       "139       Swiss  2019           207.597095\n",
       "140       Swiss  2020           213.862676\n",
       "141       Swiss  2021           210.802000\n",
       "142       Swiss  2022           204.082762\n",
       "\n",
       "[143 rows x 3 columns]"
      ]
     },
     "execution_count": 101,
     "metadata": {},
     "output_type": "execute_result"
    }
   ],
   "source": [
    "# aggregate data - avg fastest lap speed\n",
    "avg_lapspeed = (all_data.groupby([\"nationality\", \"year\"])\n",
    "                        .agg(avg_fastestLapSpeed = ('fastestLapSpeed','mean'))) .reset_index()\n",
    "\n",
    "avg_lapspeed"
   ]
  },
  {
   "cell_type": "markdown",
   "metadata": {},
   "source": [
    "We pivot the table from a long to wide format, for ease of graphing the average fastestLapSpeed by nationality across time."
   ]
  },
  {
   "cell_type": "code",
   "execution_count": 102,
   "metadata": {},
   "outputs": [
    {
     "data": {
      "application/vnd.microsoft.datawrangler.viewer.v0+json": {
       "columns": [
        {
         "name": "year",
         "rawType": "int64",
         "type": "integer"
        },
        {
         "name": "American",
         "rawType": "float64",
         "type": "float"
        },
        {
         "name": "Austrian",
         "rawType": "float64",
         "type": "float"
        },
        {
         "name": "British",
         "rawType": "float64",
         "type": "float"
        },
        {
         "name": "Dutch",
         "rawType": "float64",
         "type": "float"
        },
        {
         "name": "French",
         "rawType": "float64",
         "type": "float"
        },
        {
         "name": "German",
         "rawType": "float64",
         "type": "float"
        },
        {
         "name": "Indian",
         "rawType": "float64",
         "type": "float"
        },
        {
         "name": "Irish",
         "rawType": "float64",
         "type": "float"
        },
        {
         "name": "Italian",
         "rawType": "float64",
         "type": "float"
        },
        {
         "name": "Japanese",
         "rawType": "float64",
         "type": "float"
        },
        {
         "name": "Malaysian",
         "rawType": "float64",
         "type": "float"
        },
        {
         "name": "Russian",
         "rawType": "float64",
         "type": "float"
        },
        {
         "name": "Spanish",
         "rawType": "float64",
         "type": "float"
        },
        {
         "name": "Swiss",
         "rawType": "float64",
         "type": "float"
        }
       ],
       "conversionMethod": "pd.DataFrame",
       "ref": "28b7bb24-c221-4cd9-902d-cd1f75e9020e",
       "rows": [
        [
         "2004",
         null,
         null,
         "213.03812949640286",
         null,
         "214.1626",
         null,
         null,
         "208.23526470588234",
         "210.02058571428572",
         "210.61961764705882",
         null,
         null,
         null,
         "212.13174285714285"
        ],
        [
         "2005",
         null,
         "211.92725806451614",
         "212.69057425742574",
         null,
         "212.3426111111111",
         null,
         null,
         "205.77607894736843",
         "207.1392105263158",
         "211.17819444444444",
         null,
         null,
         null,
         "210.10119444444445"
        ],
        [
         "2006",
         null,
         "202.30531428571427",
         "206.6258",
         "215.374375",
         "208.50483333333332",
         "206.86377142857143",
         null,
         null,
         "207.34757352941176",
         "202.85725490196077",
         null,
         "198.68383333333335",
         null,
         null
        ],
        [
         "2007",
         null,
         "203.1748125",
         "204.65414925373133",
         "196.69178787878786",
         "202.24281818181817",
         "206.50288235294119",
         null,
         null,
         "203.39807692307693",
         "202.98964583333336",
         null,
         null,
         null,
         null
        ],
        [
         "2008",
         null,
         "200.82440625",
         "202.91001408450705",
         null,
         "202.1034705882353",
         "203.9684722222222",
         "197.6338484848485",
         null,
         "203.17095522388058",
         "200.71724675324674",
         null,
         null,
         null,
         null
        ],
        [
         "2009",
         null,
         "202.9629696969697",
         "202.48983673469388",
         null,
         "200.91296875",
         "202.65339393939394",
         "201.89567741935483",
         null,
         "201.900078125",
         "202.3077741935484",
         null,
         null,
         null,
         null
        ],
        [
         "2010",
         null,
         "202.4782105263158",
         "197.1573831775701",
         null,
         "197.2552972972973",
         "200.8730810810811",
         "200.26079411764707",
         null,
         "201.26385915492958",
         null,
         "191.13833333333332",
         null,
         "188.47144444444444",
         "197.35281818181818"
        ],
        [
         "2011",
         null,
         "201.6098108108108",
         "194.74619642857144",
         null,
         "196.28013513513514",
         "196.57702702702704",
         "196.69076315789474",
         null,
         "197.68469333333334",
         null,
         "190.7681052631579",
         null,
         "188.45354285714285",
         "198.6078611111111"
        ],
        [
         "2012",
         null,
         "199.0731",
         "197.383",
         null,
         null,
         "197.18363157894737",
         "197.2816756756757",
         null,
         "197.52016666666668",
         null,
         "194.74192307692306",
         "193.4935641025641",
         "191.88254054054056",
         "196.9298947368421"
        ],
        [
         "2013",
         null,
         "201.1581052631579",
         "199.03977876106194",
         null,
         null,
         "199.99639473684212",
         "197.19825",
         null,
         "199.02602666666667",
         null,
         "194.24052777777777",
         "194.90454054054052",
         null,
         "198.133"
        ],
        [
         "2014",
         null,
         "194.86310810810812",
         "194.72871818181818",
         null,
         null,
         "197.10626315789472",
         "196.5828285714286",
         null,
         "195.39206756756758",
         null,
         "187.8591612903226",
         "191.18189655172412",
         null,
         "193.0198108108108"
        ],
        [
         "2015",
         null,
         "196.57944444444445",
         "192.09578947368422",
         null,
         null,
         "199.9008947368421",
         "195.4221388888889",
         null,
         "196.37486486486486",
         null,
         null,
         null,
         null,
         "195.14219444444444"
        ],
        [
         "2016",
         "198.311625",
         "200.28487804878048",
         "196.48767213114755",
         null,
         "194.59568292682926",
         "202.112",
         "199.54828205128206",
         null,
         "197.9492375",
         null,
         null,
         null,
         null,
         "193.8169024390244"
        ],
        [
         "2017",
         "204.412",
         "208.4110277777778",
         "204.09702702702702",
         null,
         "203.67657894736843",
         "209.12109999999998",
         "205.6832564102564",
         null,
         "206.22808219178083",
         null,
         null,
         null,
         null,
         "202.15489473684212"
        ],
        [
         "2018",
         "206.5767435897436",
         "210.604475",
         "206.2497283950617",
         null,
         "206.89420512820513",
         "211.06930952380952",
         "208.00307894736844",
         null,
         "207.676375",
         null,
         null,
         null,
         null,
         "205.91537499999998"
        ],
        [
         "2019",
         "206.7680487804878",
         "209.90543902439023",
         "206.48187096774194",
         null,
         "206.3360476190476",
         "212.56245238095238",
         null,
         null,
         "209.34504761904762",
         null,
         null,
         null,
         null,
         "207.59709523809522"
        ],
        [
         "2020",
         "213.3694375",
         "219.3604375",
         "215.8031649484536",
         null,
         "215.1585882352941",
         "221.89717647058822",
         null,
         null,
         "215.89304615384617",
         null,
         null,
         null,
         null,
         "213.86267647058824"
        ],
        [
         "2021",
         "209.008",
         "214.6401",
         "210.76417886178862",
         null,
         "210.5609512195122",
         "214.6868780487805",
         null,
         null,
         "212.4719493670886",
         null,
         null,
         null,
         null,
         "210.802"
        ],
        [
         "2022",
         "203.91742857142856",
         "209.18654545454547",
         "204.9718992248062",
         null,
         "204.9046590909091",
         "207.67030952380952",
         null,
         null,
         "206.52768674698794",
         null,
         null,
         null,
         null,
         "204.08276190476192"
        ]
       ],
       "shape": {
        "columns": 14,
        "rows": 19
       }
      },
      "text/html": [
       "<div>\n",
       "<style scoped>\n",
       "    .dataframe tbody tr th:only-of-type {\n",
       "        vertical-align: middle;\n",
       "    }\n",
       "\n",
       "    .dataframe tbody tr th {\n",
       "        vertical-align: top;\n",
       "    }\n",
       "\n",
       "    .dataframe thead th {\n",
       "        text-align: right;\n",
       "    }\n",
       "</style>\n",
       "<table border=\"1\" class=\"dataframe\">\n",
       "  <thead>\n",
       "    <tr style=\"text-align: right;\">\n",
       "      <th>nationality</th>\n",
       "      <th>American</th>\n",
       "      <th>Austrian</th>\n",
       "      <th>British</th>\n",
       "      <th>Dutch</th>\n",
       "      <th>French</th>\n",
       "      <th>German</th>\n",
       "      <th>Indian</th>\n",
       "      <th>Irish</th>\n",
       "      <th>Italian</th>\n",
       "      <th>Japanese</th>\n",
       "      <th>Malaysian</th>\n",
       "      <th>Russian</th>\n",
       "      <th>Spanish</th>\n",
       "      <th>Swiss</th>\n",
       "    </tr>\n",
       "    <tr>\n",
       "      <th>year</th>\n",
       "      <th></th>\n",
       "      <th></th>\n",
       "      <th></th>\n",
       "      <th></th>\n",
       "      <th></th>\n",
       "      <th></th>\n",
       "      <th></th>\n",
       "      <th></th>\n",
       "      <th></th>\n",
       "      <th></th>\n",
       "      <th></th>\n",
       "      <th></th>\n",
       "      <th></th>\n",
       "      <th></th>\n",
       "    </tr>\n",
       "  </thead>\n",
       "  <tbody>\n",
       "    <tr>\n",
       "      <th>2004</th>\n",
       "      <td>NaN</td>\n",
       "      <td>NaN</td>\n",
       "      <td>213.038129</td>\n",
       "      <td>NaN</td>\n",
       "      <td>214.162600</td>\n",
       "      <td>NaN</td>\n",
       "      <td>NaN</td>\n",
       "      <td>208.235265</td>\n",
       "      <td>210.020586</td>\n",
       "      <td>210.619618</td>\n",
       "      <td>NaN</td>\n",
       "      <td>NaN</td>\n",
       "      <td>NaN</td>\n",
       "      <td>212.131743</td>\n",
       "    </tr>\n",
       "    <tr>\n",
       "      <th>2005</th>\n",
       "      <td>NaN</td>\n",
       "      <td>211.927258</td>\n",
       "      <td>212.690574</td>\n",
       "      <td>NaN</td>\n",
       "      <td>212.342611</td>\n",
       "      <td>NaN</td>\n",
       "      <td>NaN</td>\n",
       "      <td>205.776079</td>\n",
       "      <td>207.139211</td>\n",
       "      <td>211.178194</td>\n",
       "      <td>NaN</td>\n",
       "      <td>NaN</td>\n",
       "      <td>NaN</td>\n",
       "      <td>210.101194</td>\n",
       "    </tr>\n",
       "    <tr>\n",
       "      <th>2006</th>\n",
       "      <td>NaN</td>\n",
       "      <td>202.305314</td>\n",
       "      <td>206.625800</td>\n",
       "      <td>215.374375</td>\n",
       "      <td>208.504833</td>\n",
       "      <td>206.863771</td>\n",
       "      <td>NaN</td>\n",
       "      <td>NaN</td>\n",
       "      <td>207.347574</td>\n",
       "      <td>202.857255</td>\n",
       "      <td>NaN</td>\n",
       "      <td>198.683833</td>\n",
       "      <td>NaN</td>\n",
       "      <td>NaN</td>\n",
       "    </tr>\n",
       "    <tr>\n",
       "      <th>2007</th>\n",
       "      <td>NaN</td>\n",
       "      <td>203.174813</td>\n",
       "      <td>204.654149</td>\n",
       "      <td>196.691788</td>\n",
       "      <td>202.242818</td>\n",
       "      <td>206.502882</td>\n",
       "      <td>NaN</td>\n",
       "      <td>NaN</td>\n",
       "      <td>203.398077</td>\n",
       "      <td>202.989646</td>\n",
       "      <td>NaN</td>\n",
       "      <td>NaN</td>\n",
       "      <td>NaN</td>\n",
       "      <td>NaN</td>\n",
       "    </tr>\n",
       "    <tr>\n",
       "      <th>2008</th>\n",
       "      <td>NaN</td>\n",
       "      <td>200.824406</td>\n",
       "      <td>202.910014</td>\n",
       "      <td>NaN</td>\n",
       "      <td>202.103471</td>\n",
       "      <td>203.968472</td>\n",
       "      <td>197.633848</td>\n",
       "      <td>NaN</td>\n",
       "      <td>203.170955</td>\n",
       "      <td>200.717247</td>\n",
       "      <td>NaN</td>\n",
       "      <td>NaN</td>\n",
       "      <td>NaN</td>\n",
       "      <td>NaN</td>\n",
       "    </tr>\n",
       "    <tr>\n",
       "      <th>2009</th>\n",
       "      <td>NaN</td>\n",
       "      <td>202.962970</td>\n",
       "      <td>202.489837</td>\n",
       "      <td>NaN</td>\n",
       "      <td>200.912969</td>\n",
       "      <td>202.653394</td>\n",
       "      <td>201.895677</td>\n",
       "      <td>NaN</td>\n",
       "      <td>201.900078</td>\n",
       "      <td>202.307774</td>\n",
       "      <td>NaN</td>\n",
       "      <td>NaN</td>\n",
       "      <td>NaN</td>\n",
       "      <td>NaN</td>\n",
       "    </tr>\n",
       "    <tr>\n",
       "      <th>2010</th>\n",
       "      <td>NaN</td>\n",
       "      <td>202.478211</td>\n",
       "      <td>197.157383</td>\n",
       "      <td>NaN</td>\n",
       "      <td>197.255297</td>\n",
       "      <td>200.873081</td>\n",
       "      <td>200.260794</td>\n",
       "      <td>NaN</td>\n",
       "      <td>201.263859</td>\n",
       "      <td>NaN</td>\n",
       "      <td>191.138333</td>\n",
       "      <td>NaN</td>\n",
       "      <td>188.471444</td>\n",
       "      <td>197.352818</td>\n",
       "    </tr>\n",
       "    <tr>\n",
       "      <th>2011</th>\n",
       "      <td>NaN</td>\n",
       "      <td>201.609811</td>\n",
       "      <td>194.746196</td>\n",
       "      <td>NaN</td>\n",
       "      <td>196.280135</td>\n",
       "      <td>196.577027</td>\n",
       "      <td>196.690763</td>\n",
       "      <td>NaN</td>\n",
       "      <td>197.684693</td>\n",
       "      <td>NaN</td>\n",
       "      <td>190.768105</td>\n",
       "      <td>NaN</td>\n",
       "      <td>188.453543</td>\n",
       "      <td>198.607861</td>\n",
       "    </tr>\n",
       "    <tr>\n",
       "      <th>2012</th>\n",
       "      <td>NaN</td>\n",
       "      <td>199.073100</td>\n",
       "      <td>197.383000</td>\n",
       "      <td>NaN</td>\n",
       "      <td>NaN</td>\n",
       "      <td>197.183632</td>\n",
       "      <td>197.281676</td>\n",
       "      <td>NaN</td>\n",
       "      <td>197.520167</td>\n",
       "      <td>NaN</td>\n",
       "      <td>194.741923</td>\n",
       "      <td>193.493564</td>\n",
       "      <td>191.882541</td>\n",
       "      <td>196.929895</td>\n",
       "    </tr>\n",
       "    <tr>\n",
       "      <th>2013</th>\n",
       "      <td>NaN</td>\n",
       "      <td>201.158105</td>\n",
       "      <td>199.039779</td>\n",
       "      <td>NaN</td>\n",
       "      <td>NaN</td>\n",
       "      <td>199.996395</td>\n",
       "      <td>197.198250</td>\n",
       "      <td>NaN</td>\n",
       "      <td>199.026027</td>\n",
       "      <td>NaN</td>\n",
       "      <td>194.240528</td>\n",
       "      <td>194.904541</td>\n",
       "      <td>NaN</td>\n",
       "      <td>198.133000</td>\n",
       "    </tr>\n",
       "    <tr>\n",
       "      <th>2014</th>\n",
       "      <td>NaN</td>\n",
       "      <td>194.863108</td>\n",
       "      <td>194.728718</td>\n",
       "      <td>NaN</td>\n",
       "      <td>NaN</td>\n",
       "      <td>197.106263</td>\n",
       "      <td>196.582829</td>\n",
       "      <td>NaN</td>\n",
       "      <td>195.392068</td>\n",
       "      <td>NaN</td>\n",
       "      <td>187.859161</td>\n",
       "      <td>191.181897</td>\n",
       "      <td>NaN</td>\n",
       "      <td>193.019811</td>\n",
       "    </tr>\n",
       "    <tr>\n",
       "      <th>2015</th>\n",
       "      <td>NaN</td>\n",
       "      <td>196.579444</td>\n",
       "      <td>192.095789</td>\n",
       "      <td>NaN</td>\n",
       "      <td>NaN</td>\n",
       "      <td>199.900895</td>\n",
       "      <td>195.422139</td>\n",
       "      <td>NaN</td>\n",
       "      <td>196.374865</td>\n",
       "      <td>NaN</td>\n",
       "      <td>NaN</td>\n",
       "      <td>NaN</td>\n",
       "      <td>NaN</td>\n",
       "      <td>195.142194</td>\n",
       "    </tr>\n",
       "    <tr>\n",
       "      <th>2016</th>\n",
       "      <td>198.311625</td>\n",
       "      <td>200.284878</td>\n",
       "      <td>196.487672</td>\n",
       "      <td>NaN</td>\n",
       "      <td>194.595683</td>\n",
       "      <td>202.112000</td>\n",
       "      <td>199.548282</td>\n",
       "      <td>NaN</td>\n",
       "      <td>197.949238</td>\n",
       "      <td>NaN</td>\n",
       "      <td>NaN</td>\n",
       "      <td>NaN</td>\n",
       "      <td>NaN</td>\n",
       "      <td>193.816902</td>\n",
       "    </tr>\n",
       "    <tr>\n",
       "      <th>2017</th>\n",
       "      <td>204.412000</td>\n",
       "      <td>208.411028</td>\n",
       "      <td>204.097027</td>\n",
       "      <td>NaN</td>\n",
       "      <td>203.676579</td>\n",
       "      <td>209.121100</td>\n",
       "      <td>205.683256</td>\n",
       "      <td>NaN</td>\n",
       "      <td>206.228082</td>\n",
       "      <td>NaN</td>\n",
       "      <td>NaN</td>\n",
       "      <td>NaN</td>\n",
       "      <td>NaN</td>\n",
       "      <td>202.154895</td>\n",
       "    </tr>\n",
       "    <tr>\n",
       "      <th>2018</th>\n",
       "      <td>206.576744</td>\n",
       "      <td>210.604475</td>\n",
       "      <td>206.249728</td>\n",
       "      <td>NaN</td>\n",
       "      <td>206.894205</td>\n",
       "      <td>211.069310</td>\n",
       "      <td>208.003079</td>\n",
       "      <td>NaN</td>\n",
       "      <td>207.676375</td>\n",
       "      <td>NaN</td>\n",
       "      <td>NaN</td>\n",
       "      <td>NaN</td>\n",
       "      <td>NaN</td>\n",
       "      <td>205.915375</td>\n",
       "    </tr>\n",
       "    <tr>\n",
       "      <th>2019</th>\n",
       "      <td>206.768049</td>\n",
       "      <td>209.905439</td>\n",
       "      <td>206.481871</td>\n",
       "      <td>NaN</td>\n",
       "      <td>206.336048</td>\n",
       "      <td>212.562452</td>\n",
       "      <td>NaN</td>\n",
       "      <td>NaN</td>\n",
       "      <td>209.345048</td>\n",
       "      <td>NaN</td>\n",
       "      <td>NaN</td>\n",
       "      <td>NaN</td>\n",
       "      <td>NaN</td>\n",
       "      <td>207.597095</td>\n",
       "    </tr>\n",
       "    <tr>\n",
       "      <th>2020</th>\n",
       "      <td>213.369438</td>\n",
       "      <td>219.360437</td>\n",
       "      <td>215.803165</td>\n",
       "      <td>NaN</td>\n",
       "      <td>215.158588</td>\n",
       "      <td>221.897176</td>\n",
       "      <td>NaN</td>\n",
       "      <td>NaN</td>\n",
       "      <td>215.893046</td>\n",
       "      <td>NaN</td>\n",
       "      <td>NaN</td>\n",
       "      <td>NaN</td>\n",
       "      <td>NaN</td>\n",
       "      <td>213.862676</td>\n",
       "    </tr>\n",
       "    <tr>\n",
       "      <th>2021</th>\n",
       "      <td>209.008000</td>\n",
       "      <td>214.640100</td>\n",
       "      <td>210.764179</td>\n",
       "      <td>NaN</td>\n",
       "      <td>210.560951</td>\n",
       "      <td>214.686878</td>\n",
       "      <td>NaN</td>\n",
       "      <td>NaN</td>\n",
       "      <td>212.471949</td>\n",
       "      <td>NaN</td>\n",
       "      <td>NaN</td>\n",
       "      <td>NaN</td>\n",
       "      <td>NaN</td>\n",
       "      <td>210.802000</td>\n",
       "    </tr>\n",
       "    <tr>\n",
       "      <th>2022</th>\n",
       "      <td>203.917429</td>\n",
       "      <td>209.186545</td>\n",
       "      <td>204.971899</td>\n",
       "      <td>NaN</td>\n",
       "      <td>204.904659</td>\n",
       "      <td>207.670310</td>\n",
       "      <td>NaN</td>\n",
       "      <td>NaN</td>\n",
       "      <td>206.527687</td>\n",
       "      <td>NaN</td>\n",
       "      <td>NaN</td>\n",
       "      <td>NaN</td>\n",
       "      <td>NaN</td>\n",
       "      <td>204.082762</td>\n",
       "    </tr>\n",
       "  </tbody>\n",
       "</table>\n",
       "</div>"
      ],
      "text/plain": [
       "nationality    American    Austrian     British       Dutch      French  \\\n",
       "year                                                                      \n",
       "2004                NaN         NaN  213.038129         NaN  214.162600   \n",
       "2005                NaN  211.927258  212.690574         NaN  212.342611   \n",
       "2006                NaN  202.305314  206.625800  215.374375  208.504833   \n",
       "2007                NaN  203.174813  204.654149  196.691788  202.242818   \n",
       "2008                NaN  200.824406  202.910014         NaN  202.103471   \n",
       "2009                NaN  202.962970  202.489837         NaN  200.912969   \n",
       "2010                NaN  202.478211  197.157383         NaN  197.255297   \n",
       "2011                NaN  201.609811  194.746196         NaN  196.280135   \n",
       "2012                NaN  199.073100  197.383000         NaN         NaN   \n",
       "2013                NaN  201.158105  199.039779         NaN         NaN   \n",
       "2014                NaN  194.863108  194.728718         NaN         NaN   \n",
       "2015                NaN  196.579444  192.095789         NaN         NaN   \n",
       "2016         198.311625  200.284878  196.487672         NaN  194.595683   \n",
       "2017         204.412000  208.411028  204.097027         NaN  203.676579   \n",
       "2018         206.576744  210.604475  206.249728         NaN  206.894205   \n",
       "2019         206.768049  209.905439  206.481871         NaN  206.336048   \n",
       "2020         213.369438  219.360437  215.803165         NaN  215.158588   \n",
       "2021         209.008000  214.640100  210.764179         NaN  210.560951   \n",
       "2022         203.917429  209.186545  204.971899         NaN  204.904659   \n",
       "\n",
       "nationality      German      Indian       Irish     Italian    Japanese  \\\n",
       "year                                                                      \n",
       "2004                NaN         NaN  208.235265  210.020586  210.619618   \n",
       "2005                NaN         NaN  205.776079  207.139211  211.178194   \n",
       "2006         206.863771         NaN         NaN  207.347574  202.857255   \n",
       "2007         206.502882         NaN         NaN  203.398077  202.989646   \n",
       "2008         203.968472  197.633848         NaN  203.170955  200.717247   \n",
       "2009         202.653394  201.895677         NaN  201.900078  202.307774   \n",
       "2010         200.873081  200.260794         NaN  201.263859         NaN   \n",
       "2011         196.577027  196.690763         NaN  197.684693         NaN   \n",
       "2012         197.183632  197.281676         NaN  197.520167         NaN   \n",
       "2013         199.996395  197.198250         NaN  199.026027         NaN   \n",
       "2014         197.106263  196.582829         NaN  195.392068         NaN   \n",
       "2015         199.900895  195.422139         NaN  196.374865         NaN   \n",
       "2016         202.112000  199.548282         NaN  197.949238         NaN   \n",
       "2017         209.121100  205.683256         NaN  206.228082         NaN   \n",
       "2018         211.069310  208.003079         NaN  207.676375         NaN   \n",
       "2019         212.562452         NaN         NaN  209.345048         NaN   \n",
       "2020         221.897176         NaN         NaN  215.893046         NaN   \n",
       "2021         214.686878         NaN         NaN  212.471949         NaN   \n",
       "2022         207.670310         NaN         NaN  206.527687         NaN   \n",
       "\n",
       "nationality   Malaysian     Russian     Spanish       Swiss  \n",
       "year                                                         \n",
       "2004                NaN         NaN         NaN  212.131743  \n",
       "2005                NaN         NaN         NaN  210.101194  \n",
       "2006                NaN  198.683833         NaN         NaN  \n",
       "2007                NaN         NaN         NaN         NaN  \n",
       "2008                NaN         NaN         NaN         NaN  \n",
       "2009                NaN         NaN         NaN         NaN  \n",
       "2010         191.138333         NaN  188.471444  197.352818  \n",
       "2011         190.768105         NaN  188.453543  198.607861  \n",
       "2012         194.741923  193.493564  191.882541  196.929895  \n",
       "2013         194.240528  194.904541         NaN  198.133000  \n",
       "2014         187.859161  191.181897         NaN  193.019811  \n",
       "2015                NaN         NaN         NaN  195.142194  \n",
       "2016                NaN         NaN         NaN  193.816902  \n",
       "2017                NaN         NaN         NaN  202.154895  \n",
       "2018                NaN         NaN         NaN  205.915375  \n",
       "2019                NaN         NaN         NaN  207.597095  \n",
       "2020                NaN         NaN         NaN  213.862676  \n",
       "2021                NaN         NaN         NaN  210.802000  \n",
       "2022                NaN         NaN         NaN  204.082762  "
      ]
     },
     "execution_count": 102,
     "metadata": {},
     "output_type": "execute_result"
    }
   ],
   "source": [
    "# pivot from long to wide\n",
    "avg_lapspeed_wide = (pd.pivot(avg_lapspeed,\n",
    "                           index = 'year',\n",
    "                           columns = 'nationality',\n",
    "                           values =  'avg_fastestLapSpeed'))\n",
    "\n",
    "avg_lapspeed_wide"
   ]
  },
  {
   "cell_type": "markdown",
   "metadata": {},
   "source": [
    "This section generates a graph that visualizes the relationship between different constructors (team nationalities) and their average fastest lap speeds over time. This graph allows for a direct comparison between the different nationalities (as indicated by the legend), showing which ones consistently perform faster or have had significant changes over time. For instance, we observe that there is limited data over time for the Swiss Constructor and the downwards trend indicates a decrease in average lap speed over time. Conversely, the German Constructor’s sharp upward trend, especially the peak post-2020 indicates their consistent increase in average lap speed over time."
   ]
  },
  {
   "cell_type": "code",
   "execution_count": 103,
   "metadata": {},
   "outputs": [
    {
     "data": {
      "image/png": "[encoded data removed]",
      "text/plain": [
       "<Figure size 640x480 with 1 Axes>"
      ]
     },
     "metadata": {},
     "output_type": "display_data"
    }
   ],
   "source": [
    "# graph of all constructors\n",
    "\n",
    "nationalities = avg_lapspeed[\"nationality\"].unique()\n",
    "nationalities = nationalities.tolist()\n",
    "nationalities\n",
    "\n",
    "fig, ax = plt.subplots(1,1)\n",
    "avg_lapspeed_wide[nationalities].plot(ax=ax)\n",
    "ax.xaxis.set_major_locator(MaxNLocator(integer=True))\n",
    "\n",
    "ax.legend(\n",
    "    title=\"Nationality of Constructor\",\n",
    "    loc='center left',\n",
    "    bbox_to_anchor=(1.02, 0.5)\n",
    ")\n",
    "\n",
    "ax.set_xlabel(\"Year\")\n",
    "ax.set_ylabel(\"Average Fastest Lap Speed\")\n",
    "ax.set_title(\"Average Fastest Lap Speed by Constructor Nationality Over Time\")\n",
    "plt.show()\n"
   ]
  },
  {
   "cell_type": "markdown",
   "metadata": {},
   "source": [
    "This table provides the average fastest lap speed grouped by nationality and then sorted by fastest to slowest. Here, we can see that the Irish Constructor has the average fastest lap speed, followed by America, Germany, and so on. The Constructors who have slower average lap speeds in comparison are India, Russia, Malaysia, and Spain."
   ]
  },
  {
   "cell_type": "code",
   "execution_count": 104,
   "metadata": {},
   "outputs": [
    {
     "data": {
      "application/vnd.microsoft.datawrangler.viewer.v0+json": {
       "columns": [
        {
         "name": "nationality",
         "rawType": "object",
         "type": "string"
        },
        {
         "name": "avg_fastestLapSpeed",
         "rawType": "float64",
         "type": "float"
        }
       ],
       "conversionMethod": "pd.DataFrame",
       "ref": "c60dde39-0c20-480d-995e-9e0e3409a2d8",
       "rows": [
        [
         "Irish",
         "206.9373611111111"
        ],
        [
         "American",
         "205.81022962962965"
        ],
        [
         "German",
         "205.40651317829457"
        ],
        [
         "French",
         "205.0072862254025"
        ],
        [
         "Austrian",
         "204.9438476621418"
        ],
        [
         "Italian",
         "203.98912705210563"
        ],
        [
         "Japanese",
         "203.9061090425532"
        ],
        [
         "British",
         "203.04697161682716"
        ],
        [
         "Swiss",
         "202.65309187279152"
        ],
        [
         "Dutch",
         "200.33717073170732"
        ],
        [
         "Indian",
         "199.71237626262624"
        ],
        [
         "Russian",
         "194.34421705426357"
        ],
        [
         "Malaysian",
         "191.89664444444446"
        ],
        [
         "Spanish",
         "189.63425925925927"
        ]
       ],
       "shape": {
        "columns": 1,
        "rows": 14
       }
      },
      "text/html": [
       "<div>\n",
       "<style scoped>\n",
       "    .dataframe tbody tr th:only-of-type {\n",
       "        vertical-align: middle;\n",
       "    }\n",
       "\n",
       "    .dataframe tbody tr th {\n",
       "        vertical-align: top;\n",
       "    }\n",
       "\n",
       "    .dataframe thead th {\n",
       "        text-align: right;\n",
       "    }\n",
       "</style>\n",
       "<table border=\"1\" class=\"dataframe\">\n",
       "  <thead>\n",
       "    <tr style=\"text-align: right;\">\n",
       "      <th></th>\n",
       "      <th>avg_fastestLapSpeed</th>\n",
       "    </tr>\n",
       "    <tr>\n",
       "      <th>nationality</th>\n",
       "      <th></th>\n",
       "    </tr>\n",
       "  </thead>\n",
       "  <tbody>\n",
       "    <tr>\n",
       "      <th>Irish</th>\n",
       "      <td>206.937361</td>\n",
       "    </tr>\n",
       "    <tr>\n",
       "      <th>American</th>\n",
       "      <td>205.810230</td>\n",
       "    </tr>\n",
       "    <tr>\n",
       "      <th>German</th>\n",
       "      <td>205.406513</td>\n",
       "    </tr>\n",
       "    <tr>\n",
       "      <th>French</th>\n",
       "      <td>205.007286</td>\n",
       "    </tr>\n",
       "    <tr>\n",
       "      <th>Austrian</th>\n",
       "      <td>204.943848</td>\n",
       "    </tr>\n",
       "    <tr>\n",
       "      <th>Italian</th>\n",
       "      <td>203.989127</td>\n",
       "    </tr>\n",
       "    <tr>\n",
       "      <th>Japanese</th>\n",
       "      <td>203.906109</td>\n",
       "    </tr>\n",
       "    <tr>\n",
       "      <th>British</th>\n",
       "      <td>203.046972</td>\n",
       "    </tr>\n",
       "    <tr>\n",
       "      <th>Swiss</th>\n",
       "      <td>202.653092</td>\n",
       "    </tr>\n",
       "    <tr>\n",
       "      <th>Dutch</th>\n",
       "      <td>200.337171</td>\n",
       "    </tr>\n",
       "    <tr>\n",
       "      <th>Indian</th>\n",
       "      <td>199.712376</td>\n",
       "    </tr>\n",
       "    <tr>\n",
       "      <th>Russian</th>\n",
       "      <td>194.344217</td>\n",
       "    </tr>\n",
       "    <tr>\n",
       "      <th>Malaysian</th>\n",
       "      <td>191.896644</td>\n",
       "    </tr>\n",
       "    <tr>\n",
       "      <th>Spanish</th>\n",
       "      <td>189.634259</td>\n",
       "    </tr>\n",
       "  </tbody>\n",
       "</table>\n",
       "</div>"
      ],
      "text/plain": [
       "             avg_fastestLapSpeed\n",
       "nationality                     \n",
       "Irish                 206.937361\n",
       "American              205.810230\n",
       "German                205.406513\n",
       "French                205.007286\n",
       "Austrian              204.943848\n",
       "Italian               203.989127\n",
       "Japanese              203.906109\n",
       "British               203.046972\n",
       "Swiss                 202.653092\n",
       "Dutch                 200.337171\n",
       "Indian                199.712376\n",
       "Russian               194.344217\n",
       "Malaysian             191.896644\n",
       "Spanish               189.634259"
      ]
     },
     "execution_count": 104,
     "metadata": {},
     "output_type": "execute_result"
    }
   ],
   "source": [
    "# aggregate data - avg fastest lap speed overall by nationality\n",
    "avg_lapspeed_nat = (all_data.groupby(\"nationality\")\n",
    "                        .agg(avg_fastestLapSpeed = ('fastestLapSpeed','mean'))\n",
    "                        .sort_values(\"avg_fastestLapSpeed\",ascending = False))\n",
    "\n",
    "\n",
    "avg_lapspeed_nat"
   ]
  },
  {
   "cell_type": "markdown",
   "metadata": {},
   "source": [
    "For the second graph, we filtered to include the top 5 fastest nationalities through avg_lapspeed_wide[[\"Irish\", \"American\", \"German\", \"French\", \"Austrian\"]] after we sorted avg_lapspeed by ascending nationality. The plot here now shows us the top 5 Constructor countries, as indicated by the legend. Our results show us that all 5 Constructors had a steady increase in lap speed from 2016, hit a sharp peak in 2020 for their highest lap speed times, and since then have had a steady decline."
   ]
  },
  {
   "cell_type": "code",
   "execution_count": 105,
   "metadata": {},
   "outputs": [
    {
     "data": {
      "image/png": "[encoded data removed]",
      "text/plain": [
       "<Figure size 640x480 with 1 Axes>"
      ]
     },
     "metadata": {},
     "output_type": "display_data"
    }
   ],
   "source": [
    "# graph of top 5 constructors in terms of average fastest lap speed\n",
    "\n",
    "fig, ax = plt.subplots(1,1)\n",
    "avg_lapspeed_wide[[\"Irish\", \"American\", \"German\", \"French\", \"Austrian\"]].plot(ax=ax)\n",
    "ax.xaxis.set_major_locator(MaxNLocator(integer=True))\n",
    "\n",
    "ax.legend(\n",
    "    title=\"Nationality of Constructor\",\n",
    "    loc='center left',\n",
    "    bbox_to_anchor=(1.02, 0.5)\n",
    ")\n",
    "\n",
    "ax.set_xlabel(\"Year\")\n",
    "ax.set_ylabel(\"Average Fastest Lap Speed\")\n",
    "ax.set_title(\"Average Fastest Lap Speed by Top 5 Constructor Nationalities Over Time\")\n",
    "plt.show()"
   ]
  },
  {
   "cell_type": "markdown",
   "metadata": {},
   "source": [
    "## Discussion\n",
    "\n",
    "The average fastest lap speed for all constructors, regardless of nationalities, over the years shows a trend that decreased through 2004 to 2015 and drastically increased after with a peak at 2020. This indicated that there may be some global events that have driven the decrease of the speed for the market as a whole during 2004 to 2015. Similarly, global events such as the COVID-19 pandemic could have caused the peak in 2020, in which the pandemic might have caused a pause in development of technology for F1 races. Though the speed of German and Austrian constructors are slightly higher than others constantly throughout the years, Irish constructors were found with the highest average fastest lap speed. This might be attributed to missing data for Irish constructors in all years except 2004 and 2005. While other constructors portrayed a decrease over years 2006 to 2015, there is no data for Irish constructors for the years though they are likely to experience the depreciation as well. This results in the average fastest lap speed for Irish constructors to remain high as the others were averaged with lower values."
   ]
  }
 ],
 "metadata": {
  "kernelspec": {
   "display_name": "base",
   "language": "python",
   "name": "python3"
  },
  "language_info": {
   "codemirror_mode": {
    "name": "ipython",
    "version": 3
   },
   "file_extension": ".py",
   "mimetype": "text/x-python",
   "name": "python",
   "nbconvert_exporter": "python",
   "pygments_lexer": "ipython3",
   "version": "3.10.9"
  }
 },
 "nbformat": 4,
 "nbformat_minor": 2
}
