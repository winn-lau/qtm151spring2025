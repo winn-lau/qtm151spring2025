{
 "cells": [
  {
   "cell_type": "code",
   "execution_count": null,
   "metadata": {},
   "outputs": [],
   "source": [
    "# question: \n",
    "import pandas as pd\n",
    "import matplotlib.pyplot as plt\n",
    "import numpy as np\n"
   ]
  },
  {
   "cell_type": "code",
   "execution_count": null,
   "metadata": {},
   "outputs": [
    {
     "data": {
      "application/vnd.microsoft.datawrangler.viewer.v0+json": {
       "columns": [
        {
         "name": "nationality",
         "rawType": "object",
         "type": "string"
        },
        {
         "name": "avg_time",
         "rawType": "float64",
         "type": "float"
        }
       ],
       "conversionMethod": "pd.DataFrame",
       "ref": "718b2678-7b26-4dd9-81cf-61598247f880",
       "rows": [
        [
         "Colombian",
         "5382079.754716981"
        ],
        [
         "Finnish",
         "5738091.921904762"
        ],
        [
         "Monegasque",
         "5772769.565217392"
        ],
        [
         "Canadian",
         "5825663.006993007"
        ],
        [
         "Brazilian",
         "5834247.804918033"
        ],
        [
         "Polish",
         "5850947.714285715"
        ],
        [
         "German",
         "5859609.635735439"
        ],
        [
         "Thai",
         "5864793.305555556"
        ],
        [
         "Dutch",
         "5865688.608695652"
        ],
        [
         "Austrian",
         "5915783.242424242"
        ],
        [
         "Spanish",
         "5939439.637426901"
        ],
        [
         "Japanese",
         "5944617.494252874"
        ],
        [
         "Portuguese",
         "5982941.0"
        ],
        [
         "Mexican",
         "5985102.87037037"
        ],
        [
         "Venezuelan",
         "5999515.875"
        ],
        [
         "French",
         "6047941.271623672"
        ],
        [
         "Irish",
         "6097044.8"
        ],
        [
         "Russian",
         "6099804.785714285"
        ],
        [
         "Chinese",
         "6125203.5"
        ],
        [
         "Australian",
         "6165346.408163265"
        ],
        [
         "Swedish",
         "6209831.139534884"
        ],
        [
         "Danish",
         "6211354.340425532"
        ],
        [
         "British",
         "6253505.920684292"
        ],
        [
         "South African",
         "6307387.865384615"
        ],
        [
         "Belgian",
         "6364745.847222222"
        ],
        [
         "Swiss",
         "6369843.144578313"
        ],
        [
         "Italian",
         "6399085.582251082"
        ],
        [
         "New Zealander",
         "7173194.494505495"
        ],
        [
         "Rhodesian",
         "7572300.0"
        ],
        [
         "Argentine",
         "7958151.452173913"
        ],
        [
         "American",
         "10479864.648221344"
        ]
       ],
       "shape": {
        "columns": 1,
        "rows": 31
       }
      },
      "text/html": [
       "<div>\n",
       "<style scoped>\n",
       "    .dataframe tbody tr th:only-of-type {\n",
       "        vertical-align: middle;\n",
       "    }\n",
       "\n",
       "    .dataframe tbody tr th {\n",
       "        vertical-align: top;\n",
       "    }\n",
       "\n",
       "    .dataframe thead th {\n",
       "        text-align: right;\n",
       "    }\n",
       "</style>\n",
       "<table border=\"1\" class=\"dataframe\">\n",
       "  <thead>\n",
       "    <tr style=\"text-align: right;\">\n",
       "      <th></th>\n",
       "      <th>avg_time</th>\n",
       "    </tr>\n",
       "    <tr>\n",
       "      <th>nationality</th>\n",
       "      <th></th>\n",
       "    </tr>\n",
       "  </thead>\n",
       "  <tbody>\n",
       "    <tr>\n",
       "      <th>Colombian</th>\n",
       "      <td>5.382080e+06</td>\n",
       "    </tr>\n",
       "    <tr>\n",
       "      <th>Finnish</th>\n",
       "      <td>5.738092e+06</td>\n",
       "    </tr>\n",
       "    <tr>\n",
       "      <th>Monegasque</th>\n",
       "      <td>5.772770e+06</td>\n",
       "    </tr>\n",
       "    <tr>\n",
       "      <th>Canadian</th>\n",
       "      <td>5.825663e+06</td>\n",
       "    </tr>\n",
       "    <tr>\n",
       "      <th>Brazilian</th>\n",
       "      <td>5.834248e+06</td>\n",
       "    </tr>\n",
       "    <tr>\n",
       "      <th>Polish</th>\n",
       "      <td>5.850948e+06</td>\n",
       "    </tr>\n",
       "    <tr>\n",
       "      <th>German</th>\n",
       "      <td>5.859610e+06</td>\n",
       "    </tr>\n",
       "    <tr>\n",
       "      <th>Thai</th>\n",
       "      <td>5.864793e+06</td>\n",
       "    </tr>\n",
       "    <tr>\n",
       "      <th>Dutch</th>\n",
       "      <td>5.865689e+06</td>\n",
       "    </tr>\n",
       "    <tr>\n",
       "      <th>Austrian</th>\n",
       "      <td>5.915783e+06</td>\n",
       "    </tr>\n",
       "    <tr>\n",
       "      <th>Spanish</th>\n",
       "      <td>5.939440e+06</td>\n",
       "    </tr>\n",
       "    <tr>\n",
       "      <th>Japanese</th>\n",
       "      <td>5.944617e+06</td>\n",
       "    </tr>\n",
       "    <tr>\n",
       "      <th>Portuguese</th>\n",
       "      <td>5.982941e+06</td>\n",
       "    </tr>\n",
       "    <tr>\n",
       "      <th>Mexican</th>\n",
       "      <td>5.985103e+06</td>\n",
       "    </tr>\n",
       "    <tr>\n",
       "      <th>Venezuelan</th>\n",
       "      <td>5.999516e+06</td>\n",
       "    </tr>\n",
       "    <tr>\n",
       "      <th>French</th>\n",
       "      <td>6.047941e+06</td>\n",
       "    </tr>\n",
       "    <tr>\n",
       "      <th>Irish</th>\n",
       "      <td>6.097045e+06</td>\n",
       "    </tr>\n",
       "    <tr>\n",
       "      <th>Russian</th>\n",
       "      <td>6.099805e+06</td>\n",
       "    </tr>\n",
       "    <tr>\n",
       "      <th>Chinese</th>\n",
       "      <td>6.125204e+06</td>\n",
       "    </tr>\n",
       "    <tr>\n",
       "      <th>Australian</th>\n",
       "      <td>6.165346e+06</td>\n",
       "    </tr>\n",
       "    <tr>\n",
       "      <th>Swedish</th>\n",
       "      <td>6.209831e+06</td>\n",
       "    </tr>\n",
       "    <tr>\n",
       "      <th>Danish</th>\n",
       "      <td>6.211354e+06</td>\n",
       "    </tr>\n",
       "    <tr>\n",
       "      <th>British</th>\n",
       "      <td>6.253506e+06</td>\n",
       "    </tr>\n",
       "    <tr>\n",
       "      <th>South African</th>\n",
       "      <td>6.307388e+06</td>\n",
       "    </tr>\n",
       "    <tr>\n",
       "      <th>Belgian</th>\n",
       "      <td>6.364746e+06</td>\n",
       "    </tr>\n",
       "    <tr>\n",
       "      <th>Swiss</th>\n",
       "      <td>6.369843e+06</td>\n",
       "    </tr>\n",
       "    <tr>\n",
       "      <th>Italian</th>\n",
       "      <td>6.399086e+06</td>\n",
       "    </tr>\n",
       "    <tr>\n",
       "      <th>New Zealander</th>\n",
       "      <td>7.173194e+06</td>\n",
       "    </tr>\n",
       "    <tr>\n",
       "      <th>Rhodesian</th>\n",
       "      <td>7.572300e+06</td>\n",
       "    </tr>\n",
       "    <tr>\n",
       "      <th>Argentine</th>\n",
       "      <td>7.958151e+06</td>\n",
       "    </tr>\n",
       "    <tr>\n",
       "      <th>American</th>\n",
       "      <td>1.047986e+07</td>\n",
       "    </tr>\n",
       "  </tbody>\n",
       "</table>\n",
       "</div>"
      ],
      "text/plain": [
       "                   avg_time\n",
       "nationality                \n",
       "Colombian      5.382080e+06\n",
       "Finnish        5.738092e+06\n",
       "Monegasque     5.772770e+06\n",
       "Canadian       5.825663e+06\n",
       "Brazilian      5.834248e+06\n",
       "Polish         5.850948e+06\n",
       "German         5.859610e+06\n",
       "Thai           5.864793e+06\n",
       "Dutch          5.865689e+06\n",
       "Austrian       5.915783e+06\n",
       "Spanish        5.939440e+06\n",
       "Japanese       5.944617e+06\n",
       "Portuguese     5.982941e+06\n",
       "Mexican        5.985103e+06\n",
       "Venezuelan     5.999516e+06\n",
       "French         6.047941e+06\n",
       "Irish          6.097045e+06\n",
       "Russian        6.099805e+06\n",
       "Chinese        6.125204e+06\n",
       "Australian     6.165346e+06\n",
       "Swedish        6.209831e+06\n",
       "Danish         6.211354e+06\n",
       "British        6.253506e+06\n",
       "South African  6.307388e+06\n",
       "Belgian        6.364746e+06\n",
       "Swiss          6.369843e+06\n",
       "Italian        6.399086e+06\n",
       "New Zealander  7.173194e+06\n",
       "Rhodesian      7.572300e+06\n",
       "Argentine      7.958151e+06\n",
       "American       1.047986e+07"
      ]
     },
     "execution_count": 133,
     "metadata": {},
     "output_type": "execute_result"
    }
   ],
   "source": [
    "drivers = pd.read_csv(\"data_raw/drivers.csv\")\n",
    "results = pd.read_csv(\"data_raw/results.csv\")\n",
    "pit_stops = pd.read_csv(\"data_raw/pit_stops.csv\")\n",
    "races = pd.read_csv(\"data_raw/races.csv\")\n",
    "\n",
    "merge = pd.merge(drivers[['driverId', 'forename', 'surname','nationality']],\n",
    "                 results[['driverId', 'raceId', 'milliseconds']], \n",
    "                 on = \"driverId\",\n",
    "                 how = \"left\")\n",
    "                 \n",
    "merge[\"milliseconds\"] = merge[\"milliseconds\"].replace('\\\\N', np.nan)\n",
    "                                                      \n",
    "merge[\"milliseconds\"] = pd.to_numeric(merge[\"milliseconds\"])\n",
    "\n",
    "merged_cleaned = merge.dropna()\n",
    "\n",
    "merged_cleaned.dtypes\n",
    "\n",
    "merge2 = (merged_cleaned.groupby(\"nationality\")\n",
    "                        .agg(avg_time = ('milliseconds','mean'))\n",
    "                        .sort_values(\"avg_time\",ascending = True))\n",
    "\n",
    "merge2\n",
    "\n",
    "\n"
   ]
  },
  {
   "cell_type": "code",
   "execution_count": 186,
   "metadata": {},
   "outputs": [
    {
     "data": {
      "application/vnd.microsoft.datawrangler.viewer.v0+json": {
       "columns": [
        {
         "name": "year",
         "rawType": "float64",
         "type": "float"
        },
        {
         "name": "Colombian",
         "rawType": "float64",
         "type": "float"
        },
        {
         "name": "Finnish",
         "rawType": "float64",
         "type": "float"
        },
        {
         "name": "Monegasque",
         "rawType": "float64",
         "type": "float"
        }
       ],
       "conversionMethod": "pd.DataFrame",
       "ref": "c12e8e53-e2f4-4e9a-b588-90cb17fa860b",
       "rows": [
        [
         "1980.0",
         null,
         "6283020.0",
         null
        ],
        [
         "1982.0",
         null,
         "6010582.444444444",
         null
        ],
        [
         "1983.0",
         null,
         "6382590.0",
         null
        ],
        [
         "1984.0",
         null,
         "5726869.666666667",
         null
        ],
        [
         "1985.0",
         null,
         "6109306.714285715",
         null
        ],
        [
         "1986.0",
         null,
         "5953210.75",
         null
        ],
        [
         "1991.0",
         null,
         "1573418.0",
         null
        ],
        [
         "1992.0",
         null,
         "5841591.75",
         null
        ],
        [
         "1993.0",
         null,
         "6054041.0",
         null
        ],
        [
         "1994.0",
         null,
         "5782099.857142857",
         null
        ],
        [
         "1995.0",
         null,
         "5473461.666666667",
         null
        ],
        [
         "1996.0",
         null,
         "5473505.5",
         null
        ],
        [
         "1997.0",
         null,
         "5549851.125",
         null
        ],
        [
         "1998.0",
         null,
         "5756187.153846154",
         null
        ],
        [
         "1999.0",
         null,
         "5736266.928571428",
         null
        ],
        [
         "2000.0",
         null,
         "5643322.8125",
         null
        ],
        [
         "2001.0",
         "5193676.2",
         "5479526.857142857",
         null
        ],
        [
         "2002.0",
         "5462700.5",
         "5592654.375",
         null
        ],
        [
         "2003.0",
         "5507943.2727272725",
         "5441690.769230769",
         null
        ],
        [
         "2004.0",
         "5232123.636363637",
         "5306196.0",
         null
        ],
        [
         "2005.0",
         "5305426.444444444",
         "5415882.733333333",
         null
        ],
        [
         "2006.0",
         "5567973.2",
         "5365184.166666667",
         null
        ],
        [
         "2007.0",
         null,
         "5599187.92",
         null
        ],
        [
         "2008.0",
         null,
         "5774068.666666667",
         null
        ],
        [
         "2009.0",
         null,
         "5731994.333333333",
         null
        ],
        [
         "2011.0",
         null,
         "5541251.0",
         null
        ],
        [
         "2012.0",
         null,
         "6112228.5",
         null
        ],
        [
         "2013.0",
         null,
         "6045218.56",
         null
        ],
        [
         "2014.0",
         null,
         "5979743.344827586",
         null
        ],
        [
         "2015.0",
         null,
         "5856710.555555556",
         null
        ],
        [
         "2016.0",
         null,
         "5960356.379310345",
         null
        ],
        [
         "2017.0",
         null,
         "5565526.914285715",
         null
        ],
        [
         "2018.0",
         null,
         "5562160.2",
         "5670673.0"
        ],
        [
         "2019.0",
         null,
         "5521624.5",
         "5486809.294117647"
        ],
        [
         "2020.0",
         null,
         "6041185.761904762",
         "5754642.1"
        ],
        [
         "2021.0",
         null,
         "5459380.2727272725",
         "5673434.0"
        ],
        [
         "2022.0",
         null,
         "6459126.2727272725",
         "6159435.052631579"
        ]
       ],
       "shape": {
        "columns": 3,
        "rows": 37
       }
      },
      "text/html": [
       "<div>\n",
       "<style scoped>\n",
       "    .dataframe tbody tr th:only-of-type {\n",
       "        vertical-align: middle;\n",
       "    }\n",
       "\n",
       "    .dataframe tbody tr th {\n",
       "        vertical-align: top;\n",
       "    }\n",
       "\n",
       "    .dataframe thead th {\n",
       "        text-align: right;\n",
       "    }\n",
       "</style>\n",
       "<table border=\"1\" class=\"dataframe\">\n",
       "  <thead>\n",
       "    <tr style=\"text-align: right;\">\n",
       "      <th>nationality</th>\n",
       "      <th>Colombian</th>\n",
       "      <th>Finnish</th>\n",
       "      <th>Monegasque</th>\n",
       "    </tr>\n",
       "    <tr>\n",
       "      <th>year</th>\n",
       "      <th></th>\n",
       "      <th></th>\n",
       "      <th></th>\n",
       "    </tr>\n",
       "  </thead>\n",
       "  <tbody>\n",
       "    <tr>\n",
       "      <th>1980.0</th>\n",
       "      <td>NaN</td>\n",
       "      <td>6.283020e+06</td>\n",
       "      <td>NaN</td>\n",
       "    </tr>\n",
       "    <tr>\n",
       "      <th>1982.0</th>\n",
       "      <td>NaN</td>\n",
       "      <td>6.010582e+06</td>\n",
       "      <td>NaN</td>\n",
       "    </tr>\n",
       "    <tr>\n",
       "      <th>1983.0</th>\n",
       "      <td>NaN</td>\n",
       "      <td>6.382590e+06</td>\n",
       "      <td>NaN</td>\n",
       "    </tr>\n",
       "    <tr>\n",
       "      <th>1984.0</th>\n",
       "      <td>NaN</td>\n",
       "      <td>5.726870e+06</td>\n",
       "      <td>NaN</td>\n",
       "    </tr>\n",
       "    <tr>\n",
       "      <th>1985.0</th>\n",
       "      <td>NaN</td>\n",
       "      <td>6.109307e+06</td>\n",
       "      <td>NaN</td>\n",
       "    </tr>\n",
       "    <tr>\n",
       "      <th>1986.0</th>\n",
       "      <td>NaN</td>\n",
       "      <td>5.953211e+06</td>\n",
       "      <td>NaN</td>\n",
       "    </tr>\n",
       "    <tr>\n",
       "      <th>1991.0</th>\n",
       "      <td>NaN</td>\n",
       "      <td>1.573418e+06</td>\n",
       "      <td>NaN</td>\n",
       "    </tr>\n",
       "    <tr>\n",
       "      <th>1992.0</th>\n",
       "      <td>NaN</td>\n",
       "      <td>5.841592e+06</td>\n",
       "      <td>NaN</td>\n",
       "    </tr>\n",
       "    <tr>\n",
       "      <th>1993.0</th>\n",
       "      <td>NaN</td>\n",
       "      <td>6.054041e+06</td>\n",
       "      <td>NaN</td>\n",
       "    </tr>\n",
       "    <tr>\n",
       "      <th>1994.0</th>\n",
       "      <td>NaN</td>\n",
       "      <td>5.782100e+06</td>\n",
       "      <td>NaN</td>\n",
       "    </tr>\n",
       "    <tr>\n",
       "      <th>1995.0</th>\n",
       "      <td>NaN</td>\n",
       "      <td>5.473462e+06</td>\n",
       "      <td>NaN</td>\n",
       "    </tr>\n",
       "    <tr>\n",
       "      <th>1996.0</th>\n",
       "      <td>NaN</td>\n",
       "      <td>5.473506e+06</td>\n",
       "      <td>NaN</td>\n",
       "    </tr>\n",
       "    <tr>\n",
       "      <th>1997.0</th>\n",
       "      <td>NaN</td>\n",
       "      <td>5.549851e+06</td>\n",
       "      <td>NaN</td>\n",
       "    </tr>\n",
       "    <tr>\n",
       "      <th>1998.0</th>\n",
       "      <td>NaN</td>\n",
       "      <td>5.756187e+06</td>\n",
       "      <td>NaN</td>\n",
       "    </tr>\n",
       "    <tr>\n",
       "      <th>1999.0</th>\n",
       "      <td>NaN</td>\n",
       "      <td>5.736267e+06</td>\n",
       "      <td>NaN</td>\n",
       "    </tr>\n",
       "    <tr>\n",
       "      <th>2000.0</th>\n",
       "      <td>NaN</td>\n",
       "      <td>5.643323e+06</td>\n",
       "      <td>NaN</td>\n",
       "    </tr>\n",
       "    <tr>\n",
       "      <th>2001.0</th>\n",
       "      <td>5.193676e+06</td>\n",
       "      <td>5.479527e+06</td>\n",
       "      <td>NaN</td>\n",
       "    </tr>\n",
       "    <tr>\n",
       "      <th>2002.0</th>\n",
       "      <td>5.462700e+06</td>\n",
       "      <td>5.592654e+06</td>\n",
       "      <td>NaN</td>\n",
       "    </tr>\n",
       "    <tr>\n",
       "      <th>2003.0</th>\n",
       "      <td>5.507943e+06</td>\n",
       "      <td>5.441691e+06</td>\n",
       "      <td>NaN</td>\n",
       "    </tr>\n",
       "    <tr>\n",
       "      <th>2004.0</th>\n",
       "      <td>5.232124e+06</td>\n",
       "      <td>5.306196e+06</td>\n",
       "      <td>NaN</td>\n",
       "    </tr>\n",
       "    <tr>\n",
       "      <th>2005.0</th>\n",
       "      <td>5.305426e+06</td>\n",
       "      <td>5.415883e+06</td>\n",
       "      <td>NaN</td>\n",
       "    </tr>\n",
       "    <tr>\n",
       "      <th>2006.0</th>\n",
       "      <td>5.567973e+06</td>\n",
       "      <td>5.365184e+06</td>\n",
       "      <td>NaN</td>\n",
       "    </tr>\n",
       "    <tr>\n",
       "      <th>2007.0</th>\n",
       "      <td>NaN</td>\n",
       "      <td>5.599188e+06</td>\n",
       "      <td>NaN</td>\n",
       "    </tr>\n",
       "    <tr>\n",
       "      <th>2008.0</th>\n",
       "      <td>NaN</td>\n",
       "      <td>5.774069e+06</td>\n",
       "      <td>NaN</td>\n",
       "    </tr>\n",
       "    <tr>\n",
       "      <th>2009.0</th>\n",
       "      <td>NaN</td>\n",
       "      <td>5.731994e+06</td>\n",
       "      <td>NaN</td>\n",
       "    </tr>\n",
       "    <tr>\n",
       "      <th>2011.0</th>\n",
       "      <td>NaN</td>\n",
       "      <td>5.541251e+06</td>\n",
       "      <td>NaN</td>\n",
       "    </tr>\n",
       "    <tr>\n",
       "      <th>2012.0</th>\n",
       "      <td>NaN</td>\n",
       "      <td>6.112228e+06</td>\n",
       "      <td>NaN</td>\n",
       "    </tr>\n",
       "    <tr>\n",
       "      <th>2013.0</th>\n",
       "      <td>NaN</td>\n",
       "      <td>6.045219e+06</td>\n",
       "      <td>NaN</td>\n",
       "    </tr>\n",
       "    <tr>\n",
       "      <th>2014.0</th>\n",
       "      <td>NaN</td>\n",
       "      <td>5.979743e+06</td>\n",
       "      <td>NaN</td>\n",
       "    </tr>\n",
       "    <tr>\n",
       "      <th>2015.0</th>\n",
       "      <td>NaN</td>\n",
       "      <td>5.856711e+06</td>\n",
       "      <td>NaN</td>\n",
       "    </tr>\n",
       "    <tr>\n",
       "      <th>2016.0</th>\n",
       "      <td>NaN</td>\n",
       "      <td>5.960356e+06</td>\n",
       "      <td>NaN</td>\n",
       "    </tr>\n",
       "    <tr>\n",
       "      <th>2017.0</th>\n",
       "      <td>NaN</td>\n",
       "      <td>5.565527e+06</td>\n",
       "      <td>NaN</td>\n",
       "    </tr>\n",
       "    <tr>\n",
       "      <th>2018.0</th>\n",
       "      <td>NaN</td>\n",
       "      <td>5.562160e+06</td>\n",
       "      <td>5.670673e+06</td>\n",
       "    </tr>\n",
       "    <tr>\n",
       "      <th>2019.0</th>\n",
       "      <td>NaN</td>\n",
       "      <td>5.521624e+06</td>\n",
       "      <td>5.486809e+06</td>\n",
       "    </tr>\n",
       "    <tr>\n",
       "      <th>2020.0</th>\n",
       "      <td>NaN</td>\n",
       "      <td>6.041186e+06</td>\n",
       "      <td>5.754642e+06</td>\n",
       "    </tr>\n",
       "    <tr>\n",
       "      <th>2021.0</th>\n",
       "      <td>NaN</td>\n",
       "      <td>5.459380e+06</td>\n",
       "      <td>5.673434e+06</td>\n",
       "    </tr>\n",
       "    <tr>\n",
       "      <th>2022.0</th>\n",
       "      <td>NaN</td>\n",
       "      <td>6.459126e+06</td>\n",
       "      <td>6.159435e+06</td>\n",
       "    </tr>\n",
       "  </tbody>\n",
       "</table>\n",
       "</div>"
      ],
      "text/plain": [
       "nationality     Colombian       Finnish    Monegasque\n",
       "year                                                 \n",
       "1980.0                NaN  6.283020e+06           NaN\n",
       "1982.0                NaN  6.010582e+06           NaN\n",
       "1983.0                NaN  6.382590e+06           NaN\n",
       "1984.0                NaN  5.726870e+06           NaN\n",
       "1985.0                NaN  6.109307e+06           NaN\n",
       "1986.0                NaN  5.953211e+06           NaN\n",
       "1991.0                NaN  1.573418e+06           NaN\n",
       "1992.0                NaN  5.841592e+06           NaN\n",
       "1993.0                NaN  6.054041e+06           NaN\n",
       "1994.0                NaN  5.782100e+06           NaN\n",
       "1995.0                NaN  5.473462e+06           NaN\n",
       "1996.0                NaN  5.473506e+06           NaN\n",
       "1997.0                NaN  5.549851e+06           NaN\n",
       "1998.0                NaN  5.756187e+06           NaN\n",
       "1999.0                NaN  5.736267e+06           NaN\n",
       "2000.0                NaN  5.643323e+06           NaN\n",
       "2001.0       5.193676e+06  5.479527e+06           NaN\n",
       "2002.0       5.462700e+06  5.592654e+06           NaN\n",
       "2003.0       5.507943e+06  5.441691e+06           NaN\n",
       "2004.0       5.232124e+06  5.306196e+06           NaN\n",
       "2005.0       5.305426e+06  5.415883e+06           NaN\n",
       "2006.0       5.567973e+06  5.365184e+06           NaN\n",
       "2007.0                NaN  5.599188e+06           NaN\n",
       "2008.0                NaN  5.774069e+06           NaN\n",
       "2009.0                NaN  5.731994e+06           NaN\n",
       "2011.0                NaN  5.541251e+06           NaN\n",
       "2012.0                NaN  6.112228e+06           NaN\n",
       "2013.0                NaN  6.045219e+06           NaN\n",
       "2014.0                NaN  5.979743e+06           NaN\n",
       "2015.0                NaN  5.856711e+06           NaN\n",
       "2016.0                NaN  5.960356e+06           NaN\n",
       "2017.0                NaN  5.565527e+06           NaN\n",
       "2018.0                NaN  5.562160e+06  5.670673e+06\n",
       "2019.0                NaN  5.521624e+06  5.486809e+06\n",
       "2020.0                NaN  6.041186e+06  5.754642e+06\n",
       "2021.0                NaN  5.459380e+06  5.673434e+06\n",
       "2022.0                NaN  6.459126e+06  6.159435e+06"
      ]
     },
     "execution_count": 186,
     "metadata": {},
     "output_type": "execute_result"
    }
   ],
   "source": [
    "mergeraces = pd.merge(merge[['raceId','driverId','nationality','milliseconds']],\n",
    "                 races[['raceId', 'year', 'date', 'time']], \n",
    "                 on = \"raceId\",\n",
    "                 how = \"left\")\n",
    "\n",
    "mergeraces = mergeraces.dropna()\n",
    "\n",
    "merged_n = mergeraces.query(\"nationality == 'Colombian' or nationality == 'Finnish' or nationality == 'Monegasque'\") \\\n",
    "                .groupby(['year', 'nationality']) \\\n",
    "                .agg(avg_time=('milliseconds', 'mean')) .reset_index()\n",
    "\n",
    "test = (pd.pivot(merged_n,\n",
    "                           index = 'year',\n",
    "                           columns = 'nationality',\n",
    "                           values =  'avg_time'))\n",
    "\n",
    "test\n",
    "\n",
    "\n",
    "                 "
   ]
  },
  {
   "cell_type": "code",
   "execution_count": 191,
   "metadata": {},
   "outputs": [
    {
     "ename": "ValueError",
     "evalue": "x and y must have same first dimension, but have shapes (1,) and (37,)",
     "output_type": "error",
     "traceback": [
      "\u001b[0;31m---------------------------------------------------------------------------\u001b[0m",
      "\u001b[0;31mValueError\u001b[0m                                Traceback (most recent call last)",
      "Cell \u001b[0;32mIn[191], line 5\u001b[0m\n\u001b[1;32m      2\u001b[0m \u001b[38;5;28;01mimport\u001b[39;00m \u001b[38;5;21;01mmatplotlib\u001b[39;00m\u001b[38;5;21;01m.\u001b[39;00m\u001b[38;5;21;01mdates\u001b[39;00m \u001b[38;5;28;01mas\u001b[39;00m \u001b[38;5;21;01mmdates\u001b[39;00m\n\u001b[1;32m      3\u001b[0m \u001b[38;5;28;01mfrom\u001b[39;00m \u001b[38;5;21;01mdatetime\u001b[39;00m \u001b[38;5;28;01mimport\u001b[39;00m date, time, datetime      \n\u001b[0;32m----> 5\u001b[0m plt\u001b[38;5;241m.\u001b[39mplot(\u001b[38;5;124m\"\u001b[39m\u001b[38;5;124myear\u001b[39m\u001b[38;5;124m\"\u001b[39m, \u001b[38;5;124m\"\u001b[39m\u001b[38;5;124mColombian\u001b[39m\u001b[38;5;124m\"\u001b[39m,\n\u001b[1;32m      6\u001b[0m           data \u001b[38;5;241m=\u001b[39m test)\n\u001b[1;32m      7\u001b[0m plt\u001b[38;5;241m.\u001b[39mplot(\u001b[38;5;124m\"\u001b[39m\u001b[38;5;124myear\u001b[39m\u001b[38;5;124m\"\u001b[39m, \u001b[38;5;124m\"\u001b[39m\u001b[38;5;124mFinnish\u001b[39m\u001b[38;5;124m\"\u001b[39m,\n\u001b[1;32m      8\u001b[0m           data \u001b[38;5;241m=\u001b[39m test)\n",
      "File \u001b[0;32m/opt/anaconda3/lib/python3.12/site-packages/matplotlib/pyplot.py:3794\u001b[0m, in \u001b[0;36mplot\u001b[0;34m(scalex, scaley, data, *args, **kwargs)\u001b[0m\n\u001b[1;32m   3786\u001b[0m \u001b[38;5;129m@_copy_docstring_and_deprecators\u001b[39m(Axes\u001b[38;5;241m.\u001b[39mplot)\n\u001b[1;32m   3787\u001b[0m \u001b[38;5;28;01mdef\u001b[39;00m \u001b[38;5;21mplot\u001b[39m(\n\u001b[1;32m   3788\u001b[0m     \u001b[38;5;241m*\u001b[39margs: \u001b[38;5;28mfloat\u001b[39m \u001b[38;5;241m|\u001b[39m ArrayLike \u001b[38;5;241m|\u001b[39m \u001b[38;5;28mstr\u001b[39m,\n\u001b[0;32m   (...)\u001b[0m\n\u001b[1;32m   3792\u001b[0m     \u001b[38;5;241m*\u001b[39m\u001b[38;5;241m*\u001b[39mkwargs,\n\u001b[1;32m   3793\u001b[0m ) \u001b[38;5;241m-\u001b[39m\u001b[38;5;241m>\u001b[39m \u001b[38;5;28mlist\u001b[39m[Line2D]:\n\u001b[0;32m-> 3794\u001b[0m     \u001b[38;5;28;01mreturn\u001b[39;00m gca()\u001b[38;5;241m.\u001b[39mplot(\n\u001b[1;32m   3795\u001b[0m         \u001b[38;5;241m*\u001b[39margs,\n\u001b[1;32m   3796\u001b[0m         scalex\u001b[38;5;241m=\u001b[39mscalex,\n\u001b[1;32m   3797\u001b[0m         scaley\u001b[38;5;241m=\u001b[39mscaley,\n\u001b[1;32m   3798\u001b[0m         \u001b[38;5;241m*\u001b[39m\u001b[38;5;241m*\u001b[39m({\u001b[38;5;124m\"\u001b[39m\u001b[38;5;124mdata\u001b[39m\u001b[38;5;124m\"\u001b[39m: data} \u001b[38;5;28;01mif\u001b[39;00m data \u001b[38;5;129;01mis\u001b[39;00m \u001b[38;5;129;01mnot\u001b[39;00m \u001b[38;5;28;01mNone\u001b[39;00m \u001b[38;5;28;01melse\u001b[39;00m {}),\n\u001b[1;32m   3799\u001b[0m         \u001b[38;5;241m*\u001b[39m\u001b[38;5;241m*\u001b[39mkwargs,\n\u001b[1;32m   3800\u001b[0m     )\n",
      "File \u001b[0;32m/opt/anaconda3/lib/python3.12/site-packages/matplotlib/axes/_axes.py:1779\u001b[0m, in \u001b[0;36mAxes.plot\u001b[0;34m(self, scalex, scaley, data, *args, **kwargs)\u001b[0m\n\u001b[1;32m   1536\u001b[0m \u001b[38;5;250m\u001b[39m\u001b[38;5;124;03m\"\"\"\u001b[39;00m\n\u001b[1;32m   1537\u001b[0m \u001b[38;5;124;03mPlot y versus x as lines and/or markers.\u001b[39;00m\n\u001b[1;32m   1538\u001b[0m \n\u001b[0;32m   (...)\u001b[0m\n\u001b[1;32m   1776\u001b[0m \u001b[38;5;124;03m(``'green'``) or hex strings (``'#008000'``).\u001b[39;00m\n\u001b[1;32m   1777\u001b[0m \u001b[38;5;124;03m\"\"\"\u001b[39;00m\n\u001b[1;32m   1778\u001b[0m kwargs \u001b[38;5;241m=\u001b[39m cbook\u001b[38;5;241m.\u001b[39mnormalize_kwargs(kwargs, mlines\u001b[38;5;241m.\u001b[39mLine2D)\n\u001b[0;32m-> 1779\u001b[0m lines \u001b[38;5;241m=\u001b[39m [\u001b[38;5;241m*\u001b[39m\u001b[38;5;28mself\u001b[39m\u001b[38;5;241m.\u001b[39m_get_lines(\u001b[38;5;28mself\u001b[39m, \u001b[38;5;241m*\u001b[39margs, data\u001b[38;5;241m=\u001b[39mdata, \u001b[38;5;241m*\u001b[39m\u001b[38;5;241m*\u001b[39mkwargs)]\n\u001b[1;32m   1780\u001b[0m \u001b[38;5;28;01mfor\u001b[39;00m line \u001b[38;5;129;01min\u001b[39;00m lines:\n\u001b[1;32m   1781\u001b[0m     \u001b[38;5;28mself\u001b[39m\u001b[38;5;241m.\u001b[39madd_line(line)\n",
      "File \u001b[0;32m/opt/anaconda3/lib/python3.12/site-packages/matplotlib/axes/_base.py:296\u001b[0m, in \u001b[0;36m_process_plot_var_args.__call__\u001b[0;34m(self, axes, data, *args, **kwargs)\u001b[0m\n\u001b[1;32m    294\u001b[0m     this \u001b[38;5;241m+\u001b[39m\u001b[38;5;241m=\u001b[39m args[\u001b[38;5;241m0\u001b[39m],\n\u001b[1;32m    295\u001b[0m     args \u001b[38;5;241m=\u001b[39m args[\u001b[38;5;241m1\u001b[39m:]\n\u001b[0;32m--> 296\u001b[0m \u001b[38;5;28;01myield from\u001b[39;00m \u001b[38;5;28mself\u001b[39m\u001b[38;5;241m.\u001b[39m_plot_args(\n\u001b[1;32m    297\u001b[0m     axes, this, kwargs, ambiguous_fmt_datakey\u001b[38;5;241m=\u001b[39mambiguous_fmt_datakey)\n",
      "File \u001b[0;32m/opt/anaconda3/lib/python3.12/site-packages/matplotlib/axes/_base.py:486\u001b[0m, in \u001b[0;36m_process_plot_var_args._plot_args\u001b[0;34m(self, axes, tup, kwargs, return_kwargs, ambiguous_fmt_datakey)\u001b[0m\n\u001b[1;32m    483\u001b[0m     axes\u001b[38;5;241m.\u001b[39myaxis\u001b[38;5;241m.\u001b[39mupdate_units(y)\n\u001b[1;32m    485\u001b[0m \u001b[38;5;28;01mif\u001b[39;00m x\u001b[38;5;241m.\u001b[39mshape[\u001b[38;5;241m0\u001b[39m] \u001b[38;5;241m!=\u001b[39m y\u001b[38;5;241m.\u001b[39mshape[\u001b[38;5;241m0\u001b[39m]:\n\u001b[0;32m--> 486\u001b[0m     \u001b[38;5;28;01mraise\u001b[39;00m \u001b[38;5;167;01mValueError\u001b[39;00m(\u001b[38;5;124mf\u001b[39m\u001b[38;5;124m\"\u001b[39m\u001b[38;5;124mx and y must have same first dimension, but \u001b[39m\u001b[38;5;124m\"\u001b[39m\n\u001b[1;32m    487\u001b[0m                      \u001b[38;5;124mf\u001b[39m\u001b[38;5;124m\"\u001b[39m\u001b[38;5;124mhave shapes \u001b[39m\u001b[38;5;132;01m{\u001b[39;00mx\u001b[38;5;241m.\u001b[39mshape\u001b[38;5;132;01m}\u001b[39;00m\u001b[38;5;124m and \u001b[39m\u001b[38;5;132;01m{\u001b[39;00my\u001b[38;5;241m.\u001b[39mshape\u001b[38;5;132;01m}\u001b[39;00m\u001b[38;5;124m\"\u001b[39m)\n\u001b[1;32m    488\u001b[0m \u001b[38;5;28;01mif\u001b[39;00m x\u001b[38;5;241m.\u001b[39mndim \u001b[38;5;241m>\u001b[39m \u001b[38;5;241m2\u001b[39m \u001b[38;5;129;01mor\u001b[39;00m y\u001b[38;5;241m.\u001b[39mndim \u001b[38;5;241m>\u001b[39m \u001b[38;5;241m2\u001b[39m:\n\u001b[1;32m    489\u001b[0m     \u001b[38;5;28;01mraise\u001b[39;00m \u001b[38;5;167;01mValueError\u001b[39;00m(\u001b[38;5;124mf\u001b[39m\u001b[38;5;124m\"\u001b[39m\u001b[38;5;124mx and y can be no greater than 2D, but have \u001b[39m\u001b[38;5;124m\"\u001b[39m\n\u001b[1;32m    490\u001b[0m                      \u001b[38;5;124mf\u001b[39m\u001b[38;5;124m\"\u001b[39m\u001b[38;5;124mshapes \u001b[39m\u001b[38;5;132;01m{\u001b[39;00mx\u001b[38;5;241m.\u001b[39mshape\u001b[38;5;132;01m}\u001b[39;00m\u001b[38;5;124m and \u001b[39m\u001b[38;5;132;01m{\u001b[39;00my\u001b[38;5;241m.\u001b[39mshape\u001b[38;5;132;01m}\u001b[39;00m\u001b[38;5;124m\"\u001b[39m)\n",
      "\u001b[0;31mValueError\u001b[0m: x and y must have same first dimension, but have shapes (1,) and (37,)"
     ]
    },
    {
     "data": {
      "image/png": "[encoded data removed]",
      "text/plain": [
       "<Figure size 640x480 with 1 Axes>"
      ]
     },
     "metadata": {},
     "output_type": "display_data"
    }
   ],
   "source": [
    "import matplotlib.pyplot as plt\n",
    "import matplotlib.dates as mdates\n",
    "from datetime import date, time, datetime      \n",
    "\n",
    "plt.plot(\"year\", \"Colombian\",\n",
    "          data = test)\n",
    "plt.plot(\"year\", \"Finnish\",\n",
    "          data = test)\n",
    "\n",
    "\n",
    "#graphing average race time by nationality over a time period "
   ]
  }
 ],
 "metadata": {
  "kernelspec": {
   "display_name": "base",
   "language": "python",
   "name": "python3"
  },
  "language_info": {
   "codemirror_mode": {
    "name": "ipython",
    "version": 3
   },
   "file_extension": ".py",
   "mimetype": "text/x-python",
   "name": "python",
   "nbconvert_exporter": "python",
   "pygments_lexer": "ipython3",
   "version": "3.10.9"
  }
 },
 "nbformat": 4,
 "nbformat_minor": 2
}
