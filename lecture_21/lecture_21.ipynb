{
 "cells": [
  {
   "attachments": {},
   "cell_type": "markdown",
   "metadata": {},
   "source": [
    "# <span style=\"color:darkblue\"> Lecture 21 - Text Data  </span>\n",
    "\n",
    "<font size = \"5\">\n",
    "\n",
    "In  this lecture we will work with text data"
   ]
  },
  {
   "attachments": {},
   "cell_type": "markdown",
   "metadata": {},
   "source": [
    "<font size = \"5\">\n",
    "\n",
    "Import Libraries"
   ]
  },
  {
   "cell_type": "code",
   "execution_count": 1,
   "metadata": {},
   "outputs": [],
   "source": [
    "import pandas as pd"
   ]
  },
  {
   "cell_type": "markdown",
   "metadata": {},
   "source": [
    "<font size = \"5\">\n",
    "\n",
    "Import Data\n",
    "\n",
    "- Congressional bills in the United States"
   ]
  },
  {
   "cell_type": "code",
   "execution_count": 2,
   "metadata": {},
   "outputs": [
    {
     "data": {
      "text/plain": [
       "Congress        int64\n",
       "bill_number     int64\n",
       "bill_type      object\n",
       "action         object\n",
       "main_action    object\n",
       "category       object\n",
       "member_id       int64\n",
       "dtype: object"
      ]
     },
     "execution_count": 2,
     "metadata": {},
     "output_type": "execute_result"
    }
   ],
   "source": [
    "bills_actions = pd.read_csv(\"data_raw/bills_actions.csv\")\n",
    "bills_actions.dtypes"
   ]
  },
  {
   "cell_type": "markdown",
   "metadata": {},
   "source": [
    "# <span style=\"color:darkblue\"> II. Basic Text Operations </span>"
   ]
  },
  {
   "cell_type": "markdown",
   "metadata": {},
   "source": [
    "<font size = \"5\">\n",
    "\n",
    "Count Frequency"
   ]
  },
  {
   "cell_type": "code",
   "execution_count": 3,
   "metadata": {},
   "outputs": [
    {
     "data": {
      "text/plain": [
       "0         amendment\n",
       "1         amendment\n",
       "2         amendment\n",
       "3       senate bill\n",
       "4       senate bill\n",
       "           ...     \n",
       "3298      amendment\n",
       "3299      amendment\n",
       "3300      amendment\n",
       "3301      amendment\n",
       "3302      amendment\n",
       "Name: category, Length: 3303, dtype: object"
      ]
     },
     "execution_count": 3,
     "metadata": {},
     "output_type": "execute_result"
    }
   ],
   "source": [
    "bills_actions[\"category\"]"
   ]
  },
  {
   "cell_type": "code",
   "execution_count": 4,
   "metadata": {},
   "outputs": [
    {
     "data": {
      "text/plain": [
       "amendment                       1529\n",
       "house bill                       902\n",
       "senate bill                      514\n",
       "house resolution                 234\n",
       "senate resolution                 60\n",
       "house joint resolution            22\n",
       "house concurrent resolution       20\n",
       "senate concurrent resolution      14\n",
       "senate joint resolution            8\n",
       "Name: category, dtype: int64"
      ]
     },
     "execution_count": 4,
     "metadata": {},
     "output_type": "execute_result"
    }
   ],
   "source": [
    "bills_actions[\"category\"].value_counts()"
   ]
  },
  {
   "cell_type": "markdown",
   "metadata": {},
   "source": [
    "<font size = \"5\">\n",
    "\n",
    "Subset text categories"
   ]
  },
  {
   "cell_type": "code",
   "execution_count": 5,
   "metadata": {},
   "outputs": [
    {
     "data": {
      "text/plain": [
       "house bill     902\n",
       "senate bill    514\n",
       "Name: category, dtype: int64"
      ]
     },
     "execution_count": 5,
     "metadata": {},
     "output_type": "execute_result"
    }
   ],
   "source": [
    "# For this analysis we are only interested in bills. With \".query()\" ...\n",
    "#     - We select all entries in the column called \"category\" \n",
    "#       which have values contain in \"list_categories\"\n",
    "#     - \"in\" is used to test whether a word belongs to a list\n",
    "#     - @ is the syntax to reference \"global\" variables that\n",
    "#       are defined in the global environment\n",
    "\n",
    "list_categories = [\"house bill\",\"senate bill\"]\n",
    "bills = bills_actions.query('category in @list_categories')\n",
    "\n",
    "# Verify that the code worked:\n",
    "bills[\"category\"].value_counts()\n"
   ]
  },
  {
   "cell_type": "markdown",
   "metadata": {},
   "source": [
    "<font size = \"5\">\n",
    "\n",
    "Data manipulation with sentences"
   ]
  },
  {
   "cell_type": "code",
   "execution_count": 6,
   "metadata": {},
   "outputs": [
    {
     "name": "stdout",
     "output_type": "stream",
     "text": [
      "0.3199152542372881\n"
     ]
    }
   ],
   "source": [
    "# How many bills mention the word Senator?\n",
    "bool_contains = bills[\"action\"].str.contains(\"Senator\")\n",
    "\n",
    "print(bool_contains.mean())"
   ]
  },
  {
   "cell_type": "code",
   "execution_count": 7,
   "metadata": {},
   "outputs": [
    {
     "data": {
      "application/vnd.microsoft.datawrangler.viewer.v0+json": {
       "columns": [
        {
         "name": "index",
         "rawType": "int64",
         "type": "integer"
        },
        {
         "name": "Congress",
         "rawType": "int64",
         "type": "integer"
        },
        {
         "name": "bill_number",
         "rawType": "int64",
         "type": "integer"
        },
        {
         "name": "bill_type",
         "rawType": "object",
         "type": "string"
        },
        {
         "name": "action",
         "rawType": "object",
         "type": "string"
        },
        {
         "name": "main_action",
         "rawType": "object",
         "type": "string"
        },
        {
         "name": "category",
         "rawType": "object",
         "type": "string"
        },
        {
         "name": "member_id",
         "rawType": "int64",
         "type": "integer"
        }
       ],
       "conversionMethod": "pd.DataFrame",
       "ref": "73242726-fc2e-46ee-b48c-7ec6d3f925cc",
       "rows": [
        [
         "3",
         "116",
         "1199",
         "s",
         "Committee on Health, Education, Labor, and Pensions. Reported by Senator Alexander with an amendment in the nature of a substitute. Without written report.",
         "senate committee/subcommittee actions",
         "senate bill",
         "1561"
        ],
        [
         "4",
         "116",
         "1208",
         "s",
         "Committee on the Judiciary. Reported by Senator Graham with an amendment in the nature of a substitute. Without written report.",
         "senate committee/subcommittee actions",
         "senate bill",
         "1580"
        ],
        [
         "5",
         "116",
         "1231",
         "s",
         "Committee on the Judiciary. Reported by Senator Graham with amendments. Without written report.",
         "senate committee/subcommittee actions",
         "senate bill",
         "1580"
        ],
        [
         "6",
         "116",
         "1228",
         "s",
         "Committee on Commerce, Science, and Transportation. Reported by Senator Wicker without amendment. With written report No. 116-178 .",
         "senate committee/subcommittee actions",
         "senate bill",
         "1002"
        ],
        [
         "7",
         "116",
         "123",
         "s",
         "Committee on Veterans' Affairs. Reported by Senator Moran without amendment. Without written report.",
         "senate committee/subcommittee actions",
         "senate bill",
         "1490"
        ],
        [
         "9",
         "116",
         "1272",
         "s",
         "Committee on Homeland Security and Governmental Affairs. Reported by Senator Johnson without amendment. Without written report.",
         "senate committee/subcommittee actions",
         "senate bill",
         "1701"
        ],
        [
         "10",
         "116",
         "1275",
         "s",
         "Committee on Homeland Security and Governmental Affairs. Reported by Senator Johnson with amendments. With written report No. 116-46 .",
         "senate committee/subcommittee actions",
         "senate bill",
         "1701"
        ],
        [
         "12",
         "116",
         "1309",
         "s",
         "Committee on Foreign Relations. Reported by Senator Risch with an amendment in the nature of a substitute. Without written report.",
         "senate committee/subcommittee actions",
         "senate bill",
         "505"
        ],
        [
         "13",
         "116",
         "1328",
         "s",
         "Committee on the Judiciary. Reported by Senator Graham without amendment. Without written report.",
         "senate committee/subcommittee actions",
         "senate bill",
         "1580"
        ],
        [
         "15",
         "116",
         "1340",
         "s",
         "Committee on Foreign Relations. Reported by Senator Risch with an amendment in the nature of a substitute. Without written report.",
         "senate committee/subcommittee actions",
         "senate bill",
         "505"
        ],
        [
         "16",
         "116",
         "1388",
         "s",
         "Committee on Homeland Security and Governmental Affairs. Reported by Senator Johnson without amendment. With written report No. 116-87 .",
         "senate committee/subcommittee actions",
         "senate bill",
         "1701"
        ],
        [
         "19",
         "116",
         "1434",
         "s",
         "Committee on Homeland Security and Governmental Affairs. Reported by Senator Johnson without amendment. With written report No. 116-100 .",
         "senate committee/subcommittee actions",
         "senate bill",
         "1701"
        ],
        [
         "21",
         "116",
         "1430",
         "s",
         "Committee on Homeland Security and Governmental Affairs. Reported by Senator Johnson with amendments. With written report No. 116-56 .",
         "senate committee/subcommittee actions",
         "senate bill",
         "1701"
        ],
        [
         "22",
         "116",
         "149",
         "s",
         "Committee on Commerce, Science, and Transportation. Reported by Senator Wicker with an amendment in the nature of a substitute. With written report No. 116-182 .",
         "senate committee/subcommittee actions",
         "senate bill",
         "1002"
        ],
        [
         "23",
         "116",
         "1590",
         "s",
         "Committee on Foreign Relations. Reported by Senator Risch without amendment. Without written report.",
         "senate committee/subcommittee actions",
         "senate bill",
         "505"
        ],
        [
         "24",
         "116",
         "1608",
         "s",
         "Committee on Health, Education, Labor, and Pensions. Reported by Senator Alexander with an amendment in the nature of a substitute. Without written report.",
         "senate committee/subcommittee actions",
         "senate bill",
         "1561"
        ],
        [
         "25",
         "116",
         "1611",
         "s",
         "Committee on Commerce, Science, and Transportation. Reported by Senator Wicker with amendments. With written report No. 116-179 .",
         "senate committee/subcommittee actions",
         "senate bill",
         "1002"
        ],
        [
         "28",
         "116",
         "1759",
         "s",
         "Committee on Homeland Security and Governmental Affairs. Reported by Senator Johnson without amendment. Without written report.",
         "senate committee/subcommittee actions",
         "senate bill",
         "1701"
        ],
        [
         "30",
         "116",
         "1833",
         "s",
         "By Senator Barrasso from Committee on Environment and Public Works filed written report. Report No. 116-64 .",
         "senate committee report filed after reporting",
         "senate bill",
         "603"
        ],
        [
         "31",
         "116",
         "1833",
         "s",
         "Committee on Environment and Public Works. Reported by Senator Barrasso without amendment. Without written report.",
         "senate committee/subcommittee actions",
         "senate bill",
         "603"
        ],
        [
         "33",
         "116",
         "1846",
         "s",
         "Committee on Homeland Security and Governmental Affairs. Reported by Senator Johnson with an amendment. With written report No. 116-90 .",
         "senate committee/subcommittee actions",
         "senate bill",
         "1701"
        ],
        [
         "38",
         "116",
         "1",
         "s",
         "Motion by Senator McConnell to reconsider the vote by which the third cloture on the motion to proceed to S. 1 was not invoked ( Record Vote No. 3 ) rendered moot in Senate.",
         "senate floor actions",
         "senate bill",
         "858"
        ],
        [
         "39",
         "116",
         "1",
         "s",
         "Motion by Senator McConnell to reconsider the vote by which cloture on the motion to proceed to S. 1 was not invoked ( Record Vote No. 1 ) agreed to in Senate by Unanimous Consent.",
         "senate floor actions",
         "senate bill",
         "858"
        ],
        [
         "40",
         "116",
         "1",
         "s",
         "Motion by Senator McConnell to reconsider the vote by which the third cloture on the motion to proceed to S. 1 was not invoked ( Record Vote No. 3 ) entered in Senate.",
         "senate floor actions",
         "senate bill",
         "858"
        ],
        [
         "41",
         "116",
         "1",
         "s",
         "Motion by Senator McConnell to reconsider the vote by which cloture on the motion to proceed to S. 1 was not invoked ( Record Vote No. 1 ) entered in Senate.",
         "senate floor actions",
         "senate bill",
         "858"
        ],
        [
         "45",
         "116",
         "2065",
         "s",
         "Committee on Homeland Security and Governmental Affairs. Reported by Senator Johnson with an amendment in the nature of a substitute. With written report No. 116-93 .",
         "senate committee/subcommittee actions",
         "senate bill",
         "1701"
        ],
        [
         "46",
         "116",
         "2071",
         "s",
         "Committee on Indian Affairs. Reported by Senator Hoeven without amendment. With written report No. 116-132 .",
         "senate committee/subcommittee actions",
         "senate bill",
         "622"
        ],
        [
         "47",
         "116",
         "2099",
         "s",
         "Committee on Environment and Public Works. Reported by Senator Barrasso without amendment. Without written report.",
         "senate committee/subcommittee actions",
         "senate bill",
         "603"
        ],
        [
         "49",
         "116",
         "2165",
         "s",
         "Committee on Indian Affairs. Reported by Senator Hoeven with an amendment in the nature of a substitute. With written report No. 116-308 .",
         "senate committee/subcommittee actions",
         "senate bill",
         "622"
        ],
        [
         "51",
         "116",
         "224",
         "s",
         "Committee on Indian Affairs. Reported by Senator Hoeven without amendment. With written report No. 116-10 .",
         "senate committee/subcommittee actions",
         "senate bill",
         "622"
        ],
        [
         "54",
         "116",
         "2336",
         "s",
         "Committee on Veterans' Affairs. Reported by Senator Moran without amendment. Without written report.",
         "senate committee/subcommittee actions",
         "senate bill",
         "1490"
        ],
        [
         "55",
         "116",
         "2353",
         "s",
         "Committee on Homeland Security and Governmental Affairs. Reported by Senator Johnson without amendment. With written report No. 116-211 .",
         "senate committee/subcommittee actions",
         "senate bill",
         "1701"
        ],
        [
         "58",
         "116",
         "249",
         "s",
         "Committee on Foreign Relations. Reported by Senator Risch with an amendment in the nature of a substitute. Without written report.",
         "senate committee/subcommittee actions",
         "senate bill",
         "505"
        ],
        [
         "59",
         "116",
         "2513",
         "s",
         "Committee on Homeland Security and Governmental Affairs. Reported by Senator Johnson with an amendment. With written report No. 116-175 .",
         "senate committee/subcommittee actions",
         "senate bill",
         "1701"
        ],
        [
         "61",
         "116",
         "2547",
         "s",
         "Committee on Foreign Relations. Reported by Senator Risch with an amendment in the nature of a substitute. Without written report.",
         "senate committee/subcommittee actions",
         "senate bill",
         "505"
        ],
        [
         "62",
         "116",
         "257",
         "s",
         "Committee on Indian Affairs. Reported by Senator Hoeven without amendment. With written report No. 116-21 .",
         "senate committee/subcommittee actions",
         "senate bill",
         "622"
        ],
        [
         "64",
         "116",
         "2629",
         "s",
         "Committee on Health, Education, Labor, and Pensions. Reported by Senator Alexander with an amendment in the nature of a substitute. Without written report.",
         "senate committee/subcommittee actions",
         "senate bill",
         "1561"
        ],
        [
         "66",
         "116",
         "2712",
         "s",
         "Committee on Homeland Security and Governmental Affairs. Reported by Senator Johnson without amendment. Without written report.",
         "senate committee/subcommittee actions",
         "senate bill",
         "1701"
        ],
        [
         "67",
         "116",
         "2716",
         "s",
         "Committee on Indian Affairs. Reported by Senator Hoeven with an amendment. With written report No. 116-324 .",
         "senate committee/subcommittee actions",
         "senate bill",
         "622"
        ],
        [
         "68",
         "116",
         "2740",
         "s",
         "Committee on Health, Education, Labor, and Pensions. Reported by Senator Alexander without amendment. Without written report.",
         "senate committee/subcommittee actions",
         "senate bill",
         "1561"
        ],
        [
         "72",
         "116",
         "2847",
         "s",
         "Committee on Homeland Security and Governmental Affairs. Reported by Senator Johnson without amendment. Without written report.",
         "senate committee/subcommittee actions",
         "senate bill",
         "1701"
        ],
        [
         "73",
         "116",
         "2864",
         "s",
         "Committee on Veterans' Affairs. Reported by Senator Moran with an amendment in the nature of a substitute. Without written report.",
         "senate committee/subcommittee actions",
         "senate bill",
         "1490"
        ],
        [
         "74",
         "116",
         "2927",
         "s",
         "Committee on Health, Education, Labor, and Pensions. Reported by Senator Alexander without amendment. Without written report.",
         "senate committee/subcommittee actions",
         "senate bill",
         "1561"
        ],
        [
         "75",
         "116",
         "3076",
         "s",
         "Committee on Agriculture, Nutrition, and Forestry. Original measure reported to Senate by Senator Roberts. Without written report.",
         "reported to senate",
         "senate bill",
         "882"
        ],
        [
         "76",
         "116",
         "3100",
         "s",
         "Committee on Indian Affairs. Reported by Senator Hoeven with an amendment in the nature of a substitute. With written report No. 116-282 .",
         "senate committee/subcommittee actions",
         "senate bill",
         "622"
        ],
        [
         "77",
         "116",
         "3099",
         "s",
         "Committee on Indian Affairs. Reported by Senator Hoeven without amendment. With written report No. 116-281 .",
         "senate committee/subcommittee actions",
         "senate bill",
         "622"
        ],
        [
         "78",
         "116",
         "3239",
         "s",
         "Committee on Environment and Public Works. Reported by Senator Barrasso without amendment. Without written report.",
         "senate committee/subcommittee actions",
         "senate bill",
         "603"
        ],
        [
         "81",
         "116",
         "3287",
         "s",
         "Committee on Homeland Security and Governmental Affairs. Reported by Senator Johnson with an amendment in the nature of a substitute. With written report No. 116-278 .",
         "senate committee/subcommittee actions",
         "senate bill",
         "1701"
        ],
        [
         "82",
         "116",
         "333",
         "s",
         "Committee on Homeland Security and Governmental Affairs. Reported by Senator Johnson without amendment. With written report No. 116-5 .",
         "senate committee/subcommittee actions",
         "senate bill",
         "1701"
        ],
        [
         "83",
         "116",
         "3455",
         "s",
         "By Senator Johnson from Committee on Homeland Security and Governmental Affairs filed written report. Report No. 116-250 .",
         "senate committee report filed after reporting",
         "senate bill",
         "1701"
        ]
       ],
       "shape": {
        "columns": 7,
        "rows": 453
       }
      },
      "text/html": [
       "<div>\n",
       "<style scoped>\n",
       "    .dataframe tbody tr th:only-of-type {\n",
       "        vertical-align: middle;\n",
       "    }\n",
       "\n",
       "    .dataframe tbody tr th {\n",
       "        vertical-align: top;\n",
       "    }\n",
       "\n",
       "    .dataframe thead th {\n",
       "        text-align: right;\n",
       "    }\n",
       "</style>\n",
       "<table border=\"1\" class=\"dataframe\">\n",
       "  <thead>\n",
       "    <tr style=\"text-align: right;\">\n",
       "      <th></th>\n",
       "      <th>Congress</th>\n",
       "      <th>bill_number</th>\n",
       "      <th>bill_type</th>\n",
       "      <th>action</th>\n",
       "      <th>main_action</th>\n",
       "      <th>category</th>\n",
       "      <th>member_id</th>\n",
       "    </tr>\n",
       "  </thead>\n",
       "  <tbody>\n",
       "    <tr>\n",
       "      <th>3</th>\n",
       "      <td>116</td>\n",
       "      <td>1199</td>\n",
       "      <td>s</td>\n",
       "      <td>Committee on Health, Education, Labor, and Pen...</td>\n",
       "      <td>senate committee/subcommittee actions</td>\n",
       "      <td>senate bill</td>\n",
       "      <td>1561</td>\n",
       "    </tr>\n",
       "    <tr>\n",
       "      <th>4</th>\n",
       "      <td>116</td>\n",
       "      <td>1208</td>\n",
       "      <td>s</td>\n",
       "      <td>Committee on the Judiciary. Reported by Senato...</td>\n",
       "      <td>senate committee/subcommittee actions</td>\n",
       "      <td>senate bill</td>\n",
       "      <td>1580</td>\n",
       "    </tr>\n",
       "    <tr>\n",
       "      <th>5</th>\n",
       "      <td>116</td>\n",
       "      <td>1231</td>\n",
       "      <td>s</td>\n",
       "      <td>Committee on the Judiciary. Reported by Senato...</td>\n",
       "      <td>senate committee/subcommittee actions</td>\n",
       "      <td>senate bill</td>\n",
       "      <td>1580</td>\n",
       "    </tr>\n",
       "    <tr>\n",
       "      <th>6</th>\n",
       "      <td>116</td>\n",
       "      <td>1228</td>\n",
       "      <td>s</td>\n",
       "      <td>Committee on Commerce, Science, and Transporta...</td>\n",
       "      <td>senate committee/subcommittee actions</td>\n",
       "      <td>senate bill</td>\n",
       "      <td>1002</td>\n",
       "    </tr>\n",
       "    <tr>\n",
       "      <th>7</th>\n",
       "      <td>116</td>\n",
       "      <td>123</td>\n",
       "      <td>s</td>\n",
       "      <td>Committee on Veterans' Affairs. Reported by Se...</td>\n",
       "      <td>senate committee/subcommittee actions</td>\n",
       "      <td>senate bill</td>\n",
       "      <td>1490</td>\n",
       "    </tr>\n",
       "    <tr>\n",
       "      <th>...</th>\n",
       "      <td>...</td>\n",
       "      <td>...</td>\n",
       "      <td>...</td>\n",
       "      <td>...</td>\n",
       "      <td>...</td>\n",
       "      <td>...</td>\n",
       "      <td>...</td>\n",
       "    </tr>\n",
       "    <tr>\n",
       "      <th>2944</th>\n",
       "      <td>116</td>\n",
       "      <td>617</td>\n",
       "      <td>hr</td>\n",
       "      <td>Committee on Energy and Natural Resources. Rep...</td>\n",
       "      <td>senate committee/subcommittee actions</td>\n",
       "      <td>house bill</td>\n",
       "      <td>1581</td>\n",
       "    </tr>\n",
       "    <tr>\n",
       "      <th>3081</th>\n",
       "      <td>116</td>\n",
       "      <td>762</td>\n",
       "      <td>hr</td>\n",
       "      <td>Committee on Energy and Natural Resources. Rep...</td>\n",
       "      <td>senate committee/subcommittee actions</td>\n",
       "      <td>house bill</td>\n",
       "      <td>1581</td>\n",
       "    </tr>\n",
       "    <tr>\n",
       "      <th>3142</th>\n",
       "      <td>116</td>\n",
       "      <td>828</td>\n",
       "      <td>hr</td>\n",
       "      <td>Committee on Homeland Security and Governmenta...</td>\n",
       "      <td>senate committee/subcommittee actions</td>\n",
       "      <td>house bill</td>\n",
       "      <td>1701</td>\n",
       "    </tr>\n",
       "    <tr>\n",
       "      <th>3150</th>\n",
       "      <td>116</td>\n",
       "      <td>829</td>\n",
       "      <td>hr</td>\n",
       "      <td>Committee on Homeland Security and Governmenta...</td>\n",
       "      <td>senate committee/subcommittee actions</td>\n",
       "      <td>house bill</td>\n",
       "      <td>1701</td>\n",
       "    </tr>\n",
       "    <tr>\n",
       "      <th>3195</th>\n",
       "      <td>116</td>\n",
       "      <td>887</td>\n",
       "      <td>hr</td>\n",
       "      <td>Committee on Homeland Security and Governmenta...</td>\n",
       "      <td>senate committee/subcommittee actions</td>\n",
       "      <td>house bill</td>\n",
       "      <td>1701</td>\n",
       "    </tr>\n",
       "  </tbody>\n",
       "</table>\n",
       "<p>453 rows × 7 columns</p>\n",
       "</div>"
      ],
      "text/plain": [
       "      Congress  bill_number bill_type  \\\n",
       "3          116         1199         s   \n",
       "4          116         1208         s   \n",
       "5          116         1231         s   \n",
       "6          116         1228         s   \n",
       "7          116          123         s   \n",
       "...        ...          ...       ...   \n",
       "2944       116          617        hr   \n",
       "3081       116          762        hr   \n",
       "3142       116          828        hr   \n",
       "3150       116          829        hr   \n",
       "3195       116          887        hr   \n",
       "\n",
       "                                                 action  \\\n",
       "3     Committee on Health, Education, Labor, and Pen...   \n",
       "4     Committee on the Judiciary. Reported by Senato...   \n",
       "5     Committee on the Judiciary. Reported by Senato...   \n",
       "6     Committee on Commerce, Science, and Transporta...   \n",
       "7     Committee on Veterans' Affairs. Reported by Se...   \n",
       "...                                                 ...   \n",
       "2944  Committee on Energy and Natural Resources. Rep...   \n",
       "3081  Committee on Energy and Natural Resources. Rep...   \n",
       "3142  Committee on Homeland Security and Governmenta...   \n",
       "3150  Committee on Homeland Security and Governmenta...   \n",
       "3195  Committee on Homeland Security and Governmenta...   \n",
       "\n",
       "                                main_action     category  member_id  \n",
       "3     senate committee/subcommittee actions  senate bill       1561  \n",
       "4     senate committee/subcommittee actions  senate bill       1580  \n",
       "5     senate committee/subcommittee actions  senate bill       1580  \n",
       "6     senate committee/subcommittee actions  senate bill       1002  \n",
       "7     senate committee/subcommittee actions  senate bill       1490  \n",
       "...                                     ...          ...        ...  \n",
       "2944  senate committee/subcommittee actions   house bill       1581  \n",
       "3081  senate committee/subcommittee actions   house bill       1581  \n",
       "3142  senate committee/subcommittee actions   house bill       1701  \n",
       "3150  senate committee/subcommittee actions   house bill       1701  \n",
       "3195  senate committee/subcommittee actions   house bill       1701  \n",
       "\n",
       "[453 rows x 7 columns]"
      ]
     },
     "execution_count": 7,
     "metadata": {},
     "output_type": "execute_result"
    }
   ],
   "source": [
    "bills[bills[\"action\"].str.contains(\"Senator\")]"
   ]
  },
  {
   "cell_type": "code",
   "execution_count": 9,
   "metadata": {},
   "outputs": [
    {
     "name": "stderr",
     "output_type": "stream",
     "text": [
      "/var/folders/3g/kh8280_j3b5515nc6yp293880000gn/T/ipykernel_33406/372703810.py:2: SettingWithCopyWarning: \n",
      "A value is trying to be set on a copy of a slice from a DataFrame.\n",
      "Try using .loc[row_indexer,col_indexer] = value instead\n",
      "\n",
      "See the caveats in the documentation: https://pandas.pydata.org/pandas-docs/stable/user_guide/indexing.html#returning-a-view-versus-a-copy\n",
      "  bills[\"action_custom\"] = bills[\"action\"].str.replace(\"Senator\",\"Sen.\")\n"
     ]
    }
   ],
   "source": [
    "# How to replace the word \"Senator\" with \"Custom Title\"\n",
    "bills[\"action_custom\"] = bills[\"action\"].str.replace(\"Senator\",\"Sen.\")"
   ]
  },
  {
   "cell_type": "markdown",
   "metadata": {},
   "source": [
    "<font size = \"5\">\n",
    "\n",
    "Try it yourself!\n",
    "\n",
    "- Obtain a new dataset called \"resolutions\" <br>\n",
    " which subsets rows contain the \"category\" values:\n",
    "\n",
    " ``` [\"house resolution\",\"senate resolution\"] ```"
   ]
  },
  {
   "cell_type": "code",
   "execution_count": 10,
   "metadata": {},
   "outputs": [
    {
     "data": {
      "application/vnd.microsoft.datawrangler.viewer.v0+json": {
       "columns": [
        {
         "name": "index",
         "rawType": "int64",
         "type": "integer"
        },
        {
         "name": "Congress",
         "rawType": "int64",
         "type": "integer"
        },
        {
         "name": "bill_number",
         "rawType": "int64",
         "type": "integer"
        },
        {
         "name": "bill_type",
         "rawType": "object",
         "type": "string"
        },
        {
         "name": "action",
         "rawType": "object",
         "type": "string"
        },
        {
         "name": "main_action",
         "rawType": "object",
         "type": "string"
        },
        {
         "name": "category",
         "rawType": "object",
         "type": "string"
        },
        {
         "name": "member_id",
         "rawType": "int64",
         "type": "integer"
        }
       ],
       "conversionMethod": "pd.DataFrame",
       "ref": "93ced3f4-62bb-4c31-8152-09826e3610ea",
       "rows": [
        [
         "485",
         "116",
         "123",
         "sres",
         "Committee on Foreign Relations. Reported by Senator Risch without amendment. Without written report.",
         "senate committee/subcommittee actions",
         "senate resolution",
         "505"
        ],
        [
         "486",
         "116",
         "135",
         "sres",
         "Committee on Foreign Relations. Reported by Senator Risch without amendment and with an amended preamble. Without written report.",
         "senate committee/subcommittee actions",
         "senate resolution",
         "505"
        ],
        [
         "487",
         "116",
         "142",
         "sres",
         "Committee on Foreign Relations. Reported by Senator Risch with an amendment in the nature of a substitute and with an amended preamble. Without written report.",
         "senate committee/subcommittee actions",
         "senate resolution",
         "505"
        ],
        [
         "488",
         "116",
         "152",
         "sres",
         "Committee on Foreign Relations. Reported by Senator Risch with an amendment in the nature of a substitute and with an amended preamble. Without written report.",
         "senate committee/subcommittee actions",
         "senate resolution",
         "505"
        ],
        [
         "489",
         "116",
         "183",
         "sres",
         "Committee on Foreign Relations. Reported by Senator Risch without amendment and with an amended preamble. Without written report.",
         "senate committee/subcommittee actions",
         "senate resolution",
         "505"
        ],
        [
         "490",
         "116",
         "184",
         "sres",
         "Committee on Foreign Relations. Reported by Senator Risch with an amendment and with an amended preamble. Without written report.",
         "senate committee/subcommittee actions",
         "senate resolution",
         "505"
        ],
        [
         "493",
         "116",
         "188",
         "sres",
         "Committee on Foreign Relations. Reported by Senator Risch with an amendment in the nature of a substitute and with an amended preamble. Without written report.",
         "senate committee/subcommittee actions",
         "senate resolution",
         "505"
        ],
        [
         "494",
         "116",
         "198",
         "sres",
         "Committee on Foreign Relations. Reported by Senator Risch with an amendment in the nature of a substitute and with an amended preamble. Without written report.",
         "senate committee/subcommittee actions",
         "senate resolution",
         "505"
        ],
        [
         "496",
         "116",
         "23",
         "sres",
         "Committee on Foreign Relations. Reported by Senator Risch without amendment and with an amended preamble. Without written report.",
         "senate committee/subcommittee actions",
         "senate resolution",
         "505"
        ],
        [
         "497",
         "116",
         "236",
         "sres",
         "Committee on Foreign Relations. Reported by Senator Risch without amendment and with a preamble. Without written report.",
         "senate committee/subcommittee actions",
         "senate resolution",
         "505"
        ],
        [
         "498",
         "116",
         "260",
         "sres",
         "Committee on Foreign Relations. Reported by Senator Risch with an amendment in the nature of a substitute and an amendment to the title and with an amended preamble. Without written report.",
         "senate committee/subcommittee actions",
         "senate resolution",
         "505"
        ],
        [
         "499",
         "116",
         "277",
         "sres",
         "Committee on Foreign Relations. Reported by Senator Risch without amendment and with a preamble. Without written report.",
         "senate committee/subcommittee actions",
         "senate resolution",
         "505"
        ],
        [
         "500",
         "116",
         "318",
         "sres",
         "Committee on Foreign Relations. Reported by Senator Risch with amendments and with a preamble. Without written report.",
         "senate committee/subcommittee actions",
         "senate resolution",
         "505"
        ],
        [
         "501",
         "116",
         "343",
         "sres",
         "Committee on Foreign Relations. Reported by Senator Risch without amendment and with a preamble. Without written report.",
         "senate committee/subcommittee actions",
         "senate resolution",
         "505"
        ],
        [
         "502",
         "116",
         "35",
         "sres",
         "Committee on Foreign Relations. Reported by Senator Risch without amendment and with an amended preamble. Without written report.",
         "senate committee/subcommittee actions",
         "senate resolution",
         "505"
        ],
        [
         "503",
         "116",
         "371",
         "sres",
         "Committee on Foreign Relations. Reported by Senator Risch with an amendment in the nature of a substitute and with an amended preamble. Without written report.",
         "senate committee/subcommittee actions",
         "senate resolution",
         "505"
        ],
        [
         "504",
         "116",
         "375",
         "sres",
         "Committee on Foreign Relations. Reported by Senator Risch without amendment and with an amended preamble. Without written report.",
         "senate committee/subcommittee actions",
         "senate resolution",
         "505"
        ],
        [
         "505",
         "116",
         "385",
         "sres",
         "Committee on Foreign Relations. Reported by Senator Risch without amendment and with an amended preamble. Without written report.",
         "senate committee/subcommittee actions",
         "senate resolution",
         "505"
        ],
        [
         "506",
         "116",
         "392",
         "sres",
         "Committee on Foreign Relations. Reported by Senator Risch with an amendment in the nature of a substitute and with an amended preamble. Without written report.",
         "senate committee/subcommittee actions",
         "senate resolution",
         "505"
        ],
        [
         "507",
         "116",
         "395",
         "sres",
         "Committee on Foreign Relations. Reported by Senator Risch without amendment and with a preamble. Without written report.",
         "senate committee/subcommittee actions",
         "senate resolution",
         "505"
        ],
        [
         "508",
         "116",
         "406",
         "sres",
         "Committee on Foreign Relations. Reported by Senator Risch with an amendment in the nature of a substitute and with an amended preamble. Without written report.",
         "senate committee/subcommittee actions",
         "senate resolution",
         "505"
        ],
        [
         "509",
         "116",
         "447",
         "sres",
         "Committee on Foreign Relations. Reported by Senator Risch with an amendment in the nature of a substitute and with an amended preamble. Without written report.",
         "senate committee/subcommittee actions",
         "senate resolution",
         "505"
        ],
        [
         "510",
         "116",
         "454",
         "sres",
         "Committee on Foreign Relations. Reported by Senator Risch with an amendment in the nature of a substitute and with an amended preamble. Without written report.",
         "senate committee/subcommittee actions",
         "senate resolution",
         "505"
        ],
        [
         "514",
         "116",
         "502",
         "sres",
         "Committee on Foreign Relations. Reported by Senator Risch without amendment and with a preamble. Without written report.",
         "senate committee/subcommittee actions",
         "senate resolution",
         "505"
        ],
        [
         "515",
         "116",
         "511",
         "sres",
         "Committee on Foreign Relations. Reported by Senator Risch with an amendment in the nature of a substitute and with an amended preamble. Without written report.",
         "senate committee/subcommittee actions",
         "senate resolution",
         "505"
        ],
        [
         "516",
         "116",
         "523",
         "sres",
         "Committee on Foreign Relations. Reported by Senator Risch without amendment and with a preamble. Without written report.",
         "senate committee/subcommittee actions",
         "senate resolution",
         "505"
        ],
        [
         "517",
         "116",
         "525",
         "sres",
         "Committee on Foreign Relations. Reported by Senator Risch with amendments and with an amended preamble. Without written report.",
         "senate committee/subcommittee actions",
         "senate resolution",
         "505"
        ],
        [
         "518",
         "116",
         "533",
         "sres",
         "Committee on Foreign Relations. Reported by Senator Risch with an amendment in the nature of a substitute and with an amended preamble. Without written report.",
         "senate committee/subcommittee actions",
         "senate resolution",
         "505"
        ],
        [
         "519",
         "116",
         "542",
         "sres",
         "Committee on Foreign Relations. Reported by Senator Risch with an amendment in the nature of a substitute and with an amended preamble. Without written report.",
         "senate committee/subcommittee actions",
         "senate resolution",
         "505"
        ],
        [
         "520",
         "116",
         "567",
         "sres",
         "Committee on Foreign Relations. Reported by Senator Risch without amendment and with a preamble. Without written report.",
         "senate committee/subcommittee actions",
         "senate resolution",
         "505"
        ],
        [
         "525",
         "116",
         "67",
         "sres",
         "Committee on Foreign Relations. Reported by Senator Risch without amendment and with an amended preamble. Without written report.",
         "senate committee/subcommittee actions",
         "senate resolution",
         "505"
        ],
        [
         "527",
         "116",
         "70",
         "sres",
         "Committee on Rules and Administration. Original measure reported to Senate by Senator Blunt. Without written report. (text: CR S1329-1335 )",
         "reported to senate",
         "senate resolution",
         "1020"
        ],
        [
         "530",
         "116",
         "74",
         "sres",
         "Committee on Foreign Relations. Reported by Senator Risch without amendment and with an amended preamble. Without written report.",
         "senate committee/subcommittee actions",
         "senate resolution",
         "505"
        ],
        [
         "531",
         "116",
         "81",
         "sres",
         "Committee on Foreign Relations. Reported by Senator Risch with an amendment in the nature of a substitute and with an amended preamble. Without written report.",
         "senate committee/subcommittee actions",
         "senate resolution",
         "505"
        ],
        [
         "532",
         "116",
         "96",
         "sres",
         "Committee on Foreign Relations. Reported by Senator Risch without amendment and with a preamble. Without written report.",
         "senate committee/subcommittee actions",
         "senate resolution",
         "505"
        ],
        [
         "533",
         "116",
         "95",
         "sres",
         "Committee on Foreign Relations. Reported by Senator Risch without amendment and with a preamble. Without written report.",
         "senate committee/subcommittee actions",
         "senate resolution",
         "505"
        ],
        [
         "535",
         "116",
         "148",
         "sres",
         "Committee on Foreign Relations. Reported by Senator Risch with an amendment in the nature of a substitute and with an amended preamble. Without written report.",
         "senate committee/subcommittee actions",
         "senate resolution",
         "505"
        ],
        [
         "536",
         "116",
         "206",
         "sres",
         "Committee on Foreign Relations. Reported by Senator Risch with an amendment in the nature of a substitute and an amendment to the title and with an amended preamble. Without written report.",
         "senate committee/subcommittee actions",
         "senate resolution",
         "505"
        ],
        [
         "537",
         "116",
         "27",
         "sres",
         "Committee on Foreign Relations. Reported by Senator Risch without amendment and with a preamble. Without written report.",
         "senate committee/subcommittee actions",
         "senate resolution",
         "505"
        ],
        [
         "538",
         "116",
         "297",
         "sres",
         "Committee on Foreign Relations. Reported by Senator Risch without amendment and with a preamble. Without written report.",
         "senate committee/subcommittee actions",
         "senate resolution",
         "505"
        ],
        [
         "539",
         "116",
         "34",
         "sres",
         "Committee on Foreign Relations. Reported by Senator Risch with an amendment in the nature of a substitute and an amendment to the title and with an amended preamble. Without written report.",
         "senate committee/subcommittee actions",
         "senate resolution",
         "505"
        ],
        [
         "540",
         "116",
         "40",
         "sres",
         "Committee on Finance. Original measure reported to Senate by Senator Grassley. Without written report.",
         "reported to senate",
         "senate resolution",
         "194"
        ],
        [
         "541",
         "116",
         "41",
         "sres",
         "Committee on Environment and Public Works. Original measure reported to Senate by Senator Barrasso. Without written report.",
         "reported to senate",
         "senate resolution",
         "603"
        ],
        [
         "542",
         "116",
         "42",
         "sres",
         "Committee on Armed Services. Original measure reported to Senate by Senator Inhofe. Without written report.",
         "reported to senate",
         "senate resolution",
         "513"
        ],
        [
         "543",
         "116",
         "45",
         "sres",
         "Committee on Energy and Natural Resources. Original measure reported to Senate by Senator Murkowski. Without written report.",
         "reported to senate",
         "senate resolution",
         "1581"
        ],
        [
         "544",
         "116",
         "46",
         "sres",
         "Committee on Environment and Public Works. Original measure reported to Senate by Senator Barrasso. Without written report.",
         "reported to senate",
         "senate resolution",
         "603"
        ],
        [
         "545",
         "116",
         "48",
         "sres",
         "Committee on Commerce, Science, and Transportation. Original measure reported to Senate by Senator Wicker. Without written report.",
         "reported to senate",
         "senate resolution",
         "1002"
        ],
        [
         "546",
         "116",
         "47",
         "sres",
         "Committee on Banking, Housing, and Urban Affairs. Original measure reported to Senate by Senator Crapo. Without written report.",
         "reported to senate",
         "senate resolution",
         "841"
        ],
        [
         "547",
         "116",
         "49",
         "sres",
         "Committee on Homeland Security and Governmental Affairs. Original measure reported to Senate by Senator Johnson. Without written report.",
         "reported to senate",
         "senate resolution",
         "1701"
        ],
        [
         "548",
         "116",
         "50",
         "sres",
         "Motion by Senator McConnell to reconsider the vote by which cloture on the motion to proceed to S. Res. 50 was not invoked ( Record Vote No. 57 ) entered in Senate.",
         "senate floor actions",
         "senate resolution",
         "858"
        ]
       ],
       "shape": {
        "columns": 7,
        "rows": 294
       }
      },
      "text/html": [
       "<div>\n",
       "<style scoped>\n",
       "    .dataframe tbody tr th:only-of-type {\n",
       "        vertical-align: middle;\n",
       "    }\n",
       "\n",
       "    .dataframe tbody tr th {\n",
       "        vertical-align: top;\n",
       "    }\n",
       "\n",
       "    .dataframe thead th {\n",
       "        text-align: right;\n",
       "    }\n",
       "</style>\n",
       "<table border=\"1\" class=\"dataframe\">\n",
       "  <thead>\n",
       "    <tr style=\"text-align: right;\">\n",
       "      <th></th>\n",
       "      <th>Congress</th>\n",
       "      <th>bill_number</th>\n",
       "      <th>bill_type</th>\n",
       "      <th>action</th>\n",
       "      <th>main_action</th>\n",
       "      <th>category</th>\n",
       "      <th>member_id</th>\n",
       "    </tr>\n",
       "  </thead>\n",
       "  <tbody>\n",
       "    <tr>\n",
       "      <th>485</th>\n",
       "      <td>116</td>\n",
       "      <td>123</td>\n",
       "      <td>sres</td>\n",
       "      <td>Committee on Foreign Relations. Reported by Se...</td>\n",
       "      <td>senate committee/subcommittee actions</td>\n",
       "      <td>senate resolution</td>\n",
       "      <td>505</td>\n",
       "    </tr>\n",
       "    <tr>\n",
       "      <th>486</th>\n",
       "      <td>116</td>\n",
       "      <td>135</td>\n",
       "      <td>sres</td>\n",
       "      <td>Committee on Foreign Relations. Reported by Se...</td>\n",
       "      <td>senate committee/subcommittee actions</td>\n",
       "      <td>senate resolution</td>\n",
       "      <td>505</td>\n",
       "    </tr>\n",
       "    <tr>\n",
       "      <th>487</th>\n",
       "      <td>116</td>\n",
       "      <td>142</td>\n",
       "      <td>sres</td>\n",
       "      <td>Committee on Foreign Relations. Reported by Se...</td>\n",
       "      <td>senate committee/subcommittee actions</td>\n",
       "      <td>senate resolution</td>\n",
       "      <td>505</td>\n",
       "    </tr>\n",
       "    <tr>\n",
       "      <th>488</th>\n",
       "      <td>116</td>\n",
       "      <td>152</td>\n",
       "      <td>sres</td>\n",
       "      <td>Committee on Foreign Relations. Reported by Se...</td>\n",
       "      <td>senate committee/subcommittee actions</td>\n",
       "      <td>senate resolution</td>\n",
       "      <td>505</td>\n",
       "    </tr>\n",
       "    <tr>\n",
       "      <th>489</th>\n",
       "      <td>116</td>\n",
       "      <td>183</td>\n",
       "      <td>sres</td>\n",
       "      <td>Committee on Foreign Relations. Reported by Se...</td>\n",
       "      <td>senate committee/subcommittee actions</td>\n",
       "      <td>senate resolution</td>\n",
       "      <td>505</td>\n",
       "    </tr>\n",
       "    <tr>\n",
       "      <th>...</th>\n",
       "      <td>...</td>\n",
       "      <td>...</td>\n",
       "      <td>...</td>\n",
       "      <td>...</td>\n",
       "      <td>...</td>\n",
       "      <td>...</td>\n",
       "      <td>...</td>\n",
       "    </tr>\n",
       "    <tr>\n",
       "      <th>1085</th>\n",
       "      <td>116</td>\n",
       "      <td>603</td>\n",
       "      <td>hres</td>\n",
       "      <td>Mr. Hoyer moved to table the measure.</td>\n",
       "      <td>house floor actions</td>\n",
       "      <td>house resolution</td>\n",
       "      <td>1065</td>\n",
       "    </tr>\n",
       "    <tr>\n",
       "      <th>1086</th>\n",
       "      <td>116</td>\n",
       "      <td>603</td>\n",
       "      <td>hres</td>\n",
       "      <td>QUESTION OF THE PRIVILEGES OF THE HOUSE - The ...</td>\n",
       "      <td>house floor actions</td>\n",
       "      <td>house resolution</td>\n",
       "      <td>1560</td>\n",
       "    </tr>\n",
       "    <tr>\n",
       "      <th>1087</th>\n",
       "      <td>116</td>\n",
       "      <td>647</td>\n",
       "      <td>hres</td>\n",
       "      <td>Mr. Hoyer moved to table the measure.</td>\n",
       "      <td>house floor actions</td>\n",
       "      <td>house resolution</td>\n",
       "      <td>1065</td>\n",
       "    </tr>\n",
       "    <tr>\n",
       "      <th>1088</th>\n",
       "      <td>116</td>\n",
       "      <td>770</td>\n",
       "      <td>hres</td>\n",
       "      <td>Mr. Hoyer moved to table the measure.</td>\n",
       "      <td>house floor actions</td>\n",
       "      <td>house resolution</td>\n",
       "      <td>1065</td>\n",
       "    </tr>\n",
       "    <tr>\n",
       "      <th>1089</th>\n",
       "      <td>116</td>\n",
       "      <td>770</td>\n",
       "      <td>hres</td>\n",
       "      <td>QUESTION OF THE PRIVILEGES OF THE HOUSE - The ...</td>\n",
       "      <td>house floor actions</td>\n",
       "      <td>house resolution</td>\n",
       "      <td>1560</td>\n",
       "    </tr>\n",
       "  </tbody>\n",
       "</table>\n",
       "<p>294 rows × 7 columns</p>\n",
       "</div>"
      ],
      "text/plain": [
       "      Congress  bill_number bill_type  \\\n",
       "485        116          123      sres   \n",
       "486        116          135      sres   \n",
       "487        116          142      sres   \n",
       "488        116          152      sres   \n",
       "489        116          183      sres   \n",
       "...        ...          ...       ...   \n",
       "1085       116          603      hres   \n",
       "1086       116          603      hres   \n",
       "1087       116          647      hres   \n",
       "1088       116          770      hres   \n",
       "1089       116          770      hres   \n",
       "\n",
       "                                                 action  \\\n",
       "485   Committee on Foreign Relations. Reported by Se...   \n",
       "486   Committee on Foreign Relations. Reported by Se...   \n",
       "487   Committee on Foreign Relations. Reported by Se...   \n",
       "488   Committee on Foreign Relations. Reported by Se...   \n",
       "489   Committee on Foreign Relations. Reported by Se...   \n",
       "...                                                 ...   \n",
       "1085              Mr. Hoyer moved to table the measure.   \n",
       "1086  QUESTION OF THE PRIVILEGES OF THE HOUSE - The ...   \n",
       "1087              Mr. Hoyer moved to table the measure.   \n",
       "1088              Mr. Hoyer moved to table the measure.   \n",
       "1089  QUESTION OF THE PRIVILEGES OF THE HOUSE - The ...   \n",
       "\n",
       "                                main_action           category  member_id  \n",
       "485   senate committee/subcommittee actions  senate resolution        505  \n",
       "486   senate committee/subcommittee actions  senate resolution        505  \n",
       "487   senate committee/subcommittee actions  senate resolution        505  \n",
       "488   senate committee/subcommittee actions  senate resolution        505  \n",
       "489   senate committee/subcommittee actions  senate resolution        505  \n",
       "...                                     ...                ...        ...  \n",
       "1085                    house floor actions   house resolution       1065  \n",
       "1086                    house floor actions   house resolution       1560  \n",
       "1087                    house floor actions   house resolution       1065  \n",
       "1088                    house floor actions   house resolution       1065  \n",
       "1089                    house floor actions   house resolution       1560  \n",
       "\n",
       "[294 rows x 7 columns]"
      ]
     },
     "execution_count": 10,
     "metadata": {},
     "output_type": "execute_result"
    }
   ],
   "source": [
    "# Write your own code\n",
    "\n",
    "list_resolution_names = [\"house resolution\",\"senate resolution\"]\n",
    "resolutions    = bills_actions.query(\" category in @list_resolution_names\")\n",
    "\n",
    "resolutions\n",
    "\n"
   ]
  },
  {
   "attachments": {},
   "cell_type": "markdown",
   "metadata": {},
   "source": [
    "# <span style=\"color:darkblue\"> III. Regular Expressions </span>\n",
    "\n",
    "<font size = \"5\">\n",
    "\n",
    "Regular expressions enable advanced searching <br>\n",
    "for string data."
   ]
  },
  {
   "cell_type": "code",
   "execution_count": null,
   "metadata": {},
   "outputs": [],
   "source": [
    "# A regular expression (or regex) is a sequence of characters that defines a search pattern,\n",
    "# usually for finding, extracting, or replacing parts of text.\n",
    "\n",
    "dataset = pd.read_csv(\"data_raw/bills_actions.csv\")\n",
    "\n",
    "senate_bills = dataset.query('category == \"senate bill\"')\n",
    "amendments = dataset.query('category == \"amendment\"')"
   ]
  },
  {
   "cell_type": "code",
   "execution_count": 12,
   "metadata": {},
   "outputs": [],
   "source": [
    "to_reconsider = dataset[dataset['action'].str.contains('to reconsider')]"
   ]
  },
  {
   "cell_type": "code",
   "execution_count": 13,
   "metadata": {},
   "outputs": [
    {
     "data": {
      "application/vnd.microsoft.datawrangler.viewer.v0+json": {
       "columns": [
        {
         "name": "index",
         "rawType": "int64",
         "type": "integer"
        },
        {
         "name": "Congress",
         "rawType": "int64",
         "type": "integer"
        },
        {
         "name": "bill_number",
         "rawType": "int64",
         "type": "integer"
        },
        {
         "name": "bill_type",
         "rawType": "object",
         "type": "string"
        },
        {
         "name": "action",
         "rawType": "object",
         "type": "string"
        },
        {
         "name": "main_action",
         "rawType": "object",
         "type": "string"
        },
        {
         "name": "category",
         "rawType": "object",
         "type": "string"
        },
        {
         "name": "member_id",
         "rawType": "int64",
         "type": "integer"
        }
       ],
       "conversionMethod": "pd.DataFrame",
       "ref": "bdd99431-7b6e-4258-9f31-99799e61a083",
       "rows": [
        [
         "0",
         "116",
         "1029",
         "s",
         "S.Amdt.1274 Amendment SA 1274 proposed by Senator McConnell for Senator Cornyn. (consideration: CR S7233 ; text: CR S7233 ) In the nature of a substitute.",
         "senate amendment proposed (on the floor)",
         "amendment",
         "858"
        ],
        [
         "1",
         "116",
         "1031",
         "s",
         "S.Amdt.2698 Amendment SA 2698 proposed by Senator Hawley. (consideration: CR S7394-7395 ; text: CR S7394-7395 ) In the nature of a substitute.",
         "senate amendment proposed (on the floor)",
         "amendment",
         "675"
        ],
        [
         "2",
         "116",
         "1160",
         "s",
         "S.Amdt.2659 Amendment SA 2659 proposed by Senator McConnell for Senator Smith. (consideration: CR S5717 ; text: CR S5717 ) In the nature of a substitute.",
         "senate amendment proposed (on the floor)",
         "amendment",
         "858"
        ],
        [
         "8",
         "116",
         "1253",
         "s",
         "S.Amdt.2424 Amendment SA 2424 proposed by Senator Feinstein for Senator Cornyn. (consideration: CR S4174-4175 ; text: CR S4174-4175 ) To require the National Institutes of Health to conduct a study and report on the short-term and long-term health impacts of e-cigarette use by youth and young adults under 21 years of age.",
         "senate amendment proposed (on the floor)",
         "amendment",
         "297"
        ],
        [
         "11",
         "116",
         "1309",
         "s",
         "S.Amdt.1275 Amendment SA 1275 proposed by Senator McConnell for Senator Cardin. (consideration: CR S7236 ; text: CR S7220-7221 ) In the nature of a substitute.",
         "senate amendment proposed (on the floor)",
         "amendment",
         "858"
        ],
        [
         "14",
         "116",
         "1340",
         "s",
         "S.Amdt.940 Amendment SA 940 proposed by Senator Rubio for Senator Menendez. (consideration: CR S5633 ; text: CR S5633 ) To modify the authority to provide assistance.",
         "senate amendment proposed (on the floor)",
         "amendment",
         "756"
        ],
        [
         "17",
         "116",
         "1387",
         "s",
         "S.Amdt.2710 Amendment SA 2710 proposed by Senator Moran for Senator Braun. (consideration: CR S7557 ; text: CR S7554-7555 ) In the nature of a substitute.",
         "senate amendment proposed (on the floor)",
         "amendment",
         "1490"
        ],
        [
         "18",
         "116",
         "1434",
         "s",
         "S.Amdt.1269 Amendment SA 1269 proposed by Senator McConnell for Senator Portman. (consideration: CR S7229 ; text: CR S7229 ) To modify the definition of reverse auction to cover the awarding of contracts and orders that are based solely on the price obtained through the auction process.",
         "senate amendment proposed (on the floor)",
         "amendment",
         "858"
        ],
        [
         "20",
         "116",
         "1430",
         "s",
         "S.Amdt.1251 Amendment SA 1251 proposed by Senator Fischer for Senator Lankford. (consideration: CR S6766 ; text: CR S6766 ) To make certain corrections.",
         "senate amendment proposed (on the floor)",
         "amendment",
         "276"
        ],
        [
         "26",
         "116",
         "1636",
         "s",
         "S.Amdt.2707 Amendment SA 2707 proposed by Senator McConnell for Senator Alexander. (consideration: CR S7470 ; text: CR S7470 ) In the nature of a substitute.",
         "senate amendment proposed (on the floor)",
         "amendment",
         "858"
        ],
        [
         "27",
         "116",
         "1681",
         "s",
         "S.Amdt.2716 Amendment SA 2716 proposed by Senator Braun for Senator Alexander. (consideration: CR S7643 ; text: CR S7643 ) In the nature of a substitute.",
         "senate amendment proposed (on the floor)",
         "amendment",
         "839"
        ],
        [
         "29",
         "116",
         "1757",
         "s",
         "S.Amdt.1524 Amendment SA 1524 proposed by Senator McConnell for Senator Ernst. (consideration: CR S1611 ; text: CR S1609-1610 ) In the nature of a substitute.",
         "senate amendment proposed (on the floor)",
         "amendment",
         "858"
        ],
        [
         "32",
         "116",
         "1846",
         "s",
         "S.Amdt.1252 Amendment SA 1252 proposed by Senator Fischer for Senator Peters. (consideration: CR S6769-6770 ; text: CR S6769-6770 ) In the nature of a substitute.",
         "senate amendment proposed (on the floor)",
         "amendment",
         "276"
        ],
        [
         "34",
         "116",
         "1",
         "s",
         "S.Amdt.98 Amendment SA 98 proposed by Senator Menendez for Senator Risch to Amendment SA 97 . (consideration: CR S830 ; text: CR S830 ) To provide for a classified annex to be submitted with the report on the cooperation of the United States and Israel with respect to countering unmanned aerial systems.",
         "senate amendment proposed (on the floor)",
         "amendment",
         "989"
        ],
        [
         "35",
         "116",
         "1",
         "s",
         "S.Amdt.97 Amendment SA 97 proposed by Senator Risch. (consideration: CR S830 ; text: CR S830 ) To clarify the deadline for the reporting requirement relating to the establishment of a Jordan Enterprise Fund.",
         "senate amendment proposed (on the floor)",
         "amendment",
         "505"
        ],
        [
         "36",
         "116",
         "1",
         "s",
         "S.Amdt.96 Amendment SA 96 proposed by Senator Menendez to Amendment SA 65 . (consideration: CR S789 ; text: CR S789 ) To clarify that the amendment shall not be construed as a declaration of war or an authorization of the use of military force.",
         "senate amendment proposed (on the floor)",
         "amendment",
         "989"
        ],
        [
         "37",
         "116",
         "1",
         "s",
         "S.Amdt.65 Amendment SA 65 proposed by Senator McConnell. (consideration: CR S732-733 ; text: CR S732-733 ) To express the sense of the Senate that the United States faces continuing threats from terrorist groups operating in Syria and Afghanistan and that the precipitous withdrawal of United States forces from either country could put at risk hard-won gains and United States national security.",
         "senate amendment proposed (on the floor)",
         "amendment",
         "858"
        ],
        [
         "42",
         "116",
         "2032",
         "s",
         "S.Amdt.2708 Amendment SA 2708 proposed by Senator Sasse for Senator Feinstein. (consideration: CR S7508 ; text: CR S7504-7507 ) In the nature of a substitute.",
         "senate amendment proposed (on the floor)",
         "amendment",
         "69"
        ],
        [
         "43",
         "116",
         "2052",
         "s",
         "S.Amdt.933 Amendment SA 933 proposed by Senator Cornyn for Senator Van Hollen. (consideration: CR S5217 ; text: CR S5217 ) To prohibit entitlement to benefits by reason of the honorary promotion.",
         "senate amendment proposed (on the floor)",
         "amendment",
         "609"
        ],
        [
         "44",
         "116",
         "2054",
         "s",
         "S.Amdt.2692 Amendment SA 2692 proposed by Senator Sasse for Senator Markey. (consideration: CR S7508-7509 ; text: CR S7508-7509 ) In the nature of a substitute.",
         "senate amendment proposed (on the floor)",
         "amendment",
         "69"
        ],
        [
         "48",
         "116",
         "2096",
         "s",
         "S.Amdt.1272 Amendment SA 1272 proposed by Senator McConnell for Senator Boozman. (consideration: CR S7232 ; text: CR S7232 ) In the nature of a substitute.",
         "senate amendment proposed (on the floor)",
         "amendment",
         "858"
        ],
        [
         "50",
         "116",
         "221",
         "s",
         "S.Amdt.1271 Amendment SA 1271 proposed by Senator McConnell for Senator Gardner. (consideration: CR S7229-7230 ; text: CR S7230 ) In the nature of a substitute.",
         "senate amendment proposed (on the floor)",
         "amendment",
         "858"
        ],
        [
         "52",
         "116",
         "2299",
         "s",
         "S.Amdt.2642 Amendment SA 2642 proposed by Senator McConnell for Senator Wicker. (consideration: CR S5354 ; text: CR S5337-5345 ) In the nature of a substitute.",
         "senate amendment proposed (on the floor)",
         "amendment",
         "858"
        ],
        [
         "53",
         "116",
         "2321",
         "s",
         "S.Amdt.1523 Amendment SA 1523 proposed by Senator McConnell for Senator Blunt. (consideration: CR S1612-1613 ; text: CR S1613 ) In the nature of a substitute.",
         "senate amendment proposed (on the floor)",
         "amendment",
         "858"
        ],
        [
         "56",
         "116",
         "2429",
         "s",
         "S.Amdt.2730 Amendment SA 2730 proposed by Senator Cornyn for Senator Rubio. (consideration: CR S7902 ; text: CR S7941-7948 ) In the nature of a substitute.",
         "senate amendment proposed (on the floor)",
         "amendment",
         "609"
        ],
        [
         "57",
         "116",
         "249",
         "s",
         "S.Amdt.1582 Amendment SA 1582 proposed by Senator McConnell for Senator Inhofe. (consideration: CR S2346-2347 ; text: CR S2346-2347 ) In the nature of a substitute.",
         "senate amendment proposed (on the floor)",
         "amendment",
         "858"
        ],
        [
         "60",
         "116",
         "2547",
         "s",
         "S.Amdt.1282 Amendment SA 1282 proposed by Senator McConnell for Senator Romney. (consideration: CR S200 ; text: CR S200 ) To modify a finding relating to the defense strategy of the United States.",
         "senate amendment proposed (on the floor)",
         "amendment",
         "858"
        ],
        [
         "63",
         "116",
         "2597",
         "s",
         "S.Amdt.2705 Amendment SA 2705 proposed by Senator McConnell for Senator Thune. (consideration: CR S7468-7469 ; text: CR S7469 ) In the nature of a substitute.",
         "senate amendment proposed (on the floor)",
         "amendment",
         "858"
        ],
        [
         "65",
         "116",
         "2693",
         "s",
         "S.Amdt.2669 Amendment SA 2669 proposed by Senator McConnell for Senator Schatz. (consideration: CR S5881-5882 ; text: CR S5881-5882 ) In the nature of a substitute.",
         "senate amendment proposed (on the floor)",
         "amendment",
         "858"
        ],
        [
         "69",
         "116",
         "2800",
         "s",
         "S.Amdt.2718 Amendment SA 2718 proposed by Senator Cruz. (consideration: CR S7666-7682 ; text: CR S7666-7682 ) In the nature of a substitute.",
         "senate amendment proposed (on the floor)",
         "amendment",
         "1102"
        ],
        [
         "70",
         "116",
         "2827",
         "s",
         "S.Amdt.2722 Amendment SA 2722 proposed by Senator Brown. (consideration: CR S7859 ; text: CR S7859 ) To amend the title.",
         "senate amendment proposed (on the floor)",
         "amendment",
         "1726"
        ],
        [
         "71",
         "116",
         "2827",
         "s",
         "S.Amdt.2721 Amendment SA 2721 proposed by Senator Brown. (consideration: CR S7859 ; text: CR S7859 ) In the nature of a substitute.",
         "senate amendment proposed (on the floor)",
         "amendment",
         "1726"
        ],
        [
         "79",
         "116",
         "3248",
         "s",
         "S.Amdt.2715 Amendment SA 2715 proposed by Senator Braun for Senator Moran. (consideration: CR S7641-7642 ; text: CR S7642 ) In the nature of a substitute.",
         "senate amendment proposed (on the floor)",
         "amendment",
         "839"
        ],
        [
         "80",
         "116",
         "3287",
         "s",
         "S.Amdt.2711 Amendment SA 2711 proposed by Senator Moran for Senator Enzi. (consideration: CR S7560 ; text: CR S7560 ) To improve the bill.",
         "senate amendment proposed (on the floor)",
         "amendment",
         "1490"
        ],
        [
         "89",
         "116",
         "384",
         "s",
         "S.Amdt.2567 Amendment SA 2567 proposed by Senator McConnell for Senator Capito. (consideration: CR S4881-4882 ; text: CR S4881-4882 ) In the nature of a substitute.",
         "senate amendment proposed (on the floor)",
         "amendment",
         "858"
        ],
        [
         "93",
         "116",
         "4049",
         "s",
         "S.Amdt.1972 Amendment SA 1972 proposed by Senator Tester to Amendment SA 2301 . (consideration: CR S4370-4371 , S4375 ) To expand the list of diseases associated with exposure to certain herbicide agents for which there is a presumption of service connection for veterans who served in the Republic of Vietnam.",
         "senate amendment proposed (on the floor)",
         "amendment",
         "658"
        ],
        [
         "94",
         "116",
         "4049",
         "s",
         "S.Amdt.2244 Amendment SA 2244 proposed by Senator Cornyn to Amendment SA 2301 . (consideration: CR S4326-4330 ; text: CR 6/29/2020 S3696 -3699) To restore American leadership in semiconductor manufacturing by increasing federal incentives in order to enable advanced research and development, secure the supply chain, and ensure long-term national security and economic competitiveness.",
         "senate amendment proposed (on the floor)",
         "amendment",
         "609"
        ],
        [
         "95",
         "116",
         "4049",
         "s",
         "S.Amdt.2252 Amendment SA 2252 proposed by Senator Schatz to Amendment SA 2301 . (consideration: CR S4316-4321 ; text: CR 6/29/2020 S3704 -3706) To reform Department of Defense transfers of personal property to law enforcement agencies.",
         "senate amendment proposed (on the floor)",
         "amendment",
         "132"
        ],
        [
         "96",
         "116",
         "4049",
         "s",
         "S.Amdt.2103 Amendment SA 2103 proposed by Senator Reed for Senator Hassan to Amendment SA 2301 . (consideration: CR S4184 ; text: CR S4196-4197 ) To improve the response of the Department of Defense to threats to United States forces from small unmanned aerial systems worldwide.",
         "senate amendment proposed (on the floor)",
         "amendment",
         "1465"
        ],
        [
         "97",
         "116",
         "4049",
         "s",
         "S.Amdt.1849 Amendment SA 1849 proposed by Senator Reed for Senator Van Hollen to Amendment SA 2301 . (consideration: CR S4184 ; text: CR S4196 ) For the relief of Richard W. Collins III.",
         "senate amendment proposed (on the floor)",
         "amendment",
         "1465"
        ],
        [
         "98",
         "116",
         "4049",
         "s",
         "S.Amdt.2419 Amendment SA 2419 proposed by Senator Reed for Senator Sanders to Amendment SA 2301 . (consideration: CR S4184 ; text: CR S4195-4196 ) To provide incentives for the Department of Defense to achieve a clean audit opinion on its financial statements.",
         "senate amendment proposed (on the floor)",
         "amendment",
         "1465"
        ],
        [
         "99",
         "116",
         "4049",
         "s",
         "S.Amdt.2341 Amendment SA 2341 proposed by Senator Reed for Senator Wyden to Amendment SA 2301 . (consideration: CR S4184 ; text: CR S4195 ) To require the Secretary of the Army to submit to Congress a plan to finish remediation activities conducted by the Secretary in Umatilla, Oregon.",
         "senate amendment proposed (on the floor)",
         "amendment",
         "1465"
        ],
        [
         "100",
         "116",
         "4049",
         "s",
         "S.Amdt.2319 Amendment SA 2319 proposed by Senator Reed for Senator Klobuchar to Amendment SA 2301 . (consideration: CR S4184 ; text: CR S4195 ) To provide an exception to the limitation on period of care provided to newborn children of veterans.",
         "senate amendment proposed (on the floor)",
         "amendment",
         "1465"
        ],
        [
         "101",
         "116",
         "4049",
         "s",
         "S.Amdt.2317 Amendment SA 2317 proposed by Senator Reed for Senator Harris to Amendment SA 2301 . (consideration: CR S4184 ; text: CR S4194-4195 ) To require the Secretary of Defense to commission an independent scientific study of the impacts of transboundary flows, spills, or discharges of pollution or debris from the Tijuana River on the personnel, activities, and installations of the Department of Defense.",
         "senate amendment proposed (on the floor)",
         "amendment",
         "1465"
        ],
        [
         "102",
         "116",
         "4049",
         "s",
         "S.Amdt.2257 Amendment SA 2257 proposed by Senator Reed for Senator Brown to Amendment SA 2301 . (consideration: CR S4184 ; text: CR S4194 ) To require a report on the use and potential refurbishment of existing operating and mothballed Federal research and testing facilities to support hypersonics activities of the Department of Defense.",
         "senate amendment proposed (on the floor)",
         "amendment",
         "1465"
        ],
        [
         "103",
         "116",
         "4049",
         "s",
         "S.Amdt.2220 Amendment SA 2220 proposed by Senator Reed for Senator Heinrich to Amendment SA 2301 . (consideration: CR S4184 ; text: CR S4193 ) To express the sense of the Senate on the extension of limitations on the importation of uranium from the Russian Federation.",
         "senate amendment proposed (on the floor)",
         "amendment",
         "1465"
        ],
        [
         "104",
         "116",
         "4049",
         "s",
         "S.Amdt.2217 Amendment SA 2217 proposed by Senator Reed for Senator Feinstein to Amendment SA 2301 . (consideration: CR S4184 ; text: CR S4192-4193 ) To require the Secretary of Defense to conduct a study on military aviators and aviation support personnel to determine the incidence of cancer diagnosis and mortality among such aviators and personnel.",
         "senate amendment proposed (on the floor)",
         "amendment",
         "1465"
        ],
        [
         "105",
         "116",
         "4049",
         "s",
         "S.Amdt.2168 Amendment SA 2168 proposed by Senator Reed for Senator Durbin to Amendment SA 2301 . (consideration: CR S4184 ; text: CR S4192 ) To express the Sense of Congress on support for coordinated action to ensure the security of Baltic allies.",
         "senate amendment proposed (on the floor)",
         "amendment",
         "1465"
        ],
        [
         "106",
         "116",
         "4049",
         "s",
         "S.Amdt.2053 Amendment SA 2053 proposed by Senator Reed for Senator Markey to Amendment SA 2301 . (consideration: CR S4184 ; text: CR S4192 ) To impose reporting requirements relating to the SBIR and STTR programs of the Small Business Administration.",
         "senate amendment proposed (on the floor)",
         "amendment",
         "1465"
        ],
        [
         "107",
         "116",
         "4049",
         "s",
         "S.Amdt.1971 Amendment SA 1971 proposed by Senator Reed for Senator Tester to Amendment SA 2301 . (consideration: CR S4184 ; text: CR S4192 ) To require the Secretary of Veterans Affairs to provide veterans read-only access to the documents of such veterans contained in the Individual Longitudinal Exposure Record.",
         "senate amendment proposed (on the floor)",
         "amendment",
         "1465"
        ]
       ],
       "shape": {
        "columns": 7,
        "rows": 1529
       }
      },
      "text/html": [
       "<div>\n",
       "<style scoped>\n",
       "    .dataframe tbody tr th:only-of-type {\n",
       "        vertical-align: middle;\n",
       "    }\n",
       "\n",
       "    .dataframe tbody tr th {\n",
       "        vertical-align: top;\n",
       "    }\n",
       "\n",
       "    .dataframe thead th {\n",
       "        text-align: right;\n",
       "    }\n",
       "</style>\n",
       "<table border=\"1\" class=\"dataframe\">\n",
       "  <thead>\n",
       "    <tr style=\"text-align: right;\">\n",
       "      <th></th>\n",
       "      <th>Congress</th>\n",
       "      <th>bill_number</th>\n",
       "      <th>bill_type</th>\n",
       "      <th>action</th>\n",
       "      <th>main_action</th>\n",
       "      <th>category</th>\n",
       "      <th>member_id</th>\n",
       "    </tr>\n",
       "  </thead>\n",
       "  <tbody>\n",
       "    <tr>\n",
       "      <th>0</th>\n",
       "      <td>116</td>\n",
       "      <td>1029</td>\n",
       "      <td>s</td>\n",
       "      <td>S.Amdt.1274 Amendment SA 1274 proposed by Sena...</td>\n",
       "      <td>senate amendment proposed (on the floor)</td>\n",
       "      <td>amendment</td>\n",
       "      <td>858</td>\n",
       "    </tr>\n",
       "    <tr>\n",
       "      <th>1</th>\n",
       "      <td>116</td>\n",
       "      <td>1031</td>\n",
       "      <td>s</td>\n",
       "      <td>S.Amdt.2698 Amendment SA 2698 proposed by Sena...</td>\n",
       "      <td>senate amendment proposed (on the floor)</td>\n",
       "      <td>amendment</td>\n",
       "      <td>675</td>\n",
       "    </tr>\n",
       "    <tr>\n",
       "      <th>2</th>\n",
       "      <td>116</td>\n",
       "      <td>1160</td>\n",
       "      <td>s</td>\n",
       "      <td>S.Amdt.2659 Amendment SA 2659 proposed by Sena...</td>\n",
       "      <td>senate amendment proposed (on the floor)</td>\n",
       "      <td>amendment</td>\n",
       "      <td>858</td>\n",
       "    </tr>\n",
       "    <tr>\n",
       "      <th>8</th>\n",
       "      <td>116</td>\n",
       "      <td>1253</td>\n",
       "      <td>s</td>\n",
       "      <td>S.Amdt.2424 Amendment SA 2424 proposed by Sena...</td>\n",
       "      <td>senate amendment proposed (on the floor)</td>\n",
       "      <td>amendment</td>\n",
       "      <td>297</td>\n",
       "    </tr>\n",
       "    <tr>\n",
       "      <th>11</th>\n",
       "      <td>116</td>\n",
       "      <td>1309</td>\n",
       "      <td>s</td>\n",
       "      <td>S.Amdt.1275 Amendment SA 1275 proposed by Sena...</td>\n",
       "      <td>senate amendment proposed (on the floor)</td>\n",
       "      <td>amendment</td>\n",
       "      <td>858</td>\n",
       "    </tr>\n",
       "    <tr>\n",
       "      <th>...</th>\n",
       "      <td>...</td>\n",
       "      <td>...</td>\n",
       "      <td>...</td>\n",
       "      <td>...</td>\n",
       "      <td>...</td>\n",
       "      <td>...</td>\n",
       "      <td>...</td>\n",
       "    </tr>\n",
       "    <tr>\n",
       "      <th>3298</th>\n",
       "      <td>116</td>\n",
       "      <td>9</td>\n",
       "      <td>hr</td>\n",
       "      <td>H.Amdt.172 Amendment (A004) offered by Ms. Kus...</td>\n",
       "      <td>house amendment offered</td>\n",
       "      <td>amendment</td>\n",
       "      <td>36</td>\n",
       "    </tr>\n",
       "    <tr>\n",
       "      <th>3299</th>\n",
       "      <td>116</td>\n",
       "      <td>9</td>\n",
       "      <td>hr</td>\n",
       "      <td>H.Amdt.171 Amendment (A003) offered by Ms. Hou...</td>\n",
       "      <td>house amendment offered</td>\n",
       "      <td>amendment</td>\n",
       "      <td>186</td>\n",
       "    </tr>\n",
       "    <tr>\n",
       "      <th>3300</th>\n",
       "      <td>116</td>\n",
       "      <td>9</td>\n",
       "      <td>hr</td>\n",
       "      <td>H.Amdt.170 Amendment (A002) offered by Ms. Oma...</td>\n",
       "      <td>house amendment offered</td>\n",
       "      <td>amendment</td>\n",
       "      <td>477</td>\n",
       "    </tr>\n",
       "    <tr>\n",
       "      <th>3301</th>\n",
       "      <td>116</td>\n",
       "      <td>9</td>\n",
       "      <td>hr</td>\n",
       "      <td>POSTPONED PROCEEDINGS - At the conclusion of d...</td>\n",
       "      <td>other house amendment actions</td>\n",
       "      <td>amendment</td>\n",
       "      <td>393</td>\n",
       "    </tr>\n",
       "    <tr>\n",
       "      <th>3302</th>\n",
       "      <td>116</td>\n",
       "      <td>9</td>\n",
       "      <td>hr</td>\n",
       "      <td>H.Amdt.169 Amendment (A001) offered by Mr. Esp...</td>\n",
       "      <td>house amendment offered</td>\n",
       "      <td>amendment</td>\n",
       "      <td>6</td>\n",
       "    </tr>\n",
       "  </tbody>\n",
       "</table>\n",
       "<p>1529 rows × 7 columns</p>\n",
       "</div>"
      ],
      "text/plain": [
       "      Congress  bill_number bill_type  \\\n",
       "0          116         1029         s   \n",
       "1          116         1031         s   \n",
       "2          116         1160         s   \n",
       "8          116         1253         s   \n",
       "11         116         1309         s   \n",
       "...        ...          ...       ...   \n",
       "3298       116            9        hr   \n",
       "3299       116            9        hr   \n",
       "3300       116            9        hr   \n",
       "3301       116            9        hr   \n",
       "3302       116            9        hr   \n",
       "\n",
       "                                                 action  \\\n",
       "0     S.Amdt.1274 Amendment SA 1274 proposed by Sena...   \n",
       "1     S.Amdt.2698 Amendment SA 2698 proposed by Sena...   \n",
       "2     S.Amdt.2659 Amendment SA 2659 proposed by Sena...   \n",
       "8     S.Amdt.2424 Amendment SA 2424 proposed by Sena...   \n",
       "11    S.Amdt.1275 Amendment SA 1275 proposed by Sena...   \n",
       "...                                                 ...   \n",
       "3298  H.Amdt.172 Amendment (A004) offered by Ms. Kus...   \n",
       "3299  H.Amdt.171 Amendment (A003) offered by Ms. Hou...   \n",
       "3300  H.Amdt.170 Amendment (A002) offered by Ms. Oma...   \n",
       "3301  POSTPONED PROCEEDINGS - At the conclusion of d...   \n",
       "3302  H.Amdt.169 Amendment (A001) offered by Mr. Esp...   \n",
       "\n",
       "                                   main_action   category  member_id  \n",
       "0     senate amendment proposed (on the floor)  amendment        858  \n",
       "1     senate amendment proposed (on the floor)  amendment        675  \n",
       "2     senate amendment proposed (on the floor)  amendment        858  \n",
       "8     senate amendment proposed (on the floor)  amendment        297  \n",
       "11    senate amendment proposed (on the floor)  amendment        858  \n",
       "...                                        ...        ...        ...  \n",
       "3298                   house amendment offered  amendment         36  \n",
       "3299                   house amendment offered  amendment        186  \n",
       "3300                   house amendment offered  amendment        477  \n",
       "3301             other house amendment actions  amendment        393  \n",
       "3302                   house amendment offered  amendment          6  \n",
       "\n",
       "[1529 rows x 7 columns]"
      ]
     },
     "metadata": {},
     "output_type": "display_data"
    }
   ],
   "source": [
    "display(amendments)"
   ]
  },
  {
   "attachments": {},
   "cell_type": "markdown",
   "metadata": {},
   "source": [
    "<font size = \"5\">\n",
    "\n",
    "Search word"
   ]
  },
  {
   "cell_type": "code",
   "execution_count": null,
   "metadata": {},
   "outputs": [
    {
     "data": {
      "text/plain": [
       "0       [Amdt.1274 ]\n",
       "1       [Amdt.2698 ]\n",
       "2       [Amdt.2659 ]\n",
       "8       [Amdt.2424 ]\n",
       "11      [Amdt.1275 ]\n",
       "            ...     \n",
       "3298    [Amdt.172 A]\n",
       "3299    [Amdt.171 A]\n",
       "3300    [Amdt.170 A]\n",
       "3301              []\n",
       "3302    [Amdt.169 A]\n",
       "Name: action, Length: 1529, dtype: object"
      ]
     },
     "execution_count": 14,
     "metadata": {},
     "output_type": "execute_result"
    }
   ],
   "source": [
    "# We use the \".str.findall()\" subfunction\n",
    "# The argument is an expression\n",
    "\n",
    "# \"Amdt\\.....\\D\" just means the rows that will be selected will have:\n",
    "# \"Amdt\"\n",
    "# \"\\.\" = just a \".\"   -> since a \".\" means something in regex, we need to have a \"\\\"\" before the \".\" to indicate that we mean the literal \".\"\n",
    "# \"....\"  -> 4 dots means any 4 characters after the actual \".\"\n",
    "# \"\\D\"  -> matches 1 non-digit character (so basically any character other than 0-9)\n",
    "\n",
    "# code goes thru every observation and looks at the action column -> if there is a string that matches these requirements,\n",
    "# it is extracted thru the findall function\n",
    "amendments[\"action\"].str.findall(\"Amdt\\.....\\D\")"
   ]
  },
  {
   "attachments": {},
   "cell_type": "markdown",
   "metadata": {},
   "source": [
    "<font size = \"5\">\n",
    "\n",
    "Wildcards\n",
    "\n",
    "$\\quad$ <img src=\"figures/wildcards_regex1.png\" alt=\"drawing\" width=\"300\"/>"
   ]
  },
  {
   "cell_type": "code",
   "execution_count": 15,
   "metadata": {},
   "outputs": [
    {
     "data": {
      "text/plain": [
       "0       [Amdt.1]\n",
       "1       [Amdt.2]\n",
       "2       [Amdt.2]\n",
       "8       [Amdt.2]\n",
       "11      [Amdt.1]\n",
       "          ...   \n",
       "3298    [Amdt.1]\n",
       "3299    [Amdt.1]\n",
       "3300    [Amdt.1]\n",
       "3301          []\n",
       "3302    [Amdt.1]\n",
       "Name: action, Length: 1529, dtype: object"
      ]
     },
     "metadata": {},
     "output_type": "display_data"
    },
    {
     "data": {
      "text/plain": [
       "0       [.Amdt.]\n",
       "1       [.Amdt.]\n",
       "2       [.Amdt.]\n",
       "8       [.Amdt.]\n",
       "11      [.Amdt.]\n",
       "          ...   \n",
       "3298    [.Amdt.]\n",
       "3299    [.Amdt.]\n",
       "3300    [.Amdt.]\n",
       "3301          []\n",
       "3302    [.Amdt.]\n",
       "Name: action, Length: 1529, dtype: object"
      ]
     },
     "metadata": {},
     "output_type": "display_data"
    },
    {
     "data": {
      "text/plain": [
       "0       [S.Amdt.127]\n",
       "1       [S.Amdt.269]\n",
       "2       [S.Amdt.265]\n",
       "8       [S.Amdt.242]\n",
       "11      [S.Amdt.127]\n",
       "            ...     \n",
       "3298    [H.Amdt.172]\n",
       "3299    [H.Amdt.171]\n",
       "3300    [H.Amdt.170]\n",
       "3301              []\n",
       "3302    [H.Amdt.169]\n",
       "Name: action, Length: 1529, dtype: object"
      ]
     },
     "metadata": {},
     "output_type": "display_data"
    }
   ],
   "source": [
    "# Get digits after string\n",
    "example1 = amendments[\"action\"].str.findall(\"Amdt\\..\")\n",
    "\n",
    "# Get any character before string\n",
    "example2 = amendments[\"action\"].str.findall(\".Amdt\\.\")\n",
    "\n",
    "# Get two characters before string\n",
    "example3 = amendments[\"action\"].str.findall(\"..Amdt\\....\")\n",
    "\n",
    "display(example1)\n",
    "display(example2)\n",
    "display(example3)"
   ]
  },
  {
   "attachments": {},
   "cell_type": "markdown",
   "metadata": {},
   "source": [
    "<font size = \"5\">\n",
    "\n",
    "Wildcards + Quantifiers\n",
    "\n",
    "$\\quad$ <img src=\"figures/wildcards_regex2.png\" alt=\"drawing\" width=\"300\"/>"
   ]
  },
  {
   "cell_type": "code",
   "execution_count": null,
   "metadata": {},
   "outputs": [
    {
     "data": {
      "text/plain": [
       "0       [S.Amdt.1274]\n",
       "1       [S.Amdt.2698]\n",
       "2       [S.Amdt.2659]\n",
       "8       [S.Amdt.2424]\n",
       "11      [S.Amdt.1275]\n",
       "            ...      \n",
       "3298     [H.Amdt.172]\n",
       "3299     [H.Amdt.171]\n",
       "3300     [H.Amdt.170]\n",
       "3301               []\n",
       "3302     [H.Amdt.169]\n",
       "Name: action, Length: 1529, dtype: object"
      ]
     },
     "execution_count": 16,
     "metadata": {},
     "output_type": "execute_result"
    }
   ],
   "source": [
    "# \"*\" is associated wth the preceeding character\n",
    "# \".*Amdt\\S*\" means:\n",
    "# \".*\"   -> any character and all those like it (aka everything preceeding Amdt will be extracted)\n",
    "# \"Amdt\"\n",
    "# \"\\S*\"  -> non-whitespace character and all those like it (aka will keep extracting if the following character is a non-whitespace character; will stop when string reaches a character that is NOT non-whitespace)\n",
    "\n",
    "amendments[\"action\"].str.findall(\".*Amdt\\S*\")"
   ]
  },
  {
   "cell_type": "code",
   "execution_count": 22,
   "metadata": {},
   "outputs": [
    {
     "data": {
      "text/plain": [
       "0       [Amdt.1274]\n",
       "1       [Amdt.2698]\n",
       "2       [Amdt.2659]\n",
       "8       [Amdt.2424]\n",
       "11      [Amdt.1275]\n",
       "           ...     \n",
       "3298     [Amdt.172]\n",
       "3299     [Amdt.171]\n",
       "3300     [Amdt.170]\n",
       "3301             []\n",
       "3302     [Amdt.169]\n",
       "Name: action, Length: 1529, dtype: object"
      ]
     },
     "metadata": {},
     "output_type": "display_data"
    },
    {
     "data": {
      "text/plain": [
       "0       [S.Amdt.]\n",
       "1       [S.Amdt.]\n",
       "2       [S.Amdt.]\n",
       "8       [S.Amdt.]\n",
       "11      [S.Amdt.]\n",
       "          ...    \n",
       "3298    [H.Amdt.]\n",
       "3299    [H.Amdt.]\n",
       "3300    [H.Amdt.]\n",
       "3301           []\n",
       "3302    [H.Amdt.]\n",
       "Name: action, Length: 1529, dtype: object"
      ]
     },
     "metadata": {},
     "output_type": "display_data"
    }
   ],
   "source": [
    "# Get all consecutive digits after string\n",
    "example4 = amendments[\"action\"].str.findall(\"Amdt\\.\\d*\")\n",
    "\n",
    "# Get all consecutive characters before string\n",
    "example5 = amendments[\"action\"].str.findall(\".*Amdt\\.\")\n",
    "\n",
    "display(example4)\n",
    "display(example5)\n"
   ]
  },
  {
   "attachments": {},
   "cell_type": "markdown",
   "metadata": {},
   "source": [
    "<font size = \"5\">\n",
    "\n",
    "Try it yourself\n",
    "\n",
    "- Practice using the ```senate_bills``` dataset\n",
    "- Use ```.str.findall()``` to find the word \"Senator\"\n",
    "- Use the regular expression ```\"Senator \\S``` to extract <br>\n",
    " the the first letter of senator\n",
    "- Use ```*``` to extract senator names"
   ]
  },
  {
   "cell_type": "code",
   "execution_count": 19,
   "metadata": {},
   "outputs": [
    {
     "data": {
      "text/plain": [
       "3      [Senator A]\n",
       "4      [Senator G]\n",
       "5      [Senator G]\n",
       "6      [Senator W]\n",
       "7      [Senator M]\n",
       "          ...     \n",
       "795    [Senator J]\n",
       "796             []\n",
       "797    [Senator H]\n",
       "798             []\n",
       "799    [Senator G]\n",
       "Name: action, Length: 514, dtype: object"
      ]
     },
     "metadata": {},
     "output_type": "display_data"
    },
    {
     "data": {
      "text/plain": [
       "3      [Senator Alexander]\n",
       "4         [Senator Graham]\n",
       "5         [Senator Graham]\n",
       "6         [Senator Wicker]\n",
       "7          [Senator Moran]\n",
       "              ...         \n",
       "795      [Senator Johnson]\n",
       "796                     []\n",
       "797       [Senator Hoeven]\n",
       "798                     []\n",
       "799       [Senator Graham]\n",
       "Name: action, Length: 514, dtype: object"
      ]
     },
     "metadata": {},
     "output_type": "display_data"
    }
   ],
   "source": [
    "# Write your own code\n",
    "\n",
    "display(senate_bills[\"action\"].str.findall(\"Senator \\S\"))\n",
    "display(senate_bills[\"action\"].str.findall(\"Senator \\S*\"))"
   ]
  }
 ],
 "metadata": {
  "kernelspec": {
   "display_name": "base",
   "language": "python",
   "name": "python3"
  },
  "language_info": {
   "codemirror_mode": {
    "name": "ipython",
    "version": 3
   },
   "file_extension": ".py",
   "mimetype": "text/x-python",
   "name": "python",
   "nbconvert_exporter": "python",
   "pygments_lexer": "ipython3",
   "version": "3.10.9"
  },
  "orig_nbformat": 4
 },
 "nbformat": 4,
 "nbformat_minor": 2
}
